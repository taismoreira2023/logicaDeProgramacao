{
 "cells": [
  {
   "cell_type": "markdown",
   "metadata": {},
   "source": [
    "1. Escreva um código que lê a lista abaixo e faça:\n",
    "\n",
    "lista = [16, 14, 63, 65, 17, 99, 70, 11, 20, 48, 79, 32, 17, 89, 12, 25, 66]\n",
    "\n",
    "A leitura do tamanho da lista\n",
    "\n",
    "A leitura do maior e menor valor\n",
    "\n",
    "A soma dos valores da lista\n",
    "\n",
    "Ao final exiba uma mensagem dizendo\n",
    "\n",
    "\"A lista possui [tam] números em que o maior número é [maior] e o menor número é [menor]. A soma dos valores presentes nela é igual a [soma]\"\n",
    "\n",
    "Dica: use as funções embutidas presentes na documentação do Python."
   ]
  },
  {
   "cell_type": "code",
   "execution_count": null,
   "metadata": {},
   "outputs": [],
   "source": [
    "lst = [16, 14, 63, 65, 17, 99, 70, 11, 20, 48, 79, 32, 17, 89, 12, 25, 66]\n",
    "\n",
    "print(f\"A lista possui {len(lst)} números em que o maior número é {max(lst)} e o menor número é {min(lst)}. A soma dos valores presentes nela é igual a {sum(lst)}\")\n"
   ]
  },
  {
   "cell_type": "markdown",
   "metadata": {},
   "source": [
    "2. Escreva uma função que gere a tabuada de um número inteiro de 1 a 10, de acordo com a escolha da pessoa usuária. Como exemplo, para o número 7, a tabuada deve ser mostrada no seguinte formato:\n",
    "\n",
    "Tabuada do 7:\n",
    "\n",
    "7 x 0 = 0\n",
    "\n",
    "7 x 1 = 7\n",
    "\n",
    "[...]\n",
    "\n",
    "7 x 10 = 70\n"
   ]
  },
  {
   "cell_type": "code",
   "execution_count": null,
   "metadata": {},
   "outputs": [],
   "source": [
    "num = 7\n",
    "for i in range(10): print(f\"{num} x {i} = {num*i}\")"
   ]
  },
  {
   "cell_type": "markdown",
   "metadata": {},
   "source": [
    "Crie a função que leia a lista abaixo e retorne uma nova lista com os múltiplos de 3:\n",
    "\n",
    "[97, 80, 94, 88, 80, 1, 16, 53, 62, 32, 24, 99]\n",
    "\n",
    "Utilize o return na função e salve a nova lista na variável mult_3."
   ]
  },
  {
   "cell_type": "code",
   "execution_count": null,
   "metadata": {},
   "outputs": [],
   "source": [
    "num = [97, 80, 94, 88, 80, 1, 16, 53, 62, 32, 24, 99]\n",
    "multiplesOfThree = []\n",
    "\n",
    "def multiplesOfThreeFunction():\n",
    "  for i in range(len(num)):\n",
    "    if num[i] % 3 == 0:\n",
    "      multiplesOfThree.append(num[i])\n",
    "\n",
    "  return multiplesOfThree\n",
    "\n",
    "multiplesOfThreeFunction()\n"
   ]
  },
  {
   "cell_type": "markdown",
   "metadata": {},
   "source": [
    "Crie uma lista dos quadrados dos números da seguinte lista [1, 2, 3, 4, 5, 6, 7, 8, 9, 10].\n",
    "\n",
    "Lembre-se de utilizar as funções lambda e map() para calcular o quadrado de cada elemento da lista.\n"
   ]
  },
  {
   "cell_type": "code",
   "execution_count": null,
   "metadata": {},
   "outputs": [],
   "source": [
    "nums = [1, 2, 3, 4, 5, 6, 7, 8, 9, 10]\n",
    "squares = list(map(lambda x: x**2, nums))\n",
    "print(squares)\n",
    "\n"
   ]
  },
  {
   "cell_type": "markdown",
   "metadata": {},
   "source": [
    "5. Você foi contratado(a) como cientista de dados de uma associação de skate. Para analisar as notas recebidas de skatistas em algumas competições ao longo do ano, você precisa criar um código que calcula a pontuação dos(as) atletas. Para isso, o seu código deve receber 5 notas digitadas pelas pessoas juradas.\n",
    "\n",
    "Para calcular a pontuação de um(a) skatista, você precisa eliminar a maior e a menor pontuação dentre as 5 notas e tirar a média das 3 notas que sobraram. Retorne a média para apresentar o texto:\n",
    "\n",
    "\"Nota da manobra: [media]\""
   ]
  },
  {
   "cell_type": "code",
   "execution_count": null,
   "metadata": {},
   "outputs": [],
   "source": [
    "grades = [float(input(f\"insira a nota /{i+1}: \")) for i in range(5)]\n",
    "\n",
    "grades.remove(max(grades))\n",
    "grades.remove(min(grades))\n",
    "\n",
    "average = sum(grades) / len(grades)\n",
    "\n",
    "average\n"
   ]
  },
  {
   "cell_type": "markdown",
   "metadata": {},
   "source": [
    "6. Para atender a uma demanda de uma instituição de ensino para a análise do desempenho de seus(suas) estudantes, você precisa criar uma função que receba uma lista de 4 notas e retorne:\n",
    "\n",
    "maior nota\n",
    "\n",
    "menor nota\n",
    "\n",
    "média\n",
    "\n",
    "situação (Aprovado(a) ou Reprovado(a))\n",
    "\n",
    "Para testar o comportamento da função, os dados podem ser exibidos em um texto:\n",
    "\n",
    "\"O(a) estudante obteve uma média de [media], com a sua maior nota de [maior] pontos e a menor nota de [menor] pontos e foi [situacao]\"\n"
   ]
  },
  {
   "cell_type": "code",
   "execution_count": null,
   "metadata": {},
   "outputs": [],
   "source": [
    "student_grades = [float(input(f\"informe a nota {i + 1}: \")) for i in range(4)]\n",
    "\n",
    "highest = max(student_grades)\n",
    "lowest = min(student_grades)\n",
    "average = sum(student_grades) / len(student_grades)\n",
    "status = \"Approved\" if average >= 6 else \"Failed\"\n",
    "\n",
    "\n",
    "print(f\"O(a) estudante obteve uma média de {average}, com a sua maior nota de {highest} pontos e a menor nota de {lowest} pontos e foi {status}\")\n",
    "\n",
    "\n",
    "\n",
    "\n"
   ]
  },
  {
   "cell_type": "markdown",
   "metadata": {},
   "source": [
    "7. Você recebeu uma demanda para tratar 2 listas com os nomes e sobrenomes de cada estudante concatenando-as para apresentar seus nomes completos na forma Nome Sobrenome. As listas são:\n",
    "\n",
    "nomes = [\"joão\", \"MaRia\", \"JOSÉ\"]\n",
    "\n",
    "sobrenomes = [\"SILVA\", \"souza\", \"Tavares\"]\n",
    "\n",
    "O texto exibido ao fim deve ser parecido com:\n",
    "\n",
    "\"Nome completo: Ana Silva\"\n",
    "\n",
    "Dica: utilize a função map para mapear os nomes e sobrenomes e as funções de string para tratar o texto."
   ]
  },
  {
   "cell_type": "code",
   "execution_count": null,
   "metadata": {},
   "outputs": [],
   "source": [
    "names = [\"joão\", \"MaRia\", \"JOSÉ\"]\n",
    "last_names = [\"SILVA\", \"souza\", \"Tavares\"]\n",
    "full_names = list(map(lambda name, last_name: name.capitalize() + \" \" + last_name.capitalize(), names, last_names))\n",
    "full_names\n"
   ]
  },
  {
   "cell_type": "markdown",
   "metadata": {},
   "source": [
    "Como cientista de dados em um time de futebol, você precisa implementar novas formas de coleta de dados sobre o desempenho de jogadores e do time como um todo. Sua primeira ação é criar uma forma de calcular a pontuação do time no campeonato nacional a partir dos dados de gols marcados e sofridos em cada jogo.\n",
    "\n",
    "Escreva uma função chamada calcula_pontos que recebe como parâmetros duas listas de números inteiros, representando os gols marcados e sofridos pelo time em cada partida do campeonato. A função deve retornar a pontuação do time e o aproveitamento em percentual, levando em consideração que a vitória vale 3 pontos, o empate vale 1 ponto e a derrota 0 pontos.\n",
    "\n",
    "Observação: se a quantidade de gols marcados numa partida for maior que a de sofridos, o time venceu. Caso seja igual, o time empatou e se for menor, o time perdeu. Para calcular o aproveitamento devemos fazer a razão entre a pontuação do time pela pontuação máxima que ele poderia receber.\n",
    "\n",
    "Para teste, utilize as seguintes listas de gols marcados e sofridos:\n",
    "\n",
    "gols_marcados = [2, 1, 3, 1, 0]\n",
    "gols_sofridos = [1, 2, 2, 1, 3]\n",
    "Provável texto exibido:\n",
    "\n",
    "\"A pontuação do time foi de [pontos] e seu aproveitamento foi de [aprov]%\"\n"
   ]
  },
  {
   "cell_type": "code",
   "execution_count": null,
   "metadata": {},
   "outputs": [],
   "source": [
    "def calculate_points(goals_scored, goals_conceded):\n",
    "\n",
    "    points = sum(3 if gs > gc else 1 if gs == gc else 0 for gs, gc in zip(goals_scored, goals_conceded))\n",
    "    \n",
    "    matches = len(goals_scored)\n",
    "    max_points = matches * 3\n",
    "\n",
    "    efficiency = (points / max_points) * 100\n",
    "    \n",
    "    print(f\"A pontuação do time foi de {points} e seu aproveitamento foi de {efficiency:.2f}%\")\n",
    "\n",
    "goals_scored = [2, 1, 3, 1, 0]\n",
    "goals_conceded = [1, 2, 2, 1, 3]\n",
    "\n",
    "calculate_points(goals_scored, goals_conceded)\n"
   ]
  },
  {
   "cell_type": "markdown",
   "metadata": {},
   "source": [
    "9. Você recebeu o desafio de criar um código que calcula os gastos de uma viagem para um das quatro cidades partindo de Recife, sendo elas: Salvador, Fortaleza, Natal e Aracaju.\n",
    "\n",
    "O custo da diária do hotel é de 150 reais em todas elas e o consumo de gasolina na viagem de carro é de 14 km/l, sendo que o valor da gasolina é de 5 reais o litro. O gastos com passeios e alimentação a se fazer em cada uma delas por dia seria de [200, 400, 250, 300], respectivamente.\n",
    "\n",
    "Sabendo que as distâncias entre Recife e cada uma das cidades é de aproximadamente [850, 800, 300, 550] km, crie três funções nas quais: a 1ª função calcule os gastos com hotel (gasto_hotel), a 2ª calcule os gastos com a gasolina (gasto_gasolina) e a 3ª os gastos com passeio e alimentação (gasto_passeio).\n",
    "\n",
    "Para testar, simule uma viagem de 3 dias para Salvador partindo de Recife. Considere a viagem de ida e volta de carro.\n",
    "\n",
    "\"Com base nos gastos definidos, uma viagem de [dias] dias para [cidade] saindo de Recife custaria [gastos] reais\"\n"
   ]
  },
  {
   "cell_type": "code",
   "execution_count": null,
   "metadata": {},
   "outputs": [],
   "source": []
  },
  {
   "cell_type": "markdown",
   "metadata": {},
   "source": [
    "10. Você iniciou um estágio em uma empresa que trabalha com processamento de linguagem natural (NLP). Sua líder requisitou que você criasse um trecho de código que recebe uma frase digitada pela pessoa usuária e filtre apenas as palavras com tamanho maior ou igual a 5, exibindo-as em uma lista. Essa demanda é voltada para a análise do padrão de comportamento de pessoas na escrita de palavras acima dessa quantidade de caracteres.\n",
    "\n",
    "Dica: utilize as funções lambda e filter() para filtrar essas palavras. Lembrando que a função embutida filter() recebe uma função (no nosso exemplo uma função lambda) e filtra um iterável de acordo com a função. Para tratar a frase use replace() para trocar a ',' '.', '!' e '?' por espaço.\n",
    "\n",
    "Use a frase \"Aprender Python aqui na Alura é muito bom\" para testar o código."
   ]
  },
  {
   "cell_type": "code",
   "execution_count": null,
   "metadata": {},
   "outputs": [],
   "source": []
  }
 ],
 "metadata": {
  "kernelspec": {
   "display_name": "Python 3",
   "language": "python",
   "name": "python3"
  },
  "language_info": {
   "name": "python",
   "version": "3.11.9"
  }
 },
 "nbformat": 4,
 "nbformat_minor": 2
}
