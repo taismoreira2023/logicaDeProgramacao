{
 "cells": [
  {
   "cell_type": "markdown",
   "metadata": {
    "id": "wQdIhNzOJrQx"
   },
   "source": [
    "Intalação das blibliotecas:\n",
    "\n",
    "*   Pip: gerenciador de bibliotecas e pacotes no python\n",
    "*   Matplotlib: biblioteca para visualização de dados\n",
    "\n"
   ]
  },
  {
   "cell_type": "markdown",
   "metadata": {
    "id": "OP83hU1WKpqv"
   },
   "source": [
    "Porque usar uma versão específica de uma biblioteca?\n",
    "\n",
    "*   Usar versões específicas garante compatibilidade, estabilidade, acesso a recursos necessários e evita problemas com mudanças ou quebras em atualizações.\n",
    "\n",
    "ps: Se preciso reinicie a sessão\n",
    "\n"
   ]
  },
  {
   "cell_type": "code",
   "execution_count": 3,
   "metadata": {
    "colab": {
     "base_uri": "https://localhost:8080/"
    },
    "id": "s-1dA2ANJVNT",
    "outputId": "c993754b-9199-469f-9358-8d6f05bc46ff"
   },
   "outputs": [
    {
     "name": "stderr",
     "output_type": "stream",
     "text": [
      "\n",
      "[notice] A new release of pip is available: 24.0 -> 24.3.1\n",
      "[notice] To update, run: python.exe -m pip install --upgrade pip\n"
     ]
    },
    {
     "name": "stdout",
     "output_type": "stream",
     "text": [
      "Collecting matplotlib\n",
      "  Downloading matplotlib-3.9.3-cp312-cp312-win_amd64.whl.metadata (11 kB)\n",
      "Collecting contourpy>=1.0.1 (from matplotlib)\n",
      "  Downloading contourpy-1.3.1-cp312-cp312-win_amd64.whl.metadata (5.4 kB)\n",
      "Collecting cycler>=0.10 (from matplotlib)\n",
      "  Downloading cycler-0.12.1-py3-none-any.whl.metadata (3.8 kB)\n",
      "Collecting fonttools>=4.22.0 (from matplotlib)\n",
      "  Downloading fonttools-4.55.2-cp312-cp312-win_amd64.whl.metadata (168 kB)\n",
      "     ---------------------------------------- 0.0/168.3 kB ? eta -:--:--\n",
      "     ---------------------------------------- 0.0/168.3 kB ? eta -:--:--\n",
      "     ---------------------------------------- 0.0/168.3 kB ? eta -:--:--\n",
      "     ---------------------------------------- 0.0/168.3 kB ? eta -:--:--\n",
      "     ---------------------------------------- 0.0/168.3 kB ? eta -:--:--\n",
      "     ---------------------------------------- 0.0/168.3 kB ? eta -:--:--\n",
      "     ------- -------------------------------- 30.7/168.3 kB ? eta -:--:--\n",
      "     --------- --------------------------- 41.0/168.3 kB 653.6 kB/s eta 0:00:01\n",
      "     -------------------- ---------------- 92.2/168.3 kB 871.5 kB/s eta 0:00:01\n",
      "     -------------------- ---------------- 92.2/168.3 kB 871.5 kB/s eta 0:00:01\n",
      "     -------------------- ---------------- 92.2/168.3 kB 871.5 kB/s eta 0:00:01\n",
      "     -------------------- ---------------- 92.2/168.3 kB 871.5 kB/s eta 0:00:01\n",
      "     -----------------------------------  163.8/168.3 kB 490.7 kB/s eta 0:00:01\n",
      "     ------------------------------------ 168.3/168.3 kB 439.1 kB/s eta 0:00:00\n",
      "Collecting kiwisolver>=1.3.1 (from matplotlib)\n",
      "  Downloading kiwisolver-1.4.7-cp312-cp312-win_amd64.whl.metadata (6.4 kB)\n",
      "Requirement already satisfied: numpy>=1.23 in c:\\users\\pc\\appdata\\local\\programs\\python\\python312\\lib\\site-packages (from matplotlib) (2.1.3)\n",
      "Requirement already satisfied: packaging>=20.0 in c:\\users\\pc\\appdata\\roaming\\python\\python312\\site-packages (from matplotlib) (24.2)\n",
      "Collecting pillow>=8 (from matplotlib)\n",
      "  Downloading pillow-11.0.0-cp312-cp312-win_amd64.whl.metadata (9.3 kB)\n",
      "Collecting pyparsing>=2.3.1 (from matplotlib)\n",
      "  Downloading pyparsing-3.2.0-py3-none-any.whl.metadata (5.0 kB)\n",
      "Requirement already satisfied: python-dateutil>=2.7 in c:\\users\\pc\\appdata\\roaming\\python\\python312\\site-packages (from matplotlib) (2.9.0.post0)\n",
      "Requirement already satisfied: six>=1.5 in c:\\users\\pc\\appdata\\roaming\\python\\python312\\site-packages (from python-dateutil>=2.7->matplotlib) (1.16.0)\n",
      "Downloading matplotlib-3.9.3-cp312-cp312-win_amd64.whl (7.8 MB)\n",
      "   ---------------------------------------- 0.0/7.8 MB ? eta -:--:--\n",
      "    --------------------------------------- 0.2/7.8 MB 5.3 MB/s eta 0:00:02\n",
      "    --------------------------------------- 0.2/7.8 MB 5.3 MB/s eta 0:00:02\n",
      "   - -------------------------------------- 0.4/7.8 MB 3.2 MB/s eta 0:00:03\n",
      "   --- ------------------------------------ 0.6/7.8 MB 3.6 MB/s eta 0:00:02\n",
      "   ------ --------------------------------- 1.2/7.8 MB 5.3 MB/s eta 0:00:02\n",
      "   -------- ------------------------------- 1.8/7.8 MB 6.2 MB/s eta 0:00:01\n",
      "   ---------- ----------------------------- 2.1/7.8 MB 6.7 MB/s eta 0:00:01\n",
      "   ------------- -------------------------- 2.6/7.8 MB 7.2 MB/s eta 0:00:01\n",
      "   ---------------- ----------------------- 3.1/7.8 MB 7.7 MB/s eta 0:00:01\n",
      "   ------------------ --------------------- 3.7/7.8 MB 8.2 MB/s eta 0:00:01\n",
      "   --------------------- ------------------ 4.3/7.8 MB 8.5 MB/s eta 0:00:01\n",
      "   ------------------------ --------------- 4.8/7.8 MB 8.7 MB/s eta 0:00:01\n",
      "   --------------------------- ------------ 5.3/7.8 MB 9.0 MB/s eta 0:00:01\n",
      "   ------------------------------ --------- 5.9/7.8 MB 9.2 MB/s eta 0:00:01\n",
      "   --------------------------------- ------ 6.5/7.8 MB 9.4 MB/s eta 0:00:01\n",
      "   ----------------------------------- ---- 7.0/7.8 MB 9.5 MB/s eta 0:00:01\n",
      "   -------------------------------------- - 7.5/7.8 MB 9.4 MB/s eta 0:00:01\n",
      "   ---------------------------------------- 7.8/7.8 MB 9.4 MB/s eta 0:00:00\n",
      "Downloading contourpy-1.3.1-cp312-cp312-win_amd64.whl (220 kB)\n",
      "   ---------------------------------------- 0.0/221.0 kB ? eta -:--:--\n",
      "   ---------------------------------------- 221.0/221.0 kB 6.8 MB/s eta 0:00:00\n",
      "Downloading cycler-0.12.1-py3-none-any.whl (8.3 kB)\n",
      "Downloading fonttools-4.55.2-cp312-cp312-win_amd64.whl (2.2 MB)\n",
      "   ---------------------------------------- 0.0/2.2 MB ? eta -:--:--\n",
      "   --------- ------------------------------ 0.5/2.2 MB 11.3 MB/s eta 0:00:01\n",
      "   ------------------- -------------------- 1.1/2.2 MB 11.2 MB/s eta 0:00:01\n",
      "   ---------------------------- ----------- 1.6/2.2 MB 11.1 MB/s eta 0:00:01\n",
      "   ------------------------------------- -- 2.1/2.2 MB 11.9 MB/s eta 0:00:01\n",
      "   ---------------------------------------- 2.2/2.2 MB 10.8 MB/s eta 0:00:00\n",
      "Downloading kiwisolver-1.4.7-cp312-cp312-win_amd64.whl (55 kB)\n",
      "   ---------------------------------------- 0.0/55.9 kB ? eta -:--:--\n",
      "   ---------------------------------------- 55.9/55.9 kB 3.0 MB/s eta 0:00:00\n",
      "Downloading pillow-11.0.0-cp312-cp312-win_amd64.whl (2.6 MB)\n",
      "   ---------------------------------------- 0.0/2.6 MB ? eta -:--:--\n",
      "   -- ------------------------------------- 0.2/2.6 MB 4.5 MB/s eta 0:00:01\n",
      "   --------- ------------------------------ 0.6/2.6 MB 7.3 MB/s eta 0:00:01\n",
      "   ---------------- ----------------------- 1.1/2.6 MB 8.4 MB/s eta 0:00:01\n",
      "   ------------------------ --------------- 1.6/2.6 MB 9.9 MB/s eta 0:00:01\n",
      "   ------------------------------- -------- 2.0/2.6 MB 9.9 MB/s eta 0:00:01\n",
      "   -------------------------------------- - 2.5/2.6 MB 10.6 MB/s eta 0:00:01\n",
      "   ---------------------------------------- 2.6/2.6 MB 10.2 MB/s eta 0:00:00\n",
      "Downloading pyparsing-3.2.0-py3-none-any.whl (106 kB)\n",
      "   ---------------------------------------- 0.0/106.9 kB ? eta -:--:--\n",
      "   ---------------------------------------- 106.9/106.9 kB ? eta 0:00:00\n",
      "Installing collected packages: pyparsing, pillow, kiwisolver, fonttools, cycler, contourpy, matplotlib\n",
      "Successfully installed contourpy-1.3.1 cycler-0.12.1 fonttools-4.55.2 kiwisolver-1.4.7 matplotlib-3.9.3 pillow-11.0.0 pyparsing-3.2.0\n"
     ]
    },
    {
     "name": "stdout",
     "output_type": "stream",
     "text": [
      "Collecting matplotlib==3.6.2\n",
      "  Downloading matplotlib-3.6.2.tar.gz (35.8 MB)\n",
      "     ---------------------------------------- 0.0/35.8 MB ? eta -:--:--\n",
      "     ---------------------------------------- 0.0/35.8 MB ? eta -:--:--\n",
      "     ---------------------------------------- 0.0/35.8 MB ? eta -:--:--\n",
      "     ---------------------------------------- 0.0/35.8 MB ? eta -:--:--\n",
      "     ---------------------------------------- 0.0/35.8 MB ? eta -:--:--\n",
      "     ---------------------------------------- 0.0/35.8 MB ? eta -:--:--\n",
      "     ---------------------------------------- 0.0/35.8 MB ? eta -:--:--\n",
      "     --------------------------------------- 0.0/35.8 MB 122.9 kB/s eta 0:04:52\n",
      "     --------------------------------------- 0.0/35.8 MB 122.9 kB/s eta 0:04:52\n",
      "     --------------------------------------- 0.1/35.8 MB 148.8 kB/s eta 0:04:01\n",
      "     --------------------------------------- 0.1/35.8 MB 148.8 kB/s eta 0:04:01\n",
      "     --------------------------------------- 0.1/35.8 MB 148.8 kB/s eta 0:04:01\n",
      "     --------------------------------------- 0.1/35.8 MB 135.6 kB/s eta 0:04:24\n",
      "     --------------------------------------- 0.1/35.8 MB 163.8 kB/s eta 0:03:39\n",
      "     --------------------------------------- 0.1/35.8 MB 187.2 kB/s eta 0:03:11\n",
      "     --------------------------------------- 0.2/35.8 MB 294.9 kB/s eta 0:02:01\n",
      "     --------------------------------------- 0.3/35.8 MB 365.7 kB/s eta 0:01:38\n",
      "     --------------------------------------- 0.3/35.8 MB 446.4 kB/s eta 0:01:20\n",
      "     --------------------------------------- 0.4/35.8 MB 494.6 kB/s eta 0:01:12\n",
      "      -------------------------------------- 0.8/35.8 MB 982.7 kB/s eta 0:00:36\n",
      "     - -------------------------------------- 1.0/35.8 MB 1.2 MB/s eta 0:00:29\n",
      "     - -------------------------------------- 1.4/35.8 MB 1.5 MB/s eta 0:00:23\n",
      "     -- ------------------------------------- 2.0/35.8 MB 2.0 MB/s eta 0:00:18\n",
      "     -- ------------------------------------- 2.5/35.8 MB 2.5 MB/s eta 0:00:14\n",
      "     --- ------------------------------------ 3.2/35.8 MB 3.0 MB/s eta 0:00:11\n",
      "     ---- ----------------------------------- 3.8/35.8 MB 3.4 MB/s eta 0:00:10\n",
      "     ----- ---------------------------------- 4.7/35.8 MB 4.0 MB/s eta 0:00:08\n",
      "     ----- ---------------------------------- 5.2/35.8 MB 4.3 MB/s eta 0:00:08\n",
      "     ------ --------------------------------- 5.7/35.8 MB 4.4 MB/s eta 0:00:07\n",
      "     ------- -------------------------------- 6.3/35.8 MB 4.8 MB/s eta 0:00:07\n",
      "     ------- -------------------------------- 6.3/35.8 MB 4.8 MB/s eta 0:00:07\n",
      "     ------- -------------------------------- 6.9/35.8 MB 4.8 MB/s eta 0:00:06\n",
      "     -------- ------------------------------- 7.3/35.8 MB 5.1 MB/s eta 0:00:06\n",
      "     --------- ------------------------------ 8.2/35.8 MB 5.4 MB/s eta 0:00:06\n",
      "     --------- ------------------------------ 8.6/35.8 MB 5.5 MB/s eta 0:00:05\n",
      "     ---------- ----------------------------- 9.3/35.8 MB 5.8 MB/s eta 0:00:05\n",
      "     ---------- ----------------------------- 9.6/35.8 MB 5.8 MB/s eta 0:00:05\n",
      "     ----------- ---------------------------- 10.3/35.8 MB 8.5 MB/s eta 0:00:04\n",
      "     ----------- ---------------------------- 10.5/35.8 MB 9.8 MB/s eta 0:00:03\n",
      "     ----------- ---------------------------- 10.5/35.8 MB 9.8 MB/s eta 0:00:03\n",
      "     ----------- ---------------------------- 10.5/35.8 MB 9.8 MB/s eta 0:00:03\n",
      "     ----------- ---------------------------- 10.5/35.8 MB 9.8 MB/s eta 0:00:03\n",
      "     ----------- ---------------------------- 10.5/35.8 MB 9.8 MB/s eta 0:00:03\n",
      "     ----------- ---------------------------- 10.5/35.8 MB 9.8 MB/s eta 0:00:03\n",
      "     ----------- ---------------------------- 10.6/35.8 MB 7.5 MB/s eta 0:00:04\n",
      "     ----------- ---------------------------- 10.6/35.8 MB 7.5 MB/s eta 0:00:04\n",
      "     ----------- ---------------------------- 10.7/35.8 MB 7.5 MB/s eta 0:00:04\n",
      "     ------------ --------------------------- 10.8/35.8 MB 7.5 MB/s eta 0:00:04\n",
      "     ------------ --------------------------- 10.8/35.8 MB 7.5 MB/s eta 0:00:04\n",
      "     ------------ --------------------------- 10.9/35.8 MB 7.0 MB/s eta 0:00:04\n",
      "     ------------ --------------------------- 11.4/35.8 MB 7.0 MB/s eta 0:00:04\n",
      "     ------------- -------------------------- 12.3/35.8 MB 7.2 MB/s eta 0:00:04\n",
      "     -------------- ------------------------- 13.2/35.8 MB 7.2 MB/s eta 0:00:04\n",
      "     --------------- ------------------------ 14.2/35.8 MB 7.4 MB/s eta 0:00:03\n",
      "     ---------------- ----------------------- 14.7/35.8 MB 7.4 MB/s eta 0:00:03\n",
      "     ----------------- ---------------------- 15.2/35.8 MB 7.2 MB/s eta 0:00:03\n",
      "     ----------------- ---------------------- 15.7/35.8 MB 7.4 MB/s eta 0:00:03\n",
      "     ----------------- ---------------------- 15.7/35.8 MB 7.4 MB/s eta 0:00:03\n",
      "     ------------------ --------------------- 16.4/35.8 MB 7.1 MB/s eta 0:00:03\n",
      "     ------------------- -------------------- 17.1/35.8 MB 7.4 MB/s eta 0:00:03\n",
      "     ------------------- -------------------- 17.9/35.8 MB 7.6 MB/s eta 0:00:03\n",
      "     --------------------- ------------------ 18.9/35.8 MB 7.7 MB/s eta 0:00:03\n",
      "     --------------------- ------------------ 19.6/35.8 MB 7.5 MB/s eta 0:00:03\n",
      "     ---------------------- ----------------- 20.1/35.8 MB 7.4 MB/s eta 0:00:03\n",
      "     ---------------------- ---------------- 21.0/35.8 MB 11.3 MB/s eta 0:00:02\n",
      "     ---------------------- ---------------- 21.0/35.8 MB 11.3 MB/s eta 0:00:02\n",
      "     ---------------------- ---------------- 21.0/35.8 MB 11.3 MB/s eta 0:00:02\n",
      "     ---------------------- ---------------- 21.0/35.8 MB 11.3 MB/s eta 0:00:02\n",
      "     ---------------------- ---------------- 21.0/35.8 MB 11.3 MB/s eta 0:00:02\n",
      "     ----------------------- --------------- 21.7/35.8 MB 10.6 MB/s eta 0:00:02\n",
      "     ----------------------- --------------- 22.0/35.8 MB 10.6 MB/s eta 0:00:02\n",
      "     ------------------------- ------------- 23.1/35.8 MB 10.2 MB/s eta 0:00:02\n",
      "     ------------------------- -------------- 23.2/35.8 MB 9.6 MB/s eta 0:00:02\n",
      "     -------------------------- ------------- 24.1/35.8 MB 9.8 MB/s eta 0:00:02\n",
      "     --------------------------- ------------ 24.4/35.8 MB 9.4 MB/s eta 0:00:02\n",
      "     ---------------------------- ----------- 25.2/35.8 MB 9.8 MB/s eta 0:00:02\n",
      "     ---------------------------- ---------- 26.2/35.8 MB 10.2 MB/s eta 0:00:01\n",
      "     ----------------------------- ---------- 26.9/35.8 MB 9.8 MB/s eta 0:00:01\n",
      "     ------------------------------ --------- 27.3/35.8 MB 9.9 MB/s eta 0:00:01\n",
      "     ------------------------------ --------- 27.6/35.8 MB 9.4 MB/s eta 0:00:01\n",
      "     ------------------------------- -------- 28.3/35.8 MB 9.5 MB/s eta 0:00:01\n",
      "     ------------------------------- -------- 28.5/35.8 MB 9.2 MB/s eta 0:00:01\n",
      "     -------------------------------- ------- 29.4/35.8 MB 9.6 MB/s eta 0:00:01\n",
      "     -------------------------------- ------- 29.4/35.8 MB 9.6 MB/s eta 0:00:01\n",
      "     --------------------------------- ------ 29.9/35.8 MB 9.1 MB/s eta 0:00:01\n",
      "     --------------------------------- ------ 30.4/35.8 MB 9.4 MB/s eta 0:00:01\n",
      "     ---------------------------------- ----- 30.9/35.8 MB 9.1 MB/s eta 0:00:01\n",
      "     ---------------------------------- ---- 31.5/35.8 MB 11.3 MB/s eta 0:00:01\n",
      "     ---------------------------------- ---- 32.1/35.8 MB 10.9 MB/s eta 0:00:01\n",
      "     ----------------------------------- --- 32.5/35.8 MB 11.5 MB/s eta 0:00:01\n",
      "     ------------------------------------ -- 33.3/35.8 MB 10.9 MB/s eta 0:00:01\n",
      "     ------------------------------------ -- 33.5/35.8 MB 11.7 MB/s eta 0:00:01\n",
      "     ------------------------------------- - 34.4/35.8 MB 11.9 MB/s eta 0:00:01\n",
      "     ------------------------------------- - 34.6/35.8 MB 11.7 MB/s eta 0:00:01\n",
      "     --------------------------------------  35.4/35.8 MB 11.1 MB/s eta 0:00:01\n",
      "     --------------------------------------  35.6/35.8 MB 11.5 MB/s eta 0:00:01\n",
      "     --------------------------------------  35.8/35.8 MB 10.9 MB/s eta 0:00:01\n",
      "     --------------------------------------  35.8/35.8 MB 10.9 MB/s eta 0:00:01\n",
      "     ---------------------------------------- 35.8/35.8 MB 9.8 MB/s eta 0:00:00\n",
      "  Installing build dependencies: started\n",
      "  Installing build dependencies: finished with status 'done'\n",
      "  Getting requirements to build wheel: started\n",
      "  Getting requirements to build wheel: finished with status 'done'\n",
      "  Installing backend dependencies: started\n",
      "  Installing backend dependencies: finished with status 'done'\n",
      "  Preparing metadata (pyproject.toml): started\n",
      "  Preparing metadata (pyproject.toml): finished with status 'done'\n",
      "Collecting contourpy>=1.0.1 (from matplotlib==3.6.2)\n",
      "  Using cached contourpy-1.3.1-cp312-cp312-win_amd64.whl.metadata (5.4 kB)\n",
      "Collecting cycler>=0.10 (from matplotlib==3.6.2)\n",
      "  Using cached cycler-0.12.1-py3-none-any.whl.metadata (3.8 kB)\n",
      "Collecting fonttools>=4.22.0 (from matplotlib==3.6.2)\n",
      "  Using cached fonttools-4.55.2-cp312-cp312-win_amd64.whl.metadata (168 kB)\n",
      "Requirement already satisfied: kiwisolver>=1.0.1 in c:\\users\\pc\\appdata\\local\\programs\\python\\python312\\lib\\site-packages (from matplotlib==3.6.2) (1.4.7)\n",
      "Requirement already satisfied: numpy>=1.19 in c:\\users\\pc\\appdata\\local\\programs\\python\\python312\\lib\\site-packages (from matplotlib==3.6.2) (2.1.3)\n",
      "Requirement already satisfied: packaging>=20.0 in c:\\users\\pc\\appdata\\roaming\\python\\python312\\site-packages (from matplotlib==3.6.2) (24.2)\n",
      "Requirement already satisfied: pillow>=6.2.0 in c:\\users\\pc\\appdata\\local\\programs\\python\\python312\\lib\\site-packages (from matplotlib==3.6.2) (11.0.0)\n",
      "Requirement already satisfied: pyparsing>=2.2.1 in c:\\users\\pc\\appdata\\local\\programs\\python\\python312\\lib\\site-packages (from matplotlib==3.6.2) (3.2.0)\n",
      "Requirement already satisfied: python-dateutil>=2.7 in c:\\users\\pc\\appdata\\roaming\\python\\python312\\site-packages (from matplotlib==3.6.2) (2.9.0.post0)\n",
      "Requirement already satisfied: six>=1.5 in c:\\users\\pc\\appdata\\roaming\\python\\python312\\site-packages (from python-dateutil>=2.7->matplotlib==3.6.2) (1.16.0)\n",
      "Using cached contourpy-1.3.1-cp312-cp312-win_amd64.whl (220 kB)\n",
      "Using cached cycler-0.12.1-py3-none-any.whl (8.3 kB)\n",
      "Using cached fonttools-4.55.2-cp312-cp312-win_amd64.whl (2.2 MB)\n",
      "Building wheels for collected packages: matplotlib\n",
      "  Building wheel for matplotlib (pyproject.toml): started\n",
      "  Building wheel for matplotlib (pyproject.toml): finished with status 'error'\n",
      "Failed to build matplotlib\n"
     ]
    },
    {
     "name": "stderr",
     "output_type": "stream",
     "text": [
      "  error: subprocess-exited-with-error\n",
      "  \n",
      "  × Building wheel for matplotlib (pyproject.toml) did not run successfully.\n",
      "  │ exit code: 1\n",
      "  ╰─> [564 lines of output]\n",
      "      \n",
      "      Edit mplsetup.cfg to change the build options; suppress output with --quiet.\n",
      "      \n",
      "      BUILDING MATPLOTLIB\n",
      "            python: yes [3.12.2 (tags/v3.12.2:6abddd9, Feb  6 2024, 21:26:36) [MSC\n",
      "                        v.1937 64 bit (AMD64)]]\n",
      "          platform: yes [win32]\n",
      "             tests: no  [skipping due to configuration]\n",
      "            macosx: no  [Mac OS-X only]\n",
      "      \n",
      "      C:\\Users\\PC\\AppData\\Local\\Temp\\pip-build-env-ru6w74u_\\overlay\\Lib\\site-packages\\setuptools\\dist.py:697: SetuptoolsDeprecationWarning: The namespace_packages parameter is deprecated.\n",
      "      !!\n",
      "      \n",
      "              ********************************************************************************\n",
      "              Please replace its usage with implicit namespaces (PEP 420).\n",
      "      \n",
      "              See https://setuptools.pypa.io/en/latest/references/keywords.html#keyword-namespace-packages for details.\n",
      "              ********************************************************************************\n",
      "      \n",
      "      !!\n",
      "        ep.load()(self, ep.name, value)\n",
      "      WARNING setuptools_scm.pyproject_reading toml section missing 'pyproject.toml does not contain a tool.setuptools_scm section'\n",
      "      Traceback (most recent call last):\n",
      "        File \"C:\\Users\\PC\\AppData\\Local\\Temp\\pip-build-env-ru6w74u_\\normal\\Lib\\site-packages\\setuptools_scm\\_integration\\pyproject_reading.py\", line 36, in read_pyproject\n",
      "          section = defn.get(\"tool\", {})[tool_name]\n",
      "                    ~~~~~~~~~~~~~~~~~~~~^^^^^^^^^^^\n",
      "      KeyError: 'setuptools_scm'\n",
      "      C:\\Users\\PC\\AppData\\Local\\Temp\\pip-build-env-ru6w74u_\\normal\\Lib\\site-packages\\setuptools_scm\\git.py:312: UserWarning: git archive did not support describe output\n",
      "        warnings.warn(\"git archive did not support describe output\")\n",
      "      C:\\Users\\PC\\AppData\\Local\\Temp\\pip-build-env-ru6w74u_\\normal\\Lib\\site-packages\\setuptools_scm\\git.py:331: UserWarning: unprocessed git archival found (no export subst applied)\n",
      "        warnings.warn(\"unprocessed git archival found (no export subst applied)\")\n",
      "      running bdist_wheel\n",
      "      running build\n",
      "      running build_py\n",
      "      creating build\\lib.win-amd64-cpython-312\n",
      "      copying lib\\pylab.py -> build\\lib.win-amd64-cpython-312\n",
      "      creating build\\lib.win-amd64-cpython-312\\matplotlib\n",
      "      copying lib\\matplotlib\\afm.py -> build\\lib.win-amd64-cpython-312\\matplotlib\n",
      "      copying lib\\matplotlib\\animation.py -> build\\lib.win-amd64-cpython-312\\matplotlib\n",
      "      copying lib\\matplotlib\\artist.py -> build\\lib.win-amd64-cpython-312\\matplotlib\n",
      "      copying lib\\matplotlib\\axis.py -> build\\lib.win-amd64-cpython-312\\matplotlib\n",
      "      copying lib\\matplotlib\\backend_bases.py -> build\\lib.win-amd64-cpython-312\\matplotlib\n",
      "      copying lib\\matplotlib\\backend_managers.py -> build\\lib.win-amd64-cpython-312\\matplotlib\n",
      "      copying lib\\matplotlib\\backend_tools.py -> build\\lib.win-amd64-cpython-312\\matplotlib\n",
      "      copying lib\\matplotlib\\bezier.py -> build\\lib.win-amd64-cpython-312\\matplotlib\n",
      "      copying lib\\matplotlib\\blocking_input.py -> build\\lib.win-amd64-cpython-312\\matplotlib\n",
      "      copying lib\\matplotlib\\category.py -> build\\lib.win-amd64-cpython-312\\matplotlib\n",
      "      copying lib\\matplotlib\\cm.py -> build\\lib.win-amd64-cpython-312\\matplotlib\n",
      "      copying lib\\matplotlib\\collections.py -> build\\lib.win-amd64-cpython-312\\matplotlib\n",
      "      copying lib\\matplotlib\\colorbar.py -> build\\lib.win-amd64-cpython-312\\matplotlib\n",
      "      copying lib\\matplotlib\\colors.py -> build\\lib.win-amd64-cpython-312\\matplotlib\n",
      "      copying lib\\matplotlib\\container.py -> build\\lib.win-amd64-cpython-312\\matplotlib\n",
      "      copying lib\\matplotlib\\contour.py -> build\\lib.win-amd64-cpython-312\\matplotlib\n",
      "      copying lib\\matplotlib\\dates.py -> build\\lib.win-amd64-cpython-312\\matplotlib\n",
      "      copying lib\\matplotlib\\docstring.py -> build\\lib.win-amd64-cpython-312\\matplotlib\n",
      "      copying lib\\matplotlib\\dviread.py -> build\\lib.win-amd64-cpython-312\\matplotlib\n",
      "      copying lib\\matplotlib\\figure.py -> build\\lib.win-amd64-cpython-312\\matplotlib\n",
      "      copying lib\\matplotlib\\fontconfig_pattern.py -> build\\lib.win-amd64-cpython-312\\matplotlib\n",
      "      copying lib\\matplotlib\\font_manager.py -> build\\lib.win-amd64-cpython-312\\matplotlib\n",
      "      copying lib\\matplotlib\\gridspec.py -> build\\lib.win-amd64-cpython-312\\matplotlib\n",
      "      copying lib\\matplotlib\\hatch.py -> build\\lib.win-amd64-cpython-312\\matplotlib\n",
      "      copying lib\\matplotlib\\image.py -> build\\lib.win-amd64-cpython-312\\matplotlib\n",
      "      copying lib\\matplotlib\\layout_engine.py -> build\\lib.win-amd64-cpython-312\\matplotlib\n",
      "      copying lib\\matplotlib\\legend.py -> build\\lib.win-amd64-cpython-312\\matplotlib\n",
      "      copying lib\\matplotlib\\legend_handler.py -> build\\lib.win-amd64-cpython-312\\matplotlib\n",
      "      copying lib\\matplotlib\\lines.py -> build\\lib.win-amd64-cpython-312\\matplotlib\n",
      "      copying lib\\matplotlib\\markers.py -> build\\lib.win-amd64-cpython-312\\matplotlib\n",
      "      copying lib\\matplotlib\\mathtext.py -> build\\lib.win-amd64-cpython-312\\matplotlib\n",
      "      copying lib\\matplotlib\\mlab.py -> build\\lib.win-amd64-cpython-312\\matplotlib\n",
      "      copying lib\\matplotlib\\offsetbox.py -> build\\lib.win-amd64-cpython-312\\matplotlib\n",
      "      copying lib\\matplotlib\\patches.py -> build\\lib.win-amd64-cpython-312\\matplotlib\n",
      "      copying lib\\matplotlib\\path.py -> build\\lib.win-amd64-cpython-312\\matplotlib\n",
      "      copying lib\\matplotlib\\patheffects.py -> build\\lib.win-amd64-cpython-312\\matplotlib\n",
      "      copying lib\\matplotlib\\pylab.py -> build\\lib.win-amd64-cpython-312\\matplotlib\n",
      "      copying lib\\matplotlib\\pyplot.py -> build\\lib.win-amd64-cpython-312\\matplotlib\n",
      "      copying lib\\matplotlib\\quiver.py -> build\\lib.win-amd64-cpython-312\\matplotlib\n",
      "      copying lib\\matplotlib\\rcsetup.py -> build\\lib.win-amd64-cpython-312\\matplotlib\n",
      "      copying lib\\matplotlib\\sankey.py -> build\\lib.win-amd64-cpython-312\\matplotlib\n",
      "      copying lib\\matplotlib\\scale.py -> build\\lib.win-amd64-cpython-312\\matplotlib\n",
      "      copying lib\\matplotlib\\spines.py -> build\\lib.win-amd64-cpython-312\\matplotlib\n",
      "      copying lib\\matplotlib\\stackplot.py -> build\\lib.win-amd64-cpython-312\\matplotlib\n",
      "      copying lib\\matplotlib\\streamplot.py -> build\\lib.win-amd64-cpython-312\\matplotlib\n",
      "      copying lib\\matplotlib\\table.py -> build\\lib.win-amd64-cpython-312\\matplotlib\n",
      "      copying lib\\matplotlib\\texmanager.py -> build\\lib.win-amd64-cpython-312\\matplotlib\n",
      "      copying lib\\matplotlib\\text.py -> build\\lib.win-amd64-cpython-312\\matplotlib\n",
      "      copying lib\\matplotlib\\textpath.py -> build\\lib.win-amd64-cpython-312\\matplotlib\n",
      "      copying lib\\matplotlib\\ticker.py -> build\\lib.win-amd64-cpython-312\\matplotlib\n",
      "      copying lib\\matplotlib\\tight_bbox.py -> build\\lib.win-amd64-cpython-312\\matplotlib\n",
      "      copying lib\\matplotlib\\tight_layout.py -> build\\lib.win-amd64-cpython-312\\matplotlib\n",
      "      copying lib\\matplotlib\\transforms.py -> build\\lib.win-amd64-cpython-312\\matplotlib\n",
      "      copying lib\\matplotlib\\type1font.py -> build\\lib.win-amd64-cpython-312\\matplotlib\n",
      "      copying lib\\matplotlib\\units.py -> build\\lib.win-amd64-cpython-312\\matplotlib\n",
      "      copying lib\\matplotlib\\widgets.py -> build\\lib.win-amd64-cpython-312\\matplotlib\n",
      "      copying lib\\matplotlib\\_afm.py -> build\\lib.win-amd64-cpython-312\\matplotlib\n",
      "      copying lib\\matplotlib\\_animation_data.py -> build\\lib.win-amd64-cpython-312\\matplotlib\n",
      "      copying lib\\matplotlib\\_blocking_input.py -> build\\lib.win-amd64-cpython-312\\matplotlib\n",
      "      copying lib\\matplotlib\\_cm.py -> build\\lib.win-amd64-cpython-312\\matplotlib\n",
      "      copying lib\\matplotlib\\_cm_listed.py -> build\\lib.win-amd64-cpython-312\\matplotlib\n",
      "      copying lib\\matplotlib\\_color_data.py -> build\\lib.win-amd64-cpython-312\\matplotlib\n",
      "      copying lib\\matplotlib\\_constrained_layout.py -> build\\lib.win-amd64-cpython-312\\matplotlib\n",
      "      copying lib\\matplotlib\\_docstring.py -> build\\lib.win-amd64-cpython-312\\matplotlib\n",
      "      copying lib\\matplotlib\\_enums.py -> build\\lib.win-amd64-cpython-312\\matplotlib\n",
      "      copying lib\\matplotlib\\_fontconfig_pattern.py -> build\\lib.win-amd64-cpython-312\\matplotlib\n",
      "      copying lib\\matplotlib\\_internal_utils.py -> build\\lib.win-amd64-cpython-312\\matplotlib\n",
      "      copying lib\\matplotlib\\_layoutgrid.py -> build\\lib.win-amd64-cpython-312\\matplotlib\n",
      "      copying lib\\matplotlib\\_mathtext.py -> build\\lib.win-amd64-cpython-312\\matplotlib\n",
      "      copying lib\\matplotlib\\_mathtext_data.py -> build\\lib.win-amd64-cpython-312\\matplotlib\n",
      "      copying lib\\matplotlib\\_pylab_helpers.py -> build\\lib.win-amd64-cpython-312\\matplotlib\n",
      "      copying lib\\matplotlib\\_text_helpers.py -> build\\lib.win-amd64-cpython-312\\matplotlib\n",
      "      copying lib\\matplotlib\\_tight_bbox.py -> build\\lib.win-amd64-cpython-312\\matplotlib\n",
      "      copying lib\\matplotlib\\_tight_layout.py -> build\\lib.win-amd64-cpython-312\\matplotlib\n",
      "      copying lib\\matplotlib\\_type1font.py -> build\\lib.win-amd64-cpython-312\\matplotlib\n",
      "      copying lib\\matplotlib\\_version.py -> build\\lib.win-amd64-cpython-312\\matplotlib\n",
      "      copying lib\\matplotlib\\__init__.py -> build\\lib.win-amd64-cpython-312\\matplotlib\n",
      "      creating build\\lib.win-amd64-cpython-312\\mpl_toolkits\n",
      "      copying lib\\mpl_toolkits\\__init__.py -> build\\lib.win-amd64-cpython-312\\mpl_toolkits\n",
      "      creating build\\lib.win-amd64-cpython-312\\matplotlib\\axes\n",
      "      copying lib\\matplotlib\\axes\\_axes.py -> build\\lib.win-amd64-cpython-312\\matplotlib\\axes\n",
      "      copying lib\\matplotlib\\axes\\_base.py -> build\\lib.win-amd64-cpython-312\\matplotlib\\axes\n",
      "      copying lib\\matplotlib\\axes\\_secondary_axes.py -> build\\lib.win-amd64-cpython-312\\matplotlib\\axes\n",
      "      copying lib\\matplotlib\\axes\\_subplots.py -> build\\lib.win-amd64-cpython-312\\matplotlib\\axes\n",
      "      copying lib\\matplotlib\\axes\\__init__.py -> build\\lib.win-amd64-cpython-312\\matplotlib\\axes\n",
      "      creating build\\lib.win-amd64-cpython-312\\matplotlib\\backends\n",
      "      copying lib\\matplotlib\\backends\\backend_agg.py -> build\\lib.win-amd64-cpython-312\\matplotlib\\backends\n",
      "      copying lib\\matplotlib\\backends\\backend_cairo.py -> build\\lib.win-amd64-cpython-312\\matplotlib\\backends\n",
      "      copying lib\\matplotlib\\backends\\backend_gtk3.py -> build\\lib.win-amd64-cpython-312\\matplotlib\\backends\n",
      "      copying lib\\matplotlib\\backends\\backend_gtk3agg.py -> build\\lib.win-amd64-cpython-312\\matplotlib\\backends\n",
      "      copying lib\\matplotlib\\backends\\backend_gtk3cairo.py -> build\\lib.win-amd64-cpython-312\\matplotlib\\backends\n",
      "      copying lib\\matplotlib\\backends\\backend_gtk4.py -> build\\lib.win-amd64-cpython-312\\matplotlib\\backends\n",
      "      copying lib\\matplotlib\\backends\\backend_gtk4agg.py -> build\\lib.win-amd64-cpython-312\\matplotlib\\backends\n",
      "      copying lib\\matplotlib\\backends\\backend_gtk4cairo.py -> build\\lib.win-amd64-cpython-312\\matplotlib\\backends\n",
      "      copying lib\\matplotlib\\backends\\backend_macosx.py -> build\\lib.win-amd64-cpython-312\\matplotlib\\backends\n",
      "      copying lib\\matplotlib\\backends\\backend_mixed.py -> build\\lib.win-amd64-cpython-312\\matplotlib\\backends\n",
      "      copying lib\\matplotlib\\backends\\backend_nbagg.py -> build\\lib.win-amd64-cpython-312\\matplotlib\\backends\n",
      "      copying lib\\matplotlib\\backends\\backend_pdf.py -> build\\lib.win-amd64-cpython-312\\matplotlib\\backends\n",
      "      copying lib\\matplotlib\\backends\\backend_pgf.py -> build\\lib.win-amd64-cpython-312\\matplotlib\\backends\n",
      "      copying lib\\matplotlib\\backends\\backend_ps.py -> build\\lib.win-amd64-cpython-312\\matplotlib\\backends\n",
      "      copying lib\\matplotlib\\backends\\backend_qt.py -> build\\lib.win-amd64-cpython-312\\matplotlib\\backends\n",
      "      copying lib\\matplotlib\\backends\\backend_qt5.py -> build\\lib.win-amd64-cpython-312\\matplotlib\\backends\n",
      "      copying lib\\matplotlib\\backends\\backend_qt5agg.py -> build\\lib.win-amd64-cpython-312\\matplotlib\\backends\n",
      "      copying lib\\matplotlib\\backends\\backend_qt5cairo.py -> build\\lib.win-amd64-cpython-312\\matplotlib\\backends\n",
      "      copying lib\\matplotlib\\backends\\backend_qtagg.py -> build\\lib.win-amd64-cpython-312\\matplotlib\\backends\n",
      "      copying lib\\matplotlib\\backends\\backend_qtcairo.py -> build\\lib.win-amd64-cpython-312\\matplotlib\\backends\n",
      "      copying lib\\matplotlib\\backends\\backend_svg.py -> build\\lib.win-amd64-cpython-312\\matplotlib\\backends\n",
      "      copying lib\\matplotlib\\backends\\backend_template.py -> build\\lib.win-amd64-cpython-312\\matplotlib\\backends\n",
      "      copying lib\\matplotlib\\backends\\backend_tkagg.py -> build\\lib.win-amd64-cpython-312\\matplotlib\\backends\n",
      "      copying lib\\matplotlib\\backends\\backend_tkcairo.py -> build\\lib.win-amd64-cpython-312\\matplotlib\\backends\n",
      "      copying lib\\matplotlib\\backends\\backend_webagg.py -> build\\lib.win-amd64-cpython-312\\matplotlib\\backends\n",
      "      copying lib\\matplotlib\\backends\\backend_webagg_core.py -> build\\lib.win-amd64-cpython-312\\matplotlib\\backends\n",
      "      copying lib\\matplotlib\\backends\\backend_wx.py -> build\\lib.win-amd64-cpython-312\\matplotlib\\backends\n",
      "      copying lib\\matplotlib\\backends\\backend_wxagg.py -> build\\lib.win-amd64-cpython-312\\matplotlib\\backends\n",
      "      copying lib\\matplotlib\\backends\\backend_wxcairo.py -> build\\lib.win-amd64-cpython-312\\matplotlib\\backends\n",
      "      copying lib\\matplotlib\\backends\\qt_compat.py -> build\\lib.win-amd64-cpython-312\\matplotlib\\backends\n",
      "      copying lib\\matplotlib\\backends\\_backend_gtk.py -> build\\lib.win-amd64-cpython-312\\matplotlib\\backends\n",
      "      copying lib\\matplotlib\\backends\\_backend_pdf_ps.py -> build\\lib.win-amd64-cpython-312\\matplotlib\\backends\n",
      "      copying lib\\matplotlib\\backends\\_backend_tk.py -> build\\lib.win-amd64-cpython-312\\matplotlib\\backends\n",
      "      copying lib\\matplotlib\\backends\\__init__.py -> build\\lib.win-amd64-cpython-312\\matplotlib\\backends\n",
      "      creating build\\lib.win-amd64-cpython-312\\matplotlib\\cbook\n",
      "      copying lib\\matplotlib\\cbook\\__init__.py -> build\\lib.win-amd64-cpython-312\\matplotlib\\cbook\n",
      "      creating build\\lib.win-amd64-cpython-312\\matplotlib\\projections\n",
      "      copying lib\\matplotlib\\projections\\geo.py -> build\\lib.win-amd64-cpython-312\\matplotlib\\projections\n",
      "      copying lib\\matplotlib\\projections\\polar.py -> build\\lib.win-amd64-cpython-312\\matplotlib\\projections\n",
      "      copying lib\\matplotlib\\projections\\__init__.py -> build\\lib.win-amd64-cpython-312\\matplotlib\\projections\n",
      "      creating build\\lib.win-amd64-cpython-312\\matplotlib\\sphinxext\n",
      "      copying lib\\matplotlib\\sphinxext\\mathmpl.py -> build\\lib.win-amd64-cpython-312\\matplotlib\\sphinxext\n",
      "      copying lib\\matplotlib\\sphinxext\\plot_directive.py -> build\\lib.win-amd64-cpython-312\\matplotlib\\sphinxext\n",
      "      copying lib\\matplotlib\\sphinxext\\__init__.py -> build\\lib.win-amd64-cpython-312\\matplotlib\\sphinxext\n",
      "      creating build\\lib.win-amd64-cpython-312\\matplotlib\\style\n",
      "      copying lib\\matplotlib\\style\\core.py -> build\\lib.win-amd64-cpython-312\\matplotlib\\style\n",
      "      copying lib\\matplotlib\\style\\__init__.py -> build\\lib.win-amd64-cpython-312\\matplotlib\\style\n",
      "      creating build\\lib.win-amd64-cpython-312\\matplotlib\\testing\n",
      "      copying lib\\matplotlib\\testing\\compare.py -> build\\lib.win-amd64-cpython-312\\matplotlib\\testing\n",
      "      copying lib\\matplotlib\\testing\\conftest.py -> build\\lib.win-amd64-cpython-312\\matplotlib\\testing\n",
      "      copying lib\\matplotlib\\testing\\decorators.py -> build\\lib.win-amd64-cpython-312\\matplotlib\\testing\n",
      "      copying lib\\matplotlib\\testing\\exceptions.py -> build\\lib.win-amd64-cpython-312\\matplotlib\\testing\n",
      "      copying lib\\matplotlib\\testing\\widgets.py -> build\\lib.win-amd64-cpython-312\\matplotlib\\testing\n",
      "      copying lib\\matplotlib\\testing\\_markers.py -> build\\lib.win-amd64-cpython-312\\matplotlib\\testing\n",
      "      copying lib\\matplotlib\\testing\\__init__.py -> build\\lib.win-amd64-cpython-312\\matplotlib\\testing\n",
      "      creating build\\lib.win-amd64-cpython-312\\matplotlib\\tests\n",
      "      copying lib\\matplotlib\\tests\\conftest.py -> build\\lib.win-amd64-cpython-312\\matplotlib\\tests\n",
      "      copying lib\\matplotlib\\tests\\test_afm.py -> build\\lib.win-amd64-cpython-312\\matplotlib\\tests\n",
      "      copying lib\\matplotlib\\tests\\test_agg.py -> build\\lib.win-amd64-cpython-312\\matplotlib\\tests\n",
      "      copying lib\\matplotlib\\tests\\test_agg_filter.py -> build\\lib.win-amd64-cpython-312\\matplotlib\\tests\n",
      "      copying lib\\matplotlib\\tests\\test_animation.py -> build\\lib.win-amd64-cpython-312\\matplotlib\\tests\n",
      "      copying lib\\matplotlib\\tests\\test_api.py -> build\\lib.win-amd64-cpython-312\\matplotlib\\tests\n",
      "      copying lib\\matplotlib\\tests\\test_arrow_patches.py -> build\\lib.win-amd64-cpython-312\\matplotlib\\tests\n",
      "      copying lib\\matplotlib\\tests\\test_artist.py -> build\\lib.win-amd64-cpython-312\\matplotlib\\tests\n",
      "      copying lib\\matplotlib\\tests\\test_axes.py -> build\\lib.win-amd64-cpython-312\\matplotlib\\tests\n",
      "      copying lib\\matplotlib\\tests\\test_backends_interactive.py -> build\\lib.win-amd64-cpython-312\\matplotlib\\tests\n",
      "      copying lib\\matplotlib\\tests\\test_backend_bases.py -> build\\lib.win-amd64-cpython-312\\matplotlib\\tests\n",
      "      copying lib\\matplotlib\\tests\\test_backend_cairo.py -> build\\lib.win-amd64-cpython-312\\matplotlib\\tests\n",
      "      copying lib\\matplotlib\\tests\\test_backend_gtk3.py -> build\\lib.win-amd64-cpython-312\\matplotlib\\tests\n",
      "      copying lib\\matplotlib\\tests\\test_backend_macosx.py -> build\\lib.win-amd64-cpython-312\\matplotlib\\tests\n",
      "      copying lib\\matplotlib\\tests\\test_backend_nbagg.py -> build\\lib.win-amd64-cpython-312\\matplotlib\\tests\n",
      "      copying lib\\matplotlib\\tests\\test_backend_pdf.py -> build\\lib.win-amd64-cpython-312\\matplotlib\\tests\n",
      "      copying lib\\matplotlib\\tests\\test_backend_pgf.py -> build\\lib.win-amd64-cpython-312\\matplotlib\\tests\n",
      "      copying lib\\matplotlib\\tests\\test_backend_ps.py -> build\\lib.win-amd64-cpython-312\\matplotlib\\tests\n",
      "      copying lib\\matplotlib\\tests\\test_backend_qt.py -> build\\lib.win-amd64-cpython-312\\matplotlib\\tests\n",
      "      copying lib\\matplotlib\\tests\\test_backend_svg.py -> build\\lib.win-amd64-cpython-312\\matplotlib\\tests\n",
      "      copying lib\\matplotlib\\tests\\test_backend_template.py -> build\\lib.win-amd64-cpython-312\\matplotlib\\tests\n",
      "      copying lib\\matplotlib\\tests\\test_backend_tk.py -> build\\lib.win-amd64-cpython-312\\matplotlib\\tests\n",
      "      copying lib\\matplotlib\\tests\\test_backend_tools.py -> build\\lib.win-amd64-cpython-312\\matplotlib\\tests\n",
      "      copying lib\\matplotlib\\tests\\test_backend_webagg.py -> build\\lib.win-amd64-cpython-312\\matplotlib\\tests\n",
      "      copying lib\\matplotlib\\tests\\test_basic.py -> build\\lib.win-amd64-cpython-312\\matplotlib\\tests\n",
      "      copying lib\\matplotlib\\tests\\test_bbox_tight.py -> build\\lib.win-amd64-cpython-312\\matplotlib\\tests\n",
      "      copying lib\\matplotlib\\tests\\test_category.py -> build\\lib.win-amd64-cpython-312\\matplotlib\\tests\n",
      "      copying lib\\matplotlib\\tests\\test_cbook.py -> build\\lib.win-amd64-cpython-312\\matplotlib\\tests\n",
      "      copying lib\\matplotlib\\tests\\test_collections.py -> build\\lib.win-amd64-cpython-312\\matplotlib\\tests\n",
      "      copying lib\\matplotlib\\tests\\test_colorbar.py -> build\\lib.win-amd64-cpython-312\\matplotlib\\tests\n",
      "      copying lib\\matplotlib\\tests\\test_colors.py -> build\\lib.win-amd64-cpython-312\\matplotlib\\tests\n",
      "      copying lib\\matplotlib\\tests\\test_compare_images.py -> build\\lib.win-amd64-cpython-312\\matplotlib\\tests\n",
      "      copying lib\\matplotlib\\tests\\test_constrainedlayout.py -> build\\lib.win-amd64-cpython-312\\matplotlib\\tests\n",
      "      copying lib\\matplotlib\\tests\\test_container.py -> build\\lib.win-amd64-cpython-312\\matplotlib\\tests\n",
      "      copying lib\\matplotlib\\tests\\test_contour.py -> build\\lib.win-amd64-cpython-312\\matplotlib\\tests\n",
      "      copying lib\\matplotlib\\tests\\test_cycles.py -> build\\lib.win-amd64-cpython-312\\matplotlib\\tests\n",
      "      copying lib\\matplotlib\\tests\\test_dates.py -> build\\lib.win-amd64-cpython-312\\matplotlib\\tests\n",
      "      copying lib\\matplotlib\\tests\\test_determinism.py -> build\\lib.win-amd64-cpython-312\\matplotlib\\tests\n",
      "      copying lib\\matplotlib\\tests\\test_doc.py -> build\\lib.win-amd64-cpython-312\\matplotlib\\tests\n",
      "      copying lib\\matplotlib\\tests\\test_dviread.py -> build\\lib.win-amd64-cpython-312\\matplotlib\\tests\n",
      "      copying lib\\matplotlib\\tests\\test_figure.py -> build\\lib.win-amd64-cpython-312\\matplotlib\\tests\n",
      "      copying lib\\matplotlib\\tests\\test_fontconfig_pattern.py -> build\\lib.win-amd64-cpython-312\\matplotlib\\tests\n",
      "      copying lib\\matplotlib\\tests\\test_font_manager.py -> build\\lib.win-amd64-cpython-312\\matplotlib\\tests\n",
      "      copying lib\\matplotlib\\tests\\test_ft2font.py -> build\\lib.win-amd64-cpython-312\\matplotlib\\tests\n",
      "      copying lib\\matplotlib\\tests\\test_getattr.py -> build\\lib.win-amd64-cpython-312\\matplotlib\\tests\n",
      "      copying lib\\matplotlib\\tests\\test_gridspec.py -> build\\lib.win-amd64-cpython-312\\matplotlib\\tests\n",
      "      copying lib\\matplotlib\\tests\\test_image.py -> build\\lib.win-amd64-cpython-312\\matplotlib\\tests\n",
      "      copying lib\\matplotlib\\tests\\test_legend.py -> build\\lib.win-amd64-cpython-312\\matplotlib\\tests\n",
      "      copying lib\\matplotlib\\tests\\test_lines.py -> build\\lib.win-amd64-cpython-312\\matplotlib\\tests\n",
      "      copying lib\\matplotlib\\tests\\test_marker.py -> build\\lib.win-amd64-cpython-312\\matplotlib\\tests\n",
      "      copying lib\\matplotlib\\tests\\test_mathtext.py -> build\\lib.win-amd64-cpython-312\\matplotlib\\tests\n",
      "      copying lib\\matplotlib\\tests\\test_matplotlib.py -> build\\lib.win-amd64-cpython-312\\matplotlib\\tests\n",
      "      copying lib\\matplotlib\\tests\\test_mlab.py -> build\\lib.win-amd64-cpython-312\\matplotlib\\tests\n",
      "      copying lib\\matplotlib\\tests\\test_offsetbox.py -> build\\lib.win-amd64-cpython-312\\matplotlib\\tests\n",
      "      copying lib\\matplotlib\\tests\\test_patches.py -> build\\lib.win-amd64-cpython-312\\matplotlib\\tests\n",
      "      copying lib\\matplotlib\\tests\\test_path.py -> build\\lib.win-amd64-cpython-312\\matplotlib\\tests\n",
      "      copying lib\\matplotlib\\tests\\test_patheffects.py -> build\\lib.win-amd64-cpython-312\\matplotlib\\tests\n",
      "      copying lib\\matplotlib\\tests\\test_pickle.py -> build\\lib.win-amd64-cpython-312\\matplotlib\\tests\n",
      "      copying lib\\matplotlib\\tests\\test_png.py -> build\\lib.win-amd64-cpython-312\\matplotlib\\tests\n",
      "      copying lib\\matplotlib\\tests\\test_polar.py -> build\\lib.win-amd64-cpython-312\\matplotlib\\tests\n",
      "      copying lib\\matplotlib\\tests\\test_preprocess_data.py -> build\\lib.win-amd64-cpython-312\\matplotlib\\tests\n",
      "      copying lib\\matplotlib\\tests\\test_pyplot.py -> build\\lib.win-amd64-cpython-312\\matplotlib\\tests\n",
      "      copying lib\\matplotlib\\tests\\test_quiver.py -> build\\lib.win-amd64-cpython-312\\matplotlib\\tests\n",
      "      copying lib\\matplotlib\\tests\\test_rcparams.py -> build\\lib.win-amd64-cpython-312\\matplotlib\\tests\n",
      "      copying lib\\matplotlib\\tests\\test_sankey.py -> build\\lib.win-amd64-cpython-312\\matplotlib\\tests\n",
      "      copying lib\\matplotlib\\tests\\test_scale.py -> build\\lib.win-amd64-cpython-312\\matplotlib\\tests\n",
      "      copying lib\\matplotlib\\tests\\test_simplification.py -> build\\lib.win-amd64-cpython-312\\matplotlib\\tests\n",
      "      copying lib\\matplotlib\\tests\\test_skew.py -> build\\lib.win-amd64-cpython-312\\matplotlib\\tests\n",
      "      copying lib\\matplotlib\\tests\\test_sphinxext.py -> build\\lib.win-amd64-cpython-312\\matplotlib\\tests\n",
      "      copying lib\\matplotlib\\tests\\test_spines.py -> build\\lib.win-amd64-cpython-312\\matplotlib\\tests\n",
      "      copying lib\\matplotlib\\tests\\test_streamplot.py -> build\\lib.win-amd64-cpython-312\\matplotlib\\tests\n",
      "      copying lib\\matplotlib\\tests\\test_style.py -> build\\lib.win-amd64-cpython-312\\matplotlib\\tests\n",
      "      copying lib\\matplotlib\\tests\\test_subplots.py -> build\\lib.win-amd64-cpython-312\\matplotlib\\tests\n",
      "      copying lib\\matplotlib\\tests\\test_table.py -> build\\lib.win-amd64-cpython-312\\matplotlib\\tests\n",
      "      copying lib\\matplotlib\\tests\\test_testing.py -> build\\lib.win-amd64-cpython-312\\matplotlib\\tests\n",
      "      copying lib\\matplotlib\\tests\\test_texmanager.py -> build\\lib.win-amd64-cpython-312\\matplotlib\\tests\n",
      "      copying lib\\matplotlib\\tests\\test_text.py -> build\\lib.win-amd64-cpython-312\\matplotlib\\tests\n",
      "      copying lib\\matplotlib\\tests\\test_textpath.py -> build\\lib.win-amd64-cpython-312\\matplotlib\\tests\n",
      "      copying lib\\matplotlib\\tests\\test_ticker.py -> build\\lib.win-amd64-cpython-312\\matplotlib\\tests\n",
      "      copying lib\\matplotlib\\tests\\test_tightlayout.py -> build\\lib.win-amd64-cpython-312\\matplotlib\\tests\n",
      "      copying lib\\matplotlib\\tests\\test_transforms.py -> build\\lib.win-amd64-cpython-312\\matplotlib\\tests\n",
      "      copying lib\\matplotlib\\tests\\test_triangulation.py -> build\\lib.win-amd64-cpython-312\\matplotlib\\tests\n",
      "      copying lib\\matplotlib\\tests\\test_ttconv.py -> build\\lib.win-amd64-cpython-312\\matplotlib\\tests\n",
      "      copying lib\\matplotlib\\tests\\test_type1font.py -> build\\lib.win-amd64-cpython-312\\matplotlib\\tests\n",
      "      copying lib\\matplotlib\\tests\\test_units.py -> build\\lib.win-amd64-cpython-312\\matplotlib\\tests\n",
      "      copying lib\\matplotlib\\tests\\test_usetex.py -> build\\lib.win-amd64-cpython-312\\matplotlib\\tests\n",
      "      copying lib\\matplotlib\\tests\\test_widgets.py -> build\\lib.win-amd64-cpython-312\\matplotlib\\tests\n",
      "      copying lib\\matplotlib\\tests\\__init__.py -> build\\lib.win-amd64-cpython-312\\matplotlib\\tests\n",
      "      creating build\\lib.win-amd64-cpython-312\\matplotlib\\tri\n",
      "      copying lib\\matplotlib\\tri\\triangulation.py -> build\\lib.win-amd64-cpython-312\\matplotlib\\tri\n",
      "      copying lib\\matplotlib\\tri\\tricontour.py -> build\\lib.win-amd64-cpython-312\\matplotlib\\tri\n",
      "      copying lib\\matplotlib\\tri\\trifinder.py -> build\\lib.win-amd64-cpython-312\\matplotlib\\tri\n",
      "      copying lib\\matplotlib\\tri\\triinterpolate.py -> build\\lib.win-amd64-cpython-312\\matplotlib\\tri\n",
      "      copying lib\\matplotlib\\tri\\tripcolor.py -> build\\lib.win-amd64-cpython-312\\matplotlib\\tri\n",
      "      copying lib\\matplotlib\\tri\\triplot.py -> build\\lib.win-amd64-cpython-312\\matplotlib\\tri\n",
      "      copying lib\\matplotlib\\tri\\trirefine.py -> build\\lib.win-amd64-cpython-312\\matplotlib\\tri\n",
      "      copying lib\\matplotlib\\tri\\tritools.py -> build\\lib.win-amd64-cpython-312\\matplotlib\\tri\n",
      "      copying lib\\matplotlib\\tri\\__init__.py -> build\\lib.win-amd64-cpython-312\\matplotlib\\tri\n",
      "      creating build\\lib.win-amd64-cpython-312\\matplotlib\\_api\n",
      "      copying lib\\matplotlib\\_api\\deprecation.py -> build\\lib.win-amd64-cpython-312\\matplotlib\\_api\n",
      "      copying lib\\matplotlib\\_api\\__init__.py -> build\\lib.win-amd64-cpython-312\\matplotlib\\_api\n",
      "      creating build\\lib.win-amd64-cpython-312\\matplotlib\\backends\\qt_editor\n",
      "      copying lib\\matplotlib\\backends\\qt_editor\\figureoptions.py -> build\\lib.win-amd64-cpython-312\\matplotlib\\backends\\qt_editor\n",
      "      copying lib\\matplotlib\\backends\\qt_editor\\_formlayout.py -> build\\lib.win-amd64-cpython-312\\matplotlib\\backends\\qt_editor\n",
      "      copying lib\\matplotlib\\backends\\qt_editor\\__init__.py -> build\\lib.win-amd64-cpython-312\\matplotlib\\backends\\qt_editor\n",
      "      creating build\\lib.win-amd64-cpython-312\\matplotlib\\testing\\jpl_units\n",
      "      copying lib\\matplotlib\\testing\\jpl_units\\Duration.py -> build\\lib.win-amd64-cpython-312\\matplotlib\\testing\\jpl_units\n",
      "      copying lib\\matplotlib\\testing\\jpl_units\\Epoch.py -> build\\lib.win-amd64-cpython-312\\matplotlib\\testing\\jpl_units\n",
      "      copying lib\\matplotlib\\testing\\jpl_units\\EpochConverter.py -> build\\lib.win-amd64-cpython-312\\matplotlib\\testing\\jpl_units\n",
      "      copying lib\\matplotlib\\testing\\jpl_units\\StrConverter.py -> build\\lib.win-amd64-cpython-312\\matplotlib\\testing\\jpl_units\n",
      "      copying lib\\matplotlib\\testing\\jpl_units\\UnitDbl.py -> build\\lib.win-amd64-cpython-312\\matplotlib\\testing\\jpl_units\n",
      "      copying lib\\matplotlib\\testing\\jpl_units\\UnitDblConverter.py -> build\\lib.win-amd64-cpython-312\\matplotlib\\testing\\jpl_units\n",
      "      copying lib\\matplotlib\\testing\\jpl_units\\UnitDblFormatter.py -> build\\lib.win-amd64-cpython-312\\matplotlib\\testing\\jpl_units\n",
      "      copying lib\\matplotlib\\testing\\jpl_units\\__init__.py -> build\\lib.win-amd64-cpython-312\\matplotlib\\testing\\jpl_units\n",
      "      creating build\\lib.win-amd64-cpython-312\\mpl_toolkits\\axes_grid1\n",
      "      copying lib\\mpl_toolkits\\axes_grid1\\anchored_artists.py -> build\\lib.win-amd64-cpython-312\\mpl_toolkits\\axes_grid1\n",
      "      copying lib\\mpl_toolkits\\axes_grid1\\axes_divider.py -> build\\lib.win-amd64-cpython-312\\mpl_toolkits\\axes_grid1\n",
      "      copying lib\\mpl_toolkits\\axes_grid1\\axes_grid.py -> build\\lib.win-amd64-cpython-312\\mpl_toolkits\\axes_grid1\n",
      "      copying lib\\mpl_toolkits\\axes_grid1\\axes_rgb.py -> build\\lib.win-amd64-cpython-312\\mpl_toolkits\\axes_grid1\n",
      "      copying lib\\mpl_toolkits\\axes_grid1\\axes_size.py -> build\\lib.win-amd64-cpython-312\\mpl_toolkits\\axes_grid1\n",
      "      copying lib\\mpl_toolkits\\axes_grid1\\inset_locator.py -> build\\lib.win-amd64-cpython-312\\mpl_toolkits\\axes_grid1\n",
      "      copying lib\\mpl_toolkits\\axes_grid1\\mpl_axes.py -> build\\lib.win-amd64-cpython-312\\mpl_toolkits\\axes_grid1\n",
      "      copying lib\\mpl_toolkits\\axes_grid1\\parasite_axes.py -> build\\lib.win-amd64-cpython-312\\mpl_toolkits\\axes_grid1\n",
      "      copying lib\\mpl_toolkits\\axes_grid1\\__init__.py -> build\\lib.win-amd64-cpython-312\\mpl_toolkits\\axes_grid1\n",
      "      creating build\\lib.win-amd64-cpython-312\\mpl_toolkits\\axisartist\n",
      "      copying lib\\mpl_toolkits\\axisartist\\angle_helper.py -> build\\lib.win-amd64-cpython-312\\mpl_toolkits\\axisartist\n",
      "      copying lib\\mpl_toolkits\\axisartist\\axes_divider.py -> build\\lib.win-amd64-cpython-312\\mpl_toolkits\\axisartist\n",
      "      copying lib\\mpl_toolkits\\axisartist\\axes_grid.py -> build\\lib.win-amd64-cpython-312\\mpl_toolkits\\axisartist\n",
      "      copying lib\\mpl_toolkits\\axisartist\\axes_rgb.py -> build\\lib.win-amd64-cpython-312\\mpl_toolkits\\axisartist\n",
      "      copying lib\\mpl_toolkits\\axisartist\\axislines.py -> build\\lib.win-amd64-cpython-312\\mpl_toolkits\\axisartist\n",
      "      copying lib\\mpl_toolkits\\axisartist\\axisline_style.py -> build\\lib.win-amd64-cpython-312\\mpl_toolkits\\axisartist\n",
      "      copying lib\\mpl_toolkits\\axisartist\\axis_artist.py -> build\\lib.win-amd64-cpython-312\\mpl_toolkits\\axisartist\n",
      "      copying lib\\mpl_toolkits\\axisartist\\clip_path.py -> build\\lib.win-amd64-cpython-312\\mpl_toolkits\\axisartist\n",
      "      copying lib\\mpl_toolkits\\axisartist\\floating_axes.py -> build\\lib.win-amd64-cpython-312\\mpl_toolkits\\axisartist\n",
      "      copying lib\\mpl_toolkits\\axisartist\\grid_finder.py -> build\\lib.win-amd64-cpython-312\\mpl_toolkits\\axisartist\n",
      "      copying lib\\mpl_toolkits\\axisartist\\grid_helper_curvelinear.py -> build\\lib.win-amd64-cpython-312\\mpl_toolkits\\axisartist\n",
      "      copying lib\\mpl_toolkits\\axisartist\\parasite_axes.py -> build\\lib.win-amd64-cpython-312\\mpl_toolkits\\axisartist\n",
      "      copying lib\\mpl_toolkits\\axisartist\\__init__.py -> build\\lib.win-amd64-cpython-312\\mpl_toolkits\\axisartist\n",
      "      creating build\\lib.win-amd64-cpython-312\\mpl_toolkits\\mplot3d\n",
      "      copying lib\\mpl_toolkits\\mplot3d\\art3d.py -> build\\lib.win-amd64-cpython-312\\mpl_toolkits\\mplot3d\n",
      "      copying lib\\mpl_toolkits\\mplot3d\\axes3d.py -> build\\lib.win-amd64-cpython-312\\mpl_toolkits\\mplot3d\n",
      "      copying lib\\mpl_toolkits\\mplot3d\\axis3d.py -> build\\lib.win-amd64-cpython-312\\mpl_toolkits\\mplot3d\n",
      "      copying lib\\mpl_toolkits\\mplot3d\\proj3d.py -> build\\lib.win-amd64-cpython-312\\mpl_toolkits\\mplot3d\n",
      "      copying lib\\mpl_toolkits\\mplot3d\\__init__.py -> build\\lib.win-amd64-cpython-312\\mpl_toolkits\\mplot3d\n",
      "      creating build\\lib.win-amd64-cpython-312\\mpl_toolkits\\tests\n",
      "      copying lib\\mpl_toolkits\\tests\\conftest.py -> build\\lib.win-amd64-cpython-312\\mpl_toolkits\\tests\n",
      "      copying lib\\mpl_toolkits\\tests\\test_axes_grid.py -> build\\lib.win-amd64-cpython-312\\mpl_toolkits\\tests\n",
      "      copying lib\\mpl_toolkits\\tests\\test_axes_grid1.py -> build\\lib.win-amd64-cpython-312\\mpl_toolkits\\tests\n",
      "      copying lib\\mpl_toolkits\\tests\\test_axisartist_angle_helper.py -> build\\lib.win-amd64-cpython-312\\mpl_toolkits\\tests\n",
      "      copying lib\\mpl_toolkits\\tests\\test_axisartist_axislines.py -> build\\lib.win-amd64-cpython-312\\mpl_toolkits\\tests\n",
      "      copying lib\\mpl_toolkits\\tests\\test_axisartist_axis_artist.py -> build\\lib.win-amd64-cpython-312\\mpl_toolkits\\tests\n",
      "      copying lib\\mpl_toolkits\\tests\\test_axisartist_clip_path.py -> build\\lib.win-amd64-cpython-312\\mpl_toolkits\\tests\n",
      "      copying lib\\mpl_toolkits\\tests\\test_axisartist_floating_axes.py -> build\\lib.win-amd64-cpython-312\\mpl_toolkits\\tests\n",
      "      copying lib\\mpl_toolkits\\tests\\test_axisartist_grid_finder.py -> build\\lib.win-amd64-cpython-312\\mpl_toolkits\\tests\n",
      "      copying lib\\mpl_toolkits\\tests\\test_axisartist_grid_helper_curvelinear.py -> build\\lib.win-amd64-cpython-312\\mpl_toolkits\\tests\n",
      "      copying lib\\mpl_toolkits\\tests\\test_mplot3d.py -> build\\lib.win-amd64-cpython-312\\mpl_toolkits\\tests\n",
      "      copying lib\\mpl_toolkits\\tests\\__init__.py -> build\\lib.win-amd64-cpython-312\\mpl_toolkits\\tests\n",
      "      creating build\\lib.win-amd64-cpython-312\\matplotlib\\mpl-data\\stylelib\n",
      "      copying lib\\matplotlib\\mpl-data\\stylelib\\seaborn-v0_8-colorblind.mplstyle -> build\\lib.win-amd64-cpython-312\\matplotlib\\mpl-data\\stylelib\n",
      "      copying lib\\matplotlib\\mpl-data\\stylelib\\seaborn-v0_8-notebook.mplstyle -> build\\lib.win-amd64-cpython-312\\matplotlib\\mpl-data\\stylelib\n",
      "      creating build\\lib.win-amd64-cpython-312\\matplotlib\\mpl-data\\sample_data\n",
      "      copying lib\\matplotlib\\mpl-data\\sample_data\\topobathy.npz -> build\\lib.win-amd64-cpython-312\\matplotlib\\mpl-data\\sample_data\n",
      "      copying lib\\matplotlib\\mpl-data\\sample_data\\percent_bachelors_degrees_women_usa.csv -> build\\lib.win-amd64-cpython-312\\matplotlib\\mpl-data\\sample_data\n",
      "      creating build\\lib.win-amd64-cpython-312\\matplotlib\\mpl-data\\fonts\\pdfcorefonts\n",
      "      copying lib\\matplotlib\\mpl-data\\fonts\\pdfcorefonts\\Courier-Oblique.afm -> build\\lib.win-amd64-cpython-312\\matplotlib\\mpl-data\\fonts\\pdfcorefonts\n",
      "      creating build\\lib.win-amd64-cpython-312\\matplotlib\\mpl-data\\fonts\\ttf\n",
      "      copying lib\\matplotlib\\mpl-data\\fonts\\ttf\\STIXSizThreeSymBol.ttf -> build\\lib.win-amd64-cpython-312\\matplotlib\\mpl-data\\fonts\\ttf\n",
      "      copying lib\\matplotlib\\mpl-data\\sample_data\\embedding_in_wx3.xrc -> build\\lib.win-amd64-cpython-312\\matplotlib\\mpl-data\\sample_data\n",
      "      creating build\\lib.win-amd64-cpython-312\\matplotlib\\mpl-data\\fonts\\afm\n",
      "      copying lib\\matplotlib\\mpl-data\\fonts\\afm\\pagk8a.afm -> build\\lib.win-amd64-cpython-312\\matplotlib\\mpl-data\\fonts\\afm\n",
      "      copying lib\\matplotlib\\mpl-data\\fonts\\pdfcorefonts\\Helvetica-BoldOblique.afm -> build\\lib.win-amd64-cpython-312\\matplotlib\\mpl-data\\fonts\\pdfcorefonts\n",
      "      creating build\\lib.win-amd64-cpython-312\\matplotlib\\mpl-data\\images\n",
      "      copying lib\\matplotlib\\mpl-data\\images\\move_large.png -> build\\lib.win-amd64-cpython-312\\matplotlib\\mpl-data\\images\n",
      "      copying lib\\matplotlib\\mpl-data\\fonts\\ttf\\cmmi10.ttf -> build\\lib.win-amd64-cpython-312\\matplotlib\\mpl-data\\fonts\\ttf\n",
      "      copying lib\\matplotlib\\mpl-data\\images\\qt4_editor_options_large.png -> build\\lib.win-amd64-cpython-312\\matplotlib\\mpl-data\\images\n",
      "      copying lib\\matplotlib\\mpl-data\\images\\back.png -> build\\lib.win-amd64-cpython-312\\matplotlib\\mpl-data\\images\n",
      "      copying lib\\matplotlib\\mpl-data\\images\\subplots.svg -> build\\lib.win-amd64-cpython-312\\matplotlib\\mpl-data\\images\n",
      "      copying lib\\matplotlib\\mpl-data\\fonts\\afm\\pbkl8a.afm -> build\\lib.win-amd64-cpython-312\\matplotlib\\mpl-data\\fonts\\afm\n",
      "      copying lib\\matplotlib\\mpl-data\\fonts\\pdfcorefonts\\Times-BoldItalic.afm -> build\\lib.win-amd64-cpython-312\\matplotlib\\mpl-data\\fonts\\pdfcorefonts\n",
      "      copying lib\\matplotlib\\mpl-data\\stylelib\\seaborn-v0_8-paper.mplstyle -> build\\lib.win-amd64-cpython-312\\matplotlib\\mpl-data\\stylelib\n",
      "      creating build\\lib.win-amd64-cpython-312\\matplotlib\\backends\\web_backend\\css\n",
      "      copying lib\\matplotlib\\backends\\web_backend\\css\\boilerplate.css -> build\\lib.win-amd64-cpython-312\\matplotlib\\backends\\web_backend\\css\n",
      "      copying lib\\matplotlib\\mpl-data\\stylelib\\Solarize_Light2.mplstyle -> build\\lib.win-amd64-cpython-312\\matplotlib\\mpl-data\\stylelib\n",
      "      copying lib\\matplotlib\\mpl-data\\fonts\\ttf\\DejaVuSans-BoldOblique.ttf -> build\\lib.win-amd64-cpython-312\\matplotlib\\mpl-data\\fonts\\ttf\n",
      "      copying lib\\matplotlib\\mpl-data\\sample_data\\msft.csv -> build\\lib.win-amd64-cpython-312\\matplotlib\\mpl-data\\sample_data\n",
      "      copying lib\\matplotlib\\mpl-data\\sample_data\\eeg.dat -> build\\lib.win-amd64-cpython-312\\matplotlib\\mpl-data\\sample_data\n",
      "      copying lib\\matplotlib\\mpl-data\\stylelib\\seaborn-v0_8-talk.mplstyle -> build\\lib.win-amd64-cpython-312\\matplotlib\\mpl-data\\stylelib\n",
      "      copying lib\\matplotlib\\mpl-data\\fonts\\afm\\pcrro8a.afm -> build\\lib.win-amd64-cpython-312\\matplotlib\\mpl-data\\fonts\\afm\n",
      "      copying lib\\matplotlib\\mpl-data\\fonts\\afm\\pplbi8a.afm -> build\\lib.win-amd64-cpython-312\\matplotlib\\mpl-data\\fonts\\afm\n",
      "      copying lib\\matplotlib\\mpl-data\\images\\home_large.png -> build\\lib.win-amd64-cpython-312\\matplotlib\\mpl-data\\images\n",
      "      copying lib\\matplotlib\\mpl-data\\images\\help.png -> build\\lib.win-amd64-cpython-312\\matplotlib\\mpl-data\\images\n",
      "      copying lib\\matplotlib\\mpl-data\\fonts\\ttf\\LICENSE_DEJAVU -> build\\lib.win-amd64-cpython-312\\matplotlib\\mpl-data\\fonts\\ttf\n",
      "      copying lib\\matplotlib\\mpl-data\\fonts\\afm\\pncb8a.afm -> build\\lib.win-amd64-cpython-312\\matplotlib\\mpl-data\\fonts\\afm\n",
      "      copying lib\\matplotlib\\mpl-data\\fonts\\afm\\pagko8a.afm -> build\\lib.win-amd64-cpython-312\\matplotlib\\mpl-data\\fonts\\afm\n",
      "      copying lib\\matplotlib\\mpl-data\\fonts\\afm\\ptmri8a.afm -> build\\lib.win-amd64-cpython-312\\matplotlib\\mpl-data\\fonts\\afm\n",
      "      copying lib\\matplotlib\\mpl-data\\images\\home-symbolic.svg -> build\\lib.win-amd64-cpython-312\\matplotlib\\mpl-data\\images\n",
      "      copying lib\\matplotlib\\mpl-data\\images\\help.svg -> build\\lib.win-amd64-cpython-312\\matplotlib\\mpl-data\\images\n",
      "      copying lib\\matplotlib\\mpl-data\\fonts\\afm\\pagd8a.afm -> build\\lib.win-amd64-cpython-312\\matplotlib\\mpl-data\\fonts\\afm\n",
      "      copying lib\\matplotlib\\mpl-data\\stylelib\\tableau-colorblind10.mplstyle -> build\\lib.win-amd64-cpython-312\\matplotlib\\mpl-data\\stylelib\n",
      "      copying lib\\matplotlib\\mpl-data\\fonts\\afm\\phvl8a.afm -> build\\lib.win-amd64-cpython-312\\matplotlib\\mpl-data\\fonts\\afm\n",
      "      copying lib\\matplotlib\\mpl-data\\fonts\\pdfcorefonts\\Courier-Bold.afm -> build\\lib.win-amd64-cpython-312\\matplotlib\\mpl-data\\fonts\\pdfcorefonts\n",
      "      copying lib\\matplotlib\\mpl-data\\fonts\\pdfcorefonts\\Times-Italic.afm -> build\\lib.win-amd64-cpython-312\\matplotlib\\mpl-data\\fonts\\pdfcorefonts\n",
      "      copying lib\\matplotlib\\mpl-data\\fonts\\ttf\\STIXNonUni.ttf -> build\\lib.win-amd64-cpython-312\\matplotlib\\mpl-data\\fonts\\ttf\n",
      "      copying lib\\matplotlib\\mpl-data\\fonts\\ttf\\STIXSizFiveSymReg.ttf -> build\\lib.win-amd64-cpython-312\\matplotlib\\mpl-data\\fonts\\ttf\n",
      "      copying lib\\matplotlib\\mpl-data\\fonts\\ttf\\DejaVuSerif.ttf -> build\\lib.win-amd64-cpython-312\\matplotlib\\mpl-data\\fonts\\ttf\n",
      "      copying lib\\matplotlib\\mpl-data\\sample_data\\README.txt -> build\\lib.win-amd64-cpython-312\\matplotlib\\mpl-data\\sample_data\n",
      "      copying lib\\matplotlib\\mpl-data\\stylelib\\seaborn-v0_8-pastel.mplstyle -> build\\lib.win-amd64-cpython-312\\matplotlib\\mpl-data\\stylelib\n",
      "      copying lib\\matplotlib\\mpl-data\\fonts\\afm\\phvro8an.afm -> build\\lib.win-amd64-cpython-312\\matplotlib\\mpl-data\\fonts\\afm\n",
      "      copying lib\\matplotlib\\mpl-data\\stylelib\\seaborn-v0_8-muted.mplstyle -> build\\lib.win-amd64-cpython-312\\matplotlib\\mpl-data\\stylelib\n",
      "      copying lib\\matplotlib\\mpl-data\\stylelib\\classic.mplstyle -> build\\lib.win-amd64-cpython-312\\matplotlib\\mpl-data\\stylelib\n",
      "      copying lib\\matplotlib\\mpl-data\\fonts\\afm\\pbkli8a.afm -> build\\lib.win-amd64-cpython-312\\matplotlib\\mpl-data\\fonts\\afm\n",
      "      copying lib\\matplotlib\\mpl-data\\fonts\\afm\\phvr8a.afm -> build\\lib.win-amd64-cpython-312\\matplotlib\\mpl-data\\fonts\\afm\n",
      "      copying lib\\matplotlib\\mpl-data\\fonts\\ttf\\DejaVuSansMono-Oblique.ttf -> build\\lib.win-amd64-cpython-312\\matplotlib\\mpl-data\\fonts\\ttf\n",
      "      copying lib\\matplotlib\\mpl-data\\fonts\\ttf\\LICENSE_STIX -> build\\lib.win-amd64-cpython-312\\matplotlib\\mpl-data\\fonts\\ttf\n",
      "      copying lib\\matplotlib\\mpl-data\\stylelib\\seaborn-v0_8-bright.mplstyle -> build\\lib.win-amd64-cpython-312\\matplotlib\\mpl-data\\stylelib\n",
      "      copying lib\\matplotlib\\mpl-data\\fonts\\ttf\\cmr10.ttf -> build\\lib.win-amd64-cpython-312\\matplotlib\\mpl-data\\fonts\\ttf\n",
      "      creating build\\lib.win-amd64-cpython-312\\matplotlib\\backends\\web_backend\\js\n",
      "      copying lib\\matplotlib\\backends\\web_backend\\js\\mpl_tornado.js -> build\\lib.win-amd64-cpython-312\\matplotlib\\backends\\web_backend\\js\n",
      "      copying lib\\matplotlib\\mpl-data\\images\\zoom_to_rect.png -> build\\lib.win-amd64-cpython-312\\matplotlib\\mpl-data\\images\n",
      "      copying lib\\matplotlib\\mpl-data\\stylelib\\seaborn-v0_8-white.mplstyle -> build\\lib.win-amd64-cpython-312\\matplotlib\\mpl-data\\stylelib\n",
      "      copying lib\\matplotlib\\mpl-data\\images\\move-symbolic.svg -> build\\lib.win-amd64-cpython-312\\matplotlib\\mpl-data\\images\n",
      "      copying lib\\matplotlib\\mpl-data\\stylelib\\seaborn-v0_8-poster.mplstyle -> build\\lib.win-amd64-cpython-312\\matplotlib\\mpl-data\\stylelib\n",
      "      copying lib\\matplotlib\\mpl-data\\fonts\\ttf\\DejaVuSans.ttf -> build\\lib.win-amd64-cpython-312\\matplotlib\\mpl-data\\fonts\\ttf\n",
      "      copying lib\\matplotlib\\mpl-data\\fonts\\ttf\\STIXNonUniIta.ttf -> build\\lib.win-amd64-cpython-312\\matplotlib\\mpl-data\\fonts\\ttf\n",
      "      copying lib\\matplotlib\\mpl-data\\images\\subplots.pdf -> build\\lib.win-amd64-cpython-312\\matplotlib\\mpl-data\\images\n",
      "      copying lib\\matplotlib\\mpl-data\\fonts\\ttf\\STIXSizFourSymBol.ttf -> build\\lib.win-amd64-cpython-312\\matplotlib\\mpl-data\\fonts\\ttf\n",
      "      copying lib\\matplotlib\\mpl-data\\images\\hand.pdf -> build\\lib.win-amd64-cpython-312\\matplotlib\\mpl-data\\images\n",
      "      copying lib\\matplotlib\\mpl-data\\images\\matplotlib.svg -> build\\lib.win-amd64-cpython-312\\matplotlib\\mpl-data\\images\n",
      "      copying lib\\matplotlib\\mpl-data\\images\\forward.png -> build\\lib.win-amd64-cpython-312\\matplotlib\\mpl-data\\images\n",
      "      copying lib\\matplotlib\\mpl-data\\fonts\\ttf\\STIXGeneralBolIta.ttf -> build\\lib.win-amd64-cpython-312\\matplotlib\\mpl-data\\fonts\\ttf\n",
      "      copying lib\\matplotlib\\mpl-data\\stylelib\\seaborn-v0_8-dark.mplstyle -> build\\lib.win-amd64-cpython-312\\matplotlib\\mpl-data\\stylelib\n",
      "      copying lib\\matplotlib\\mpl-data\\fonts\\ttf\\cmex10.ttf -> build\\lib.win-amd64-cpython-312\\matplotlib\\mpl-data\\fonts\\ttf\n",
      "      copying lib\\matplotlib\\mpl-data\\images\\back.svg -> build\\lib.win-amd64-cpython-312\\matplotlib\\mpl-data\\images\n",
      "      copying lib\\matplotlib\\mpl-data\\fonts\\pdfcorefonts\\Helvetica.afm -> build\\lib.win-amd64-cpython-312\\matplotlib\\mpl-data\\fonts\\pdfcorefonts\n",
      "      copying lib\\matplotlib\\mpl-data\\fonts\\pdfcorefonts\\readme.txt -> build\\lib.win-amd64-cpython-312\\matplotlib\\mpl-data\\fonts\\pdfcorefonts\n",
      "      copying lib\\matplotlib\\mpl-data\\stylelib\\seaborn-v0_8-darkgrid.mplstyle -> build\\lib.win-amd64-cpython-312\\matplotlib\\mpl-data\\stylelib\n",
      "      copying lib\\matplotlib\\mpl-data\\fonts\\afm\\cmr10.afm -> build\\lib.win-amd64-cpython-312\\matplotlib\\mpl-data\\fonts\\afm\n",
      "      copying lib\\matplotlib\\mpl-data\\fonts\\ttf\\cmtt10.ttf -> build\\lib.win-amd64-cpython-312\\matplotlib\\mpl-data\\fonts\\ttf\n",
      "      copying lib\\matplotlib\\mpl-data\\images\\filesave_large.png -> build\\lib.win-amd64-cpython-312\\matplotlib\\mpl-data\\images\n",
      "      copying lib\\matplotlib\\mpl-data\\fonts\\ttf\\DejaVuSansMono-BoldOblique.ttf -> build\\lib.win-amd64-cpython-312\\matplotlib\\mpl-data\\fonts\\ttf\n",
      "      copying lib\\matplotlib\\backends\\web_backend\\.prettierignore -> build\\lib.win-amd64-cpython-312\\matplotlib\\backends\\web_backend\n",
      "      copying lib\\matplotlib\\mpl-data\\stylelib\\_classic_test_patch.mplstyle -> build\\lib.win-amd64-cpython-312\\matplotlib\\mpl-data\\stylelib\n",
      "      copying lib\\matplotlib\\mpl-data\\fonts\\pdfcorefonts\\Symbol.afm -> build\\lib.win-amd64-cpython-312\\matplotlib\\mpl-data\\fonts\\pdfcorefonts\n",
      "      copying lib\\matplotlib\\mpl-data\\images\\forward_large.png -> build\\lib.win-amd64-cpython-312\\matplotlib\\mpl-data\\images\n",
      "      copying lib\\matplotlib\\backends\\web_backend\\nbagg_uat.ipynb -> build\\lib.win-amd64-cpython-312\\matplotlib\\backends\\web_backend\n",
      "      copying lib\\matplotlib\\mpl-data\\fonts\\afm\\pbkdi8a.afm -> build\\lib.win-amd64-cpython-312\\matplotlib\\mpl-data\\fonts\\afm\n",
      "      copying lib\\matplotlib\\mpl-data\\fonts\\afm\\phvbo8a.afm -> build\\lib.win-amd64-cpython-312\\matplotlib\\mpl-data\\fonts\\afm\n",
      "      copying lib\\matplotlib\\mpl-data\\fonts\\afm\\putr8a.afm -> build\\lib.win-amd64-cpython-312\\matplotlib\\mpl-data\\fonts\\afm\n",
      "      copying lib\\matplotlib\\mpl-data\\fonts\\afm\\phvbo8an.afm -> build\\lib.win-amd64-cpython-312\\matplotlib\\mpl-data\\fonts\\afm\n",
      "      copying lib\\matplotlib\\mpl-data\\images\\subplots_large.png -> build\\lib.win-amd64-cpython-312\\matplotlib\\mpl-data\\images\n",
      "      copying lib\\matplotlib\\mpl-data\\stylelib\\ggplot.mplstyle -> build\\lib.win-amd64-cpython-312\\matplotlib\\mpl-data\\stylelib\n",
      "      copying lib\\matplotlib\\mpl-data\\fonts\\afm\\pncri8a.afm -> build\\lib.win-amd64-cpython-312\\matplotlib\\mpl-data\\fonts\\afm\n",
      "      copying lib\\matplotlib\\mpl-data\\fonts\\afm\\phvlo8a.afm -> build\\lib.win-amd64-cpython-312\\matplotlib\\mpl-data\\fonts\\afm\n",
      "      copying lib\\matplotlib\\backends\\web_backend\\package.json -> build\\lib.win-amd64-cpython-312\\matplotlib\\backends\\web_backend\n",
      "      copying lib\\matplotlib\\mpl-data\\stylelib\\seaborn-v0_8-whitegrid.mplstyle -> build\\lib.win-amd64-cpython-312\\matplotlib\\mpl-data\\stylelib\n",
      "      copying lib\\matplotlib\\mpl-data\\fonts\\ttf\\DejaVuSansMono.ttf -> build\\lib.win-amd64-cpython-312\\matplotlib\\mpl-data\\fonts\\ttf\n",
      "      copying lib\\matplotlib\\mpl-data\\images\\subplots.png -> build\\lib.win-amd64-cpython-312\\matplotlib\\mpl-data\\images\n",
      "      copying lib\\matplotlib\\backends\\web_backend\\single_figure.html -> build\\lib.win-amd64-cpython-312\\matplotlib\\backends\\web_backend\n",
      "      copying lib\\matplotlib\\mpl-data\\fonts\\afm\\pcrr8a.afm -> build\\lib.win-amd64-cpython-312\\matplotlib\\mpl-data\\fonts\\afm\n",
      "      copying lib\\matplotlib\\mpl-data\\images\\home.png -> build\\lib.win-amd64-cpython-312\\matplotlib\\mpl-data\\images\n",
      "      copying lib\\matplotlib\\mpl-data\\fonts\\afm\\pcrbo8a.afm -> build\\lib.win-amd64-cpython-312\\matplotlib\\mpl-data\\fonts\\afm\n",
      "      copying lib\\matplotlib\\mpl-data\\stylelib\\_mpl-gallery-nogrid.mplstyle -> build\\lib.win-amd64-cpython-312\\matplotlib\\mpl-data\\stylelib\n",
      "      copying lib\\matplotlib\\mpl-data\\images\\zoom_to_rect.svg -> build\\lib.win-amd64-cpython-312\\matplotlib\\mpl-data\\images\n",
      "      copying lib\\matplotlib\\mpl-data\\fonts\\ttf\\DejaVuSerif-BoldItalic.ttf -> build\\lib.win-amd64-cpython-312\\matplotlib\\mpl-data\\fonts\\ttf\n",
      "      copying lib\\matplotlib\\mpl-data\\sample_data\\s1045.ima.gz -> build\\lib.win-amd64-cpython-312\\matplotlib\\mpl-data\\sample_data\n",
      "      copying lib\\matplotlib\\mpl-data\\images\\hand.png -> build\\lib.win-amd64-cpython-312\\matplotlib\\mpl-data\\images\n",
      "      copying lib\\matplotlib\\mpl-data\\images\\help-symbolic.svg -> build\\lib.win-amd64-cpython-312\\matplotlib\\mpl-data\\images\n",
      "      copying lib\\matplotlib\\mpl-data\\fonts\\afm\\cmmi10.afm -> build\\lib.win-amd64-cpython-312\\matplotlib\\mpl-data\\fonts\\afm\n",
      "      copying lib\\matplotlib\\mpl-data\\images\\qt4_editor_options.svg -> build\\lib.win-amd64-cpython-312\\matplotlib\\mpl-data\\images\n",
      "      copying lib\\matplotlib\\mpl-data\\images\\filesave.svg -> build\\lib.win-amd64-cpython-312\\matplotlib\\mpl-data\\images\n",
      "      copying lib\\matplotlib\\mpl-data\\fonts\\ttf\\STIXGeneralBol.ttf -> build\\lib.win-amd64-cpython-312\\matplotlib\\mpl-data\\fonts\\ttf\n",
      "      copying lib\\matplotlib\\backends\\web_backend\\css\\mpl.css -> build\\lib.win-amd64-cpython-312\\matplotlib\\backends\\web_backend\\css\n",
      "      copying lib\\matplotlib\\mpl-data\\fonts\\afm\\psyr.afm -> build\\lib.win-amd64-cpython-312\\matplotlib\\mpl-data\\fonts\\afm\n",
      "      copying lib\\matplotlib\\mpl-data\\fonts\\ttf\\STIXNonUniBol.ttf -> build\\lib.win-amd64-cpython-312\\matplotlib\\mpl-data\\fonts\\ttf\n",
      "      copying lib\\matplotlib\\mpl-data\\sample_data\\goog.npz -> build\\lib.win-amd64-cpython-312\\matplotlib\\mpl-data\\sample_data\n",
      "      copying lib\\matplotlib\\backends\\web_backend\\.eslintrc.js -> build\\lib.win-amd64-cpython-312\\matplotlib\\backends\\web_backend\n",
      "      copying lib\\matplotlib\\mpl-data\\stylelib\\seaborn-v0_8-ticks.mplstyle -> build\\lib.win-amd64-cpython-312\\matplotlib\\mpl-data\\stylelib\n",
      "      copying lib\\matplotlib\\mpl-data\\fonts\\ttf\\DejaVuSans-Bold.ttf -> build\\lib.win-amd64-cpython-312\\matplotlib\\mpl-data\\fonts\\ttf\n",
      "      copying lib\\matplotlib\\mpl-data\\fonts\\afm\\phvb8a.afm -> build\\lib.win-amd64-cpython-312\\matplotlib\\mpl-data\\fonts\\afm\n",
      "      copying lib\\matplotlib\\backends\\web_backend\\js\\mpl.js -> build\\lib.win-amd64-cpython-312\\matplotlib\\backends\\web_backend\\js\n",
      "      copying lib\\matplotlib\\mpl-data\\fonts\\afm\\pzcmi8a.afm -> build\\lib.win-amd64-cpython-312\\matplotlib\\mpl-data\\fonts\\afm\n",
      "      copying lib\\matplotlib\\mpl-data\\fonts\\ttf\\DejaVuSansDisplay.ttf -> build\\lib.win-amd64-cpython-312\\matplotlib\\mpl-data\\fonts\\ttf\n",
      "      creating build\\lib.win-amd64-cpython-312\\matplotlib\\mpl-data\\plot_directive\n",
      "      copying lib\\matplotlib\\mpl-data\\plot_directive\\plot_directive.css -> build\\lib.win-amd64-cpython-312\\matplotlib\\mpl-data\\plot_directive\n",
      "      copying lib\\matplotlib\\mpl-data\\stylelib\\seaborn-v0_8.mplstyle -> build\\lib.win-amd64-cpython-312\\matplotlib\\mpl-data\\stylelib\n",
      "      copying lib\\matplotlib\\mpl-data\\sample_data\\grace_hopper.jpg -> build\\lib.win-amd64-cpython-312\\matplotlib\\mpl-data\\sample_data\n",
      "      copying lib\\matplotlib\\mpl-data\\images\\zoom_to_rect.pdf -> build\\lib.win-amd64-cpython-312\\matplotlib\\mpl-data\\images\n",
      "      copying lib\\matplotlib\\mpl-data\\stylelib\\seaborn-v0_8-deep.mplstyle -> build\\lib.win-amd64-cpython-312\\matplotlib\\mpl-data\\stylelib\n",
      "      copying lib\\matplotlib\\mpl-data\\fonts\\afm\\pbkd8a.afm -> build\\lib.win-amd64-cpython-312\\matplotlib\\mpl-data\\fonts\\afm\n",
      "      copying lib\\matplotlib\\mpl-data\\stylelib\\seaborn-v0_8-dark-palette.mplstyle -> build\\lib.win-amd64-cpython-312\\matplotlib\\mpl-data\\stylelib\n",
      "      copying lib\\matplotlib\\mpl-data\\fonts\\afm\\pncbi8a.afm -> build\\lib.win-amd64-cpython-312\\matplotlib\\mpl-data\\fonts\\afm\n",
      "      copying lib\\matplotlib\\mpl-data\\fonts\\ttf\\STIXSizThreeSymReg.ttf -> build\\lib.win-amd64-cpython-312\\matplotlib\\mpl-data\\fonts\\ttf\n",
      "      copying lib\\matplotlib\\backends\\web_backend\\js\\nbagg_mpl.js -> build\\lib.win-amd64-cpython-312\\matplotlib\\backends\\web_backend\\js\n",
      "      copying lib\\matplotlib\\mpl-data\\fonts\\afm\\cmtt10.afm -> build\\lib.win-amd64-cpython-312\\matplotlib\\mpl-data\\fonts\\afm\n",
      "      copying lib\\matplotlib\\mpl-data\\fonts\\ttf\\DejaVuSans-Oblique.ttf -> build\\lib.win-amd64-cpython-312\\matplotlib\\mpl-data\\fonts\\ttf\n",
      "      copying lib\\matplotlib\\mpl-data\\images\\matplotlib_large.png -> build\\lib.win-amd64-cpython-312\\matplotlib\\mpl-data\\images\n",
      "      copying lib\\matplotlib\\mpl-data\\sample_data\\Stocks.csv -> build\\lib.win-amd64-cpython-312\\matplotlib\\mpl-data\\sample_data\n",
      "      copying lib\\matplotlib\\mpl-data\\fonts\\afm\\putbi8a.afm -> build\\lib.win-amd64-cpython-312\\matplotlib\\mpl-data\\fonts\\afm\n",
      "      copying lib\\matplotlib\\mpl-data\\images\\qt4_editor_options.png -> build\\lib.win-amd64-cpython-312\\matplotlib\\mpl-data\\images\n",
      "      copying lib\\matplotlib\\mpl-data\\fonts\\ttf\\STIXGeneral.ttf -> build\\lib.win-amd64-cpython-312\\matplotlib\\mpl-data\\fonts\\ttf\n",
      "      copying lib\\matplotlib\\mpl-data\\fonts\\ttf\\STIXNonUniBolIta.ttf -> build\\lib.win-amd64-cpython-312\\matplotlib\\mpl-data\\fonts\\ttf\n",
      "      copying lib\\matplotlib\\mpl-data\\fonts\\ttf\\STIXSizTwoSymReg.ttf -> build\\lib.win-amd64-cpython-312\\matplotlib\\mpl-data\\fonts\\ttf\n",
      "      copying lib\\matplotlib\\mpl-data\\images\\forward-symbolic.svg -> build\\lib.win-amd64-cpython-312\\matplotlib\\mpl-data\\images\n",
      "      copying lib\\matplotlib\\mpl-data\\images\\matplotlib.png -> build\\lib.win-amd64-cpython-312\\matplotlib\\mpl-data\\images\n",
      "      copying lib\\matplotlib\\mpl-data\\fonts\\afm\\pplr8a.afm -> build\\lib.win-amd64-cpython-312\\matplotlib\\mpl-data\\fonts\\afm\n",
      "      copying lib\\matplotlib\\mpl-data\\fonts\\afm\\phvr8an.afm -> build\\lib.win-amd64-cpython-312\\matplotlib\\mpl-data\\fonts\\afm\n",
      "      copying lib\\matplotlib\\mpl-data\\fonts\\afm\\ptmr8a.afm -> build\\lib.win-amd64-cpython-312\\matplotlib\\mpl-data\\fonts\\afm\n",
      "      copying lib\\matplotlib\\mpl-data\\fonts\\afm\\pplri8a.afm -> build\\lib.win-amd64-cpython-312\\matplotlib\\mpl-data\\fonts\\afm\n",
      "      copying lib\\matplotlib\\mpl-data\\fonts\\afm\\putb8a.afm -> build\\lib.win-amd64-cpython-312\\matplotlib\\mpl-data\\fonts\\afm\n",
      "      copying lib\\matplotlib\\mpl-data\\sample_data\\membrane.dat -> build\\lib.win-amd64-cpython-312\\matplotlib\\mpl-data\\sample_data\n",
      "      copying lib\\matplotlib\\mpl-data\\matplotlibrc -> build\\lib.win-amd64-cpython-312\\matplotlib\\mpl-data\n",
      "      copying lib\\matplotlib\\mpl-data\\sample_data\\logo2.png -> build\\lib.win-amd64-cpython-312\\matplotlib\\mpl-data\\sample_data\n",
      "      copying lib\\matplotlib\\mpl-data\\images\\subplots-symbolic.svg -> build\\lib.win-amd64-cpython-312\\matplotlib\\mpl-data\\images\n",
      "      copying lib\\matplotlib\\mpl-data\\fonts\\afm\\phvb8an.afm -> build\\lib.win-amd64-cpython-312\\matplotlib\\mpl-data\\fonts\\afm\n",
      "      copying lib\\matplotlib\\mpl-data\\fonts\\ttf\\DejaVuSerif-Bold.ttf -> build\\lib.win-amd64-cpython-312\\matplotlib\\mpl-data\\fonts\\ttf\n",
      "      copying lib\\matplotlib\\mpl-data\\stylelib\\_mpl-gallery.mplstyle -> build\\lib.win-amd64-cpython-312\\matplotlib\\mpl-data\\stylelib\n",
      "      copying lib\\matplotlib\\mpl-data\\fonts\\afm\\pagdo8a.afm -> build\\lib.win-amd64-cpython-312\\matplotlib\\mpl-data\\fonts\\afm\n",
      "      copying lib\\matplotlib\\mpl-data\\fonts\\pdfcorefonts\\Times-Roman.afm -> build\\lib.win-amd64-cpython-312\\matplotlib\\mpl-data\\fonts\\pdfcorefonts\n",
      "      copying lib\\matplotlib\\backends\\web_backend\\all_figures.html -> build\\lib.win-amd64-cpython-312\\matplotlib\\backends\\web_backend\n",
      "      copying lib\\matplotlib\\mpl-data\\images\\filesave.png -> build\\lib.win-amd64-cpython-312\\matplotlib\\mpl-data\\images\n",
      "      copying lib\\matplotlib\\mpl-data\\fonts\\afm\\pzdr.afm -> build\\lib.win-amd64-cpython-312\\matplotlib\\mpl-data\\fonts\\afm\n",
      "      copying lib\\matplotlib\\mpl-data\\kpsewhich.lua -> build\\lib.win-amd64-cpython-312\\matplotlib\\mpl-data\n",
      "      copying lib\\matplotlib\\mpl-data\\images\\home.svg -> build\\lib.win-amd64-cpython-312\\matplotlib\\mpl-data\\images\n",
      "      copying lib\\matplotlib\\mpl-data\\images\\back-symbolic.svg -> build\\lib.win-amd64-cpython-312\\matplotlib\\mpl-data\\images\n",
      "      copying lib\\matplotlib\\mpl-data\\images\\help.pdf -> build\\lib.win-amd64-cpython-312\\matplotlib\\mpl-data\\images\n",
      "      copying lib\\matplotlib\\mpl-data\\fonts\\afm\\pcrb8a.afm -> build\\lib.win-amd64-cpython-312\\matplotlib\\mpl-data\\fonts\\afm\n",
      "      copying lib\\matplotlib\\mpl-data\\fonts\\ttf\\STIXSizOneSymReg.ttf -> build\\lib.win-amd64-cpython-312\\matplotlib\\mpl-data\\fonts\\ttf\n",
      "      copying lib\\matplotlib\\mpl-data\\stylelib\\grayscale.mplstyle -> build\\lib.win-amd64-cpython-312\\matplotlib\\mpl-data\\stylelib\n",
      "      copying lib\\matplotlib\\mpl-data\\fonts\\afm\\ptmb8a.afm -> build\\lib.win-amd64-cpython-312\\matplotlib\\mpl-data\\fonts\\afm\n",
      "      copying lib\\matplotlib\\mpl-data\\fonts\\ttf\\cmss10.ttf -> build\\lib.win-amd64-cpython-312\\matplotlib\\mpl-data\\fonts\\ttf\n",
      "      copying lib\\matplotlib\\mpl-data\\fonts\\afm\\pplb8a.afm -> build\\lib.win-amd64-cpython-312\\matplotlib\\mpl-data\\fonts\\afm\n",
      "      copying lib\\matplotlib\\mpl-data\\images\\back.pdf -> build\\lib.win-amd64-cpython-312\\matplotlib\\mpl-data\\images\n",
      "      copying lib\\matplotlib\\mpl-data\\images\\zoom_to_rect_large.png -> build\\lib.win-amd64-cpython-312\\matplotlib\\mpl-data\\images\n",
      "      copying lib\\matplotlib\\mpl-data\\images\\zoom_to_rect-symbolic.svg -> build\\lib.win-amd64-cpython-312\\matplotlib\\mpl-data\\images\n",
      "      copying lib\\matplotlib\\mpl-data\\fonts\\afm\\ptmbi8a.afm -> build\\lib.win-amd64-cpython-312\\matplotlib\\mpl-data\\fonts\\afm\n",
      "      copying lib\\matplotlib\\mpl-data\\images\\filesave-symbolic.svg -> build\\lib.win-amd64-cpython-312\\matplotlib\\mpl-data\\images\n",
      "      copying lib\\matplotlib\\mpl-data\\fonts\\pdfcorefonts\\Times-Bold.afm -> build\\lib.win-amd64-cpython-312\\matplotlib\\mpl-data\\fonts\\pdfcorefonts\n",
      "      copying lib\\matplotlib\\mpl-data\\fonts\\ttf\\DejaVuSerifDisplay.ttf -> build\\lib.win-amd64-cpython-312\\matplotlib\\mpl-data\\fonts\\ttf\n",
      "      copying lib\\matplotlib\\mpl-data\\stylelib\\bmh.mplstyle -> build\\lib.win-amd64-cpython-312\\matplotlib\\mpl-data\\stylelib\n",
      "      copying lib\\matplotlib\\mpl-data\\stylelib\\fast.mplstyle -> build\\lib.win-amd64-cpython-312\\matplotlib\\mpl-data\\stylelib\n",
      "      copying lib\\matplotlib\\mpl-data\\fonts\\ttf\\STIXSizFourSymReg.ttf -> build\\lib.win-amd64-cpython-312\\matplotlib\\mpl-data\\fonts\\ttf\n",
      "      copying lib\\matplotlib\\mpl-data\\fonts\\afm\\cmex10.afm -> build\\lib.win-amd64-cpython-312\\matplotlib\\mpl-data\\fonts\\afm\n",
      "      copying lib\\matplotlib\\mpl-data\\images\\hand.svg -> build\\lib.win-amd64-cpython-312\\matplotlib\\mpl-data\\images\n",
      "      creating build\\lib.win-amd64-cpython-312\\matplotlib\\mpl-data\\sample_data\\axes_grid\n",
      "      copying lib\\matplotlib\\mpl-data\\sample_data\\axes_grid\\bivariate_normal.npy -> build\\lib.win-amd64-cpython-312\\matplotlib\\mpl-data\\sample_data\\axes_grid\n",
      "      copying lib\\matplotlib\\mpl-data\\images\\help_large.png -> build\\lib.win-amd64-cpython-312\\matplotlib\\mpl-data\\images\n",
      "      copying lib\\matplotlib\\mpl-data\\images\\move.svg -> build\\lib.win-amd64-cpython-312\\matplotlib\\mpl-data\\images\n",
      "      copying lib\\matplotlib\\mpl-data\\fonts\\pdfcorefonts\\Helvetica-Bold.afm -> build\\lib.win-amd64-cpython-312\\matplotlib\\mpl-data\\fonts\\pdfcorefonts\n",
      "      copying lib\\matplotlib\\mpl-data\\images\\back_large.png -> build\\lib.win-amd64-cpython-312\\matplotlib\\mpl-data\\images\n",
      "      copying lib\\matplotlib\\mpl-data\\sample_data\\jacksboro_fault_dem.npz -> build\\lib.win-amd64-cpython-312\\matplotlib\\mpl-data\\sample_data\n",
      "      copying lib\\matplotlib\\mpl-data\\fonts\\afm\\phvro8a.afm -> build\\lib.win-amd64-cpython-312\\matplotlib\\mpl-data\\fonts\\afm\n",
      "      copying lib\\matplotlib\\mpl-data\\fonts\\pdfcorefonts\\Helvetica-Oblique.afm -> build\\lib.win-amd64-cpython-312\\matplotlib\\mpl-data\\fonts\\pdfcorefonts\n",
      "      copying lib\\matplotlib\\mpl-data\\fonts\\afm\\pncr8a.afm -> build\\lib.win-amd64-cpython-312\\matplotlib\\mpl-data\\fonts\\afm\n",
      "      copying lib\\matplotlib\\mpl-data\\stylelib\\dark_background.mplstyle -> build\\lib.win-amd64-cpython-312\\matplotlib\\mpl-data\\stylelib\n",
      "      copying lib\\matplotlib\\mpl-data\\images\\matplotlib.pdf -> build\\lib.win-amd64-cpython-312\\matplotlib\\mpl-data\\images\n",
      "      copying lib\\matplotlib\\mpl-data\\images\\move.png -> build\\lib.win-amd64-cpython-312\\matplotlib\\mpl-data\\images\n",
      "      copying lib\\matplotlib\\mpl-data\\images\\forward.pdf -> build\\lib.win-amd64-cpython-312\\matplotlib\\mpl-data\\images\n",
      "      copying lib\\matplotlib\\mpl-data\\fonts\\ttf\\DejaVuSerif-Italic.ttf -> build\\lib.win-amd64-cpython-312\\matplotlib\\mpl-data\\fonts\\ttf\n",
      "      copying lib\\matplotlib\\backends\\web_backend\\.prettierrc -> build\\lib.win-amd64-cpython-312\\matplotlib\\backends\\web_backend\n",
      "      copying lib\\matplotlib\\mpl-data\\fonts\\ttf\\STIXSizOneSymBol.ttf -> build\\lib.win-amd64-cpython-312\\matplotlib\\mpl-data\\fonts\\ttf\n",
      "      copying lib\\matplotlib\\mpl-data\\fonts\\ttf\\STIXSizTwoSymBol.ttf -> build\\lib.win-amd64-cpython-312\\matplotlib\\mpl-data\\fonts\\ttf\n",
      "      copying lib\\matplotlib\\backends\\web_backend\\css\\fbm.css -> build\\lib.win-amd64-cpython-312\\matplotlib\\backends\\web_backend\\css\n",
      "      copying lib\\matplotlib\\mpl-data\\images\\home.pdf -> build\\lib.win-amd64-cpython-312\\matplotlib\\mpl-data\\images\n",
      "      copying lib\\matplotlib\\mpl-data\\fonts\\ttf\\cmsy10.ttf -> build\\lib.win-amd64-cpython-312\\matplotlib\\mpl-data\\fonts\\ttf\n",
      "      copying lib\\matplotlib\\mpl-data\\fonts\\ttf\\STIXGeneralItalic.ttf -> build\\lib.win-amd64-cpython-312\\matplotlib\\mpl-data\\fonts\\ttf\n",
      "      copying lib\\matplotlib\\mpl-data\\fonts\\pdfcorefonts\\Courier-BoldOblique.afm -> build\\lib.win-amd64-cpython-312\\matplotlib\\mpl-data\\fonts\\pdfcorefonts\n",
      "      copying lib\\matplotlib\\mpl-data\\stylelib\\fivethirtyeight.mplstyle -> build\\lib.win-amd64-cpython-312\\matplotlib\\mpl-data\\stylelib\n",
      "      copying lib\\matplotlib\\mpl-data\\fonts\\pdfcorefonts\\ZapfDingbats.afm -> build\\lib.win-amd64-cpython-312\\matplotlib\\mpl-data\\fonts\\pdfcorefonts\n",
      "      copying lib\\matplotlib\\mpl-data\\fonts\\ttf\\DejaVuSansMono-Bold.ttf -> build\\lib.win-amd64-cpython-312\\matplotlib\\mpl-data\\fonts\\ttf\n",
      "      copying lib\\matplotlib\\mpl-data\\fonts\\pdfcorefonts\\Courier.afm -> build\\lib.win-amd64-cpython-312\\matplotlib\\mpl-data\\fonts\\pdfcorefonts\n",
      "      copying lib\\matplotlib\\backends\\web_backend\\css\\page.css -> build\\lib.win-amd64-cpython-312\\matplotlib\\backends\\web_backend\\css\n",
      "      copying lib\\matplotlib\\backends\\web_backend\\ipython_inline_figure.html -> build\\lib.win-amd64-cpython-312\\matplotlib\\backends\\web_backend\n",
      "      copying lib\\matplotlib\\mpl-data\\fonts\\ttf\\cmb10.ttf -> build\\lib.win-amd64-cpython-312\\matplotlib\\mpl-data\\fonts\\ttf\n",
      "      copying lib\\matplotlib\\mpl-data\\sample_data\\Minduka_Present_Blue_Pack.png -> build\\lib.win-amd64-cpython-312\\matplotlib\\mpl-data\\sample_data\n",
      "      copying lib\\matplotlib\\mpl-data\\images\\move.pdf -> build\\lib.win-amd64-cpython-312\\matplotlib\\mpl-data\\images\n",
      "      copying lib\\matplotlib\\mpl-data\\images\\filesave.pdf -> build\\lib.win-amd64-cpython-312\\matplotlib\\mpl-data\\images\n",
      "      copying lib\\matplotlib\\mpl-data\\images\\qt4_editor_options.pdf -> build\\lib.win-amd64-cpython-312\\matplotlib\\mpl-data\\images\n",
      "      copying lib\\matplotlib\\mpl-data\\fonts\\afm\\cmsy10.afm -> build\\lib.win-amd64-cpython-312\\matplotlib\\mpl-data\\fonts\\afm\n",
      "      copying lib\\matplotlib\\mpl-data\\images\\forward.svg -> build\\lib.win-amd64-cpython-312\\matplotlib\\mpl-data\\images\n",
      "      copying lib\\matplotlib\\mpl-data\\fonts\\afm\\putri8a.afm -> build\\lib.win-amd64-cpython-312\\matplotlib\\mpl-data\\fonts\\afm\n",
      "      copying lib\\matplotlib\\mpl-data\\sample_data\\data_x_x2_x3.csv -> build\\lib.win-amd64-cpython-312\\matplotlib\\mpl-data\\sample_data\n",
      "      running build_ext\n",
      "      Extracting /project/freetype/freetype2/2.6.1/freetype-2.6.1.tar.gz\n",
      "      Building freetype in build\\freetype-2.6.1\n",
      "      error: Microsoft Visual C++ 14.0 or greater is required. Get it with \"Microsoft C++ Build Tools\": https://visualstudio.microsoft.com/visual-cpp-build-tools/\n",
      "      [end of output]\n",
      "  \n",
      "  note: This error originates from a subprocess, and is likely not a problem with pip.\n",
      "  ERROR: Failed building wheel for matplotlib\n",
      "ERROR: Could not build wheels for matplotlib, which is required to install pyproject.toml-based projects\n",
      "\n",
      "[notice] A new release of pip is available: 24.0 -> 24.3.1\n",
      "[notice] To update, run: python.exe -m pip install --upgrade pip\n"
     ]
    }
   ],
   "source": [
    "!pip install matplotlib==3.6.2"
   ]
  },
  {
   "cell_type": "markdown",
   "metadata": {
    "id": "gIel-P6GLwoN"
   },
   "source": [
    "Importar as Bibliotecas sem alias\n",
    "\n",
    "\n",
    "*   é como dar um apelido pra biblioteca\n",
    "\n"
   ]
  },
  {
   "cell_type": "code",
   "execution_count": null,
   "metadata": {
    "id": "rbkB3UVWMBZL"
   },
   "outputs": [],
   "source": [
    "import matplotlib"
   ]
  },
  {
   "cell_type": "markdown",
   "metadata": {
    "id": "5vFhSU3tMRY_"
   },
   "source": [
    "ver a versão da biblioteca"
   ]
  },
  {
   "cell_type": "code",
   "execution_count": null,
   "metadata": {
    "colab": {
     "base_uri": "https://localhost:8080/",
     "height": 36
    },
    "id": "Hi8wyGD2MU3R",
    "outputId": "01d81b1b-363c-40d3-87a7-521280075b5e"
   },
   "outputs": [
    {
     "data": {
      "application/vnd.google.colaboratory.intrinsic+json": {
       "type": "string"
      },
      "text/plain": [
       "'3.6.2'"
      ]
     },
     "execution_count": 3,
     "metadata": {},
     "output_type": "execute_result"
    }
   ],
   "source": [
    "matplotlib.__version__"
   ]
  },
  {
   "cell_type": "markdown",
   "metadata": {
    "id": "G4c_2KKAMlL6"
   },
   "source": [
    "Importar as Bibliotecas com alias"
   ]
  },
  {
   "cell_type": "code",
   "execution_count": 5,
   "metadata": {
    "id": "Xb0qWL2NMqV3"
   },
   "outputs": [],
   "source": [
    "import matplotlib.pyplot as plt"
   ]
  },
  {
   "cell_type": "markdown",
   "metadata": {
    "id": "oAiBg4xuM2Lb"
   },
   "source": [
    "**Pip** é a ferramenta usada para instalar pacotes Python.  \n",
    "**PyPI** (Python Package Index) é o repositório onde os pacotes estão hospedados.  \n",
    "\n",
    "Resumindo: **pip baixa pacotes do PyPI**.\n"
   ]
  },
  {
   "cell_type": "code",
   "execution_count": 8,
   "metadata": {
    "id": "vdP2rLTzMytX"
   },
   "outputs": [],
   "source": [
    "students = [\"John\", \"Mary\", \"Joseph\", \"Anna\"]\n",
    "grades = [10, 5.5, 7.2, 0.5]\n"
   ]
  },
  {
   "cell_type": "code",
   "execution_count": 9,
   "metadata": {
    "colab": {
     "base_uri": "https://localhost:8080/",
     "height": 447
    },
    "id": "BaEA6NDzPD2D",
    "outputId": "f01804e4-5513-47fa-8fa3-507b4c3fbc81"
   },
   "outputs": [
    {
     "data": {
      "text/plain": [
       "<BarContainer object of 4 artists>"
      ]
     },
     "execution_count": 9,
     "metadata": {},
     "output_type": "execute_result"
    },
    {
     "data": {
      "image/png": "[encoded data removed]",
      "text/plain": [
       "<Figure size 640x480 with 1 Axes>"
      ]
     },
     "metadata": {},
     "output_type": "display_data"
    }
   ],
   "source": [
    "plt.bar(x=students, height=grades)"
   ]
  },
  {
   "cell_type": "markdown",
   "metadata": {
    "id": "EieGULckQAyr"
   },
   "source": [
    "Importa uma função específica de uma biblioteca"
   ]
  },
  {
   "cell_type": "code",
   "execution_count": 11,
   "metadata": {
    "id": "C5qJNZeiPgw5"
   },
   "outputs": [],
   "source": [
    "from random import choice"
   ]
  },
  {
   "cell_type": "markdown",
   "metadata": {
    "id": "Mut-wW0QR0AG"
   },
   "source": [
    "help: retorna uma descrição sobre uma varialvel, método ou classe"
   ]
  },
  {
   "cell_type": "code",
   "execution_count": 12,
   "metadata": {
    "colab": {
     "base_uri": "https://localhost:8080/"
    },
    "id": "ohtqoK4eP85L",
    "outputId": "e7d2fdd5-9178-4900-f127-bf230291868a"
   },
   "outputs": [
    {
     "name": "stdout",
     "output_type": "stream",
     "text": [
      "Help on method choice in module random:\n",
      "\n",
      "choice(seq) method of random.Random instance\n",
      "    Choose a random element from a non-empty sequence.\n",
      "\n"
     ]
    }
   ],
   "source": [
    "help(choice)"
   ]
  },
  {
   "cell_type": "markdown",
   "metadata": {
    "id": "htSLSr1eST6X"
   },
   "source": [
    "Choice recebe uma sequencia de dados, que vai escolher aleatóriamente"
   ]
  },
  {
   "cell_type": "code",
   "execution_count": 13,
   "metadata": {
    "colab": {
     "base_uri": "https://localhost:8080/",
     "height": 36
    },
    "id": "PBr62R0dQQxv",
    "outputId": "66dbfa34-dbc6-4f7b-e16e-95b15eaad260"
   },
   "outputs": [
    {
     "data": {
      "text/plain": [
       "'John'"
      ]
     },
     "execution_count": 13,
     "metadata": {},
     "output_type": "execute_result"
    }
   ],
   "source": [
    "student = choice(students)\n",
    "student"
   ]
  },
  {
   "cell_type": "markdown",
   "metadata": {
    "id": "ShWFJnDtSyfK"
   },
   "source": [
    "Funções\n",
    "built function são funções ja integradas no python, que não necessita importar para usalar e são muito eficientes"
   ]
  },
  {
   "cell_type": "code",
   "execution_count": null,
   "metadata": {
    "colab": {
     "base_uri": "https://localhost:8080/"
    },
    "id": "jDHZurihQjXr",
    "outputId": "0de9a9a6-ae01-47f4-a7a3-4855db9a6e78"
   },
   "outputs": [
    {
     "data": {
      "text/plain": [
       "{'1st quarter': 8.5, '2nd quarter': 9.5, '3rd quarter': 7}"
      ]
     },
     "execution_count": 14,
     "metadata": {},
     "output_type": "execute_result"
    }
   ],
   "source": [
    "quarter_grades = {\"1st quarter\": 8.5, \"2nd quarter\": 9.5, \"3rd quarter\": 7}\n",
    "quarter_grades\n"
   ]
  },
  {
   "cell_type": "markdown",
   "metadata": {
    "id": "zjWIfA7dgov2"
   },
   "source": [
    "1º forma de se fazer uma soma dos valores um dicionrario ou lista."
   ]
  },
  {
   "cell_type": "code",
   "execution_count": 15,
   "metadata": {
    "colab": {
     "base_uri": "https://localhost:8080/"
    },
    "id": "X4P2M77fcxyt",
    "outputId": "577a7e2e-6ee5-409e-ce1f-9dbfd608fff8"
   },
   "outputs": [
    {
     "data": {
      "text/plain": [
       "25.0"
      ]
     },
     "execution_count": 15,
     "metadata": {},
     "output_type": "execute_result"
    }
   ],
   "source": [
    "total = 0\n",
    "for grade in quarter_grades.values():\n",
    "    total += grade\n",
    "\n",
    "total\n"
   ]
  },
  {
   "cell_type": "markdown",
   "metadata": {
    "id": "3R4TUeCMg8AM"
   },
   "source": [
    "usando a função sum(), essa soma pode se tornar menos complexa"
   ]
  },
  {
   "cell_type": "code",
   "execution_count": 16,
   "metadata": {
    "colab": {
     "base_uri": "https://localhost:8080/"
    },
    "id": "Ys_dqp8ndQP0",
    "outputId": "251f63f7-5bcc-459c-e0cb-25fc2aae87f7"
   },
   "outputs": [
    {
     "data": {
      "text/plain": [
       "25.0"
      ]
     },
     "execution_count": 16,
     "metadata": {},
     "output_type": "execute_result"
    }
   ],
   "source": [
    "total_sum = sum(quarter_grades.values())\n",
    "total_sum\n"
   ]
  },
  {
   "cell_type": "markdown",
   "metadata": {
    "id": "tyUw6cREhGNc"
   },
   "source": [
    "A função values() em dicionários retorna uma visualização dos valores armazenados no dicionário.\n",
    "\n",
    "Exemplo:\n",
    "d = {'a': 1, 'b': 2, 'c': 3}\n",
    "\n",
    "print(d.values())  # dict_values([1, 2, 3])"
   ]
  },
  {
   "cell_type": "code",
   "execution_count": 17,
   "metadata": {
    "colab": {
     "base_uri": "https://localhost:8080/"
    },
    "id": "JjO6j5CVdzAE",
    "outputId": "f7668593-b28b-4135-811b-b9ce78cab518"
   },
   "outputs": [
    {
     "data": {
      "text/plain": [
       "3"
      ]
     },
     "execution_count": 17,
     "metadata": {},
     "output_type": "execute_result"
    }
   ],
   "source": [
    "num_grades = len(quarter_grades)\n",
    "num_grades\n"
   ]
  },
  {
   "cell_type": "markdown",
   "metadata": {
    "id": "3q_BATEciSxT"
   },
   "source": [
    "A função len() retorna o número de itens em um objeto, como listas, strings, dicionários, etc."
   ]
  },
  {
   "cell_type": "code",
   "execution_count": 18,
   "metadata": {
    "colab": {
     "base_uri": "https://localhost:8080/"
    },
    "id": "nUvZSy-1egXO",
    "outputId": "36f8ac9e-e019-4ab3-eb77-3eca7e74a3fd"
   },
   "outputs": [
    {
     "data": {
      "text/plain": [
       "8.333333333333334"
      ]
     },
     "execution_count": 18,
     "metadata": {},
     "output_type": "execute_result"
    }
   ],
   "source": [
    "average = total_sum / num_grades\n",
    "average\n",
    "\n"
   ]
  },
  {
   "cell_type": "code",
   "execution_count": null,
   "metadata": {
    "colab": {
     "base_uri": "https://localhost:8080/"
    },
    "id": "0GV4OBxAfCwj",
    "outputId": "41bcb0c5-be69-45dd-b14e-05c1df25fd34"
   },
   "outputs": [
    {
     "name": "stdout",
     "output_type": "stream",
     "text": [
      "Help on built-in function round in module builtins:\n",
      "\n",
      "round(number, ndigits=None)\n",
      "    Round a number to a given precision in decimal digits.\n",
      "    \n",
      "    The return value is an integer if ndigits is omitted or None.  Otherwise\n",
      "    the return value has the same type as the number.  ndigits may be negative.\n",
      "\n"
     ]
    }
   ],
   "source": [
    "help(round)"
   ]
  },
  {
   "cell_type": "code",
   "execution_count": 19,
   "metadata": {
    "colab": {
     "base_uri": "https://localhost:8080/"
    },
    "id": "U2MUyBhCfGMN",
    "outputId": "d1eafa77-aaa3-4f8d-da47-1b475ec96cc4"
   },
   "outputs": [
    {
     "data": {
      "text/plain": [
       "8.3"
      ]
     },
     "execution_count": 19,
     "metadata": {},
     "output_type": "execute_result"
    }
   ],
   "source": [
    "round(average, 1)\n"
   ]
  },
  {
   "cell_type": "markdown",
   "metadata": {
    "id": "8sxymdCbgLwM"
   },
   "source": [
    "Criando suas proprias funcões\n",
    "\n",
    "\n",
    "```\n",
    "def <nome>(Parametro):\n",
    "  <instruções>\n",
    "```\n",
    "\n"
   ]
  },
  {
   "cell_type": "code",
   "execution_count": 20,
   "metadata": {
    "id": "uODwsCeNfjpY"
   },
   "outputs": [],
   "source": [
    "def average(grade_1, grade_2, grade_3):\n",
    "    calculation = (grade_1 + grade_2 + grade_3) / 3\n",
    "    print(calculation)\n",
    "\n"
   ]
  },
  {
   "cell_type": "code",
   "execution_count": 21,
   "metadata": {
    "colab": {
     "base_uri": "https://localhost:8080/"
    },
    "id": "aKfKNuCyjnT5",
    "outputId": "5cbc6f67-6a31-47d3-fb20-8e3098042558"
   },
   "outputs": [
    {
     "name": "stdout",
     "output_type": "stream",
     "text": [
      "6.0\n"
     ]
    }
   ],
   "source": [
    "average(3, 6, 9)\n"
   ]
  },
  {
   "cell_type": "code",
   "execution_count": 22,
   "metadata": {
    "colab": {
     "base_uri": "https://localhost:8080/"
    },
    "id": "r7BZDcaxjwkO",
    "outputId": "c295a65f-8a49-4a23-939e-4fb80abe5e25"
   },
   "outputs": [
    {
     "name": "stdout",
     "output_type": "stream",
     "text": [
      "7.0\n"
     ]
    }
   ],
   "source": [
    "grade1 = 7\n",
    "grade2 = 8\n",
    "grade3 = 6\n",
    "\n",
    "average(grade1, grade2, grade3)\n"
   ]
  },
  {
   "cell_type": "code",
   "execution_count": 23,
   "metadata": {
    "colab": {
     "base_uri": "https://localhost:8080/"
    },
    "id": "ERSgJ41tj962",
    "outputId": "eab64ccd-3fa6-4b46-d3b2-78743b5f4914"
   },
   "outputs": [
    {
     "data": {
      "text/plain": [
       "6.8"
      ]
     },
     "execution_count": 23,
     "metadata": {},
     "output_type": "execute_result"
    }
   ],
   "source": [
    "student_grades = [8, 9.6, 3.9, 7, 10, 2.2]\n",
    "\n",
    "def average_grades(grades_list):\n",
    "    average_grade = sum(grades_list) / len(grades_list)\n",
    "    return average_grade\n",
    "\n",
    "result = round(average_grades(student_grades), 1)\n",
    "result\n",
    "\n"
   ]
  },
  {
   "cell_type": "code",
   "execution_count": null,
   "metadata": {
    "id": "nou_-rH9lb-u"
   },
   "outputs": [],
   "source": []
  },
  {
   "cell_type": "code",
   "execution_count": null,
   "metadata": {
    "id": "jqGdpVrymVkY"
   },
   "outputs": [],
   "source": []
  }
 ],
 "metadata": {
  "colab": {
   "provenance": []
  },
  "kernelspec": {
   "display_name": "Python 3",
   "name": "python3"
  },
  "language_info": {
   "codemirror_mode": {
    "name": "ipython",
    "version": 3
   },
   "file_extension": ".py",
   "mimetype": "text/x-python",
   "name": "python",
   "nbconvert_exporter": "python",
   "pygments_lexer": "ipython3",
   "version": "3.12.2"
  }
 },
 "nbformat": 4,
 "nbformat_minor": 0
}
