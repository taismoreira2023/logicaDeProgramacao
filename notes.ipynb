{
 "cells": [
  {
   "cell_type": "markdown",
   "metadata": {},
   "source": [
    "# <font color=green> PYTHON PARA DATA SCIENCE\n",
    "---"
   ]
  },
  {
   "cell_type": "markdown",
   "metadata": {},
   "source": [
    "## <font color=green> 1. BIBLIOTECAS\n",
    "---"
   ]
  },
  {
   "cell_type": "markdown",
   "metadata": {
    "id": "wQdIhNzOJrQx"
   },
   "source": [
    "## 1.1 Instalação e importação de bibliotecas\n",
    "\n",
    "Na linguagem Python utiliza-se bastante o conceito de bibliotecas como um conjunto de módulos e funções úteis para o usuário. Elas facilitam em reduzir o uso de códigos no projeto, mantendo apenas o necessário para a tarefa que desejamos realizar.\n",
    "\n",
    "*   Pip: gerenciador de bibliotecas e pacotes no python\n",
    "*   Matplotlib: biblioteca para visualização de dados\n",
    "\n"
   ]
  },
  {
   "cell_type": "markdown",
   "metadata": {
    "id": "OP83hU1WKpqv"
   },
   "source": [
    "### Instalando uma biblioteca\n",
    "\n",
    "Para instalar ou atualizar uma biblioteca no Python, podemos recorrer ao `pip` que é um gerenciador de bibliotecas no Python.\n",
    "\n",
    "Porque usar uma versão específica de uma biblioteca?\n",
    "\n",
    "*   Usar versões específicas garante compatibilidade, estabilidade, acesso a recursos necessários e evita problemas com mudanças ou quebras em atualizações.\n",
    "\n",
    "ps: Se preciso reinicie a sessão\n",
    "\n",
    "\n",
    "- !pip install matplotlib==3.6.2\n"
   ]
  },
  {
   "cell_type": "markdown",
   "metadata": {},
   "source": [
    "Existe também o PYPI que é um repositório de bibliotecas Python que traz as bibliotecas mais utilizadas pela comunidade junto a informações de como usar e acesso as documentações de cada uma delas.\n",
    "\n",
    "- PYPI ([https://pypi.org/](https://pypi.org/))"
   ]
  },
  {
   "cell_type": "markdown",
   "metadata": {
    "id": "gIel-P6GLwoN"
   },
   "source": [
    "### Importando uma biblioteca\n",
    "\n",
    "Importar as Bibliotecas sem alias\n",
    "\n",
    "\n",
    "*   é como dar um apelido pra biblioteca\n",
    "\n"
   ]
  },
  {
   "cell_type": "code",
   "execution_count": null,
   "metadata": {
    "id": "rbkB3UVWMBZL"
   },
   "outputs": [],
   "source": [
    "import matplotlib"
   ]
  },
  {
   "cell_type": "markdown",
   "metadata": {
    "id": "5vFhSU3tMRY_"
   },
   "source": [
    "ver a versão da biblioteca"
   ]
  },
  {
   "cell_type": "code",
   "execution_count": null,
   "metadata": {
    "colab": {
     "base_uri": "https://localhost:8080/",
     "height": 36
    },
    "id": "Hi8wyGD2MU3R",
    "outputId": "01d81b1b-363c-40d3-87a7-521280075b5e"
   },
   "outputs": [
    {
     "data": {
      "application/vnd.google.colaboratory.intrinsic+json": {
       "type": "string"
      },
      "text/plain": [
       "'3.6.2'"
      ]
     },
     "execution_count": 3,
     "metadata": {},
     "output_type": "execute_result"
    }
   ],
   "source": [
    "matplotlib.__version__"
   ]
  },
  {
   "cell_type": "markdown",
   "metadata": {},
   "source": [
    "## 1.2 Utilizando pacotes/bibliotecas\n",
    "\n",
    "- Documentação do Python (https://docs.python.org/pt-br/3/)\n",
    "\n",
    "#### Exemplo 1: Vamos testar a biblioteca Matplotlib para um exemplo de médias de estudantes de uma classe.\n",
    "\n",
    "(https://matplotlib.org/stable/tutorials/introductory/pyplot.html)"
   ]
  },
  {
   "cell_type": "markdown",
   "metadata": {
    "id": "G4c_2KKAMlL6"
   },
   "source": [
    "Importar as Bibliotecas com alias"
   ]
  },
  {
   "cell_type": "code",
   "execution_count": 5,
   "metadata": {
    "id": "Xb0qWL2NMqV3"
   },
   "outputs": [],
   "source": [
    "import matplotlib.pyplot as plt"
   ]
  },
  {
   "cell_type": "markdown",
   "metadata": {
    "id": "oAiBg4xuM2Lb"
   },
   "source": [
    "**Pip** é a ferramenta usada para instalar pacotes Python.  \n",
    "**PyPI** (Python Package Index) é o repositório onde os pacotes estão hospedados.  \n",
    "\n",
    "Resumindo: **pip baixa pacotes do PyPI**.\n"
   ]
  },
  {
   "cell_type": "code",
   "execution_count": 8,
   "metadata": {
    "id": "vdP2rLTzMytX"
   },
   "outputs": [],
   "source": [
    "students = [\"John\", \"Mary\", \"Joseph\", \"Anna\"]\n",
    "grades = [10, 5.5, 7.2, 0.5]\n"
   ]
  },
  {
   "cell_type": "code",
   "execution_count": 9,
   "metadata": {
    "colab": {
     "base_uri": "https://localhost:8080/",
     "height": 447
    },
    "id": "BaEA6NDzPD2D",
    "outputId": "f01804e4-5513-47fa-8fa3-507b4c3fbc81"
   },
   "outputs": [
    {
     "data": {
      "text/plain": [
       "<BarContainer object of 4 artists>"
      ]
     },
     "execution_count": 9,
     "metadata": {},
     "output_type": "execute_result"
    },
    {
     "data": {
      "image/png": "[encoded data removed]",
      "text/plain": [
       "<Figure size 640x480 with 1 Axes>"
      ]
     },
     "metadata": {},
     "output_type": "display_data"
    }
   ],
   "source": [
    "plt.bar(x=students, height=grades)"
   ]
  },
  {
   "cell_type": "markdown",
   "metadata": {},
   "source": [
    "#### Exemplo 2: Vamos selecionar aleatoriamente um aluno para apresentar o seu trabalho de ciência de dados usando a biblioteca Random\n",
    "\n",
    "(https://docs.python.org/pt-br/3/library/random.html)"
   ]
  },
  {
   "cell_type": "code",
   "execution_count": null,
   "metadata": {},
   "outputs": [],
   "source": [
    "estudantes_2 = [\"João\", \"Maria\", \"José\", \"Ana\"]"
   ]
  },
  {
   "cell_type": "markdown",
   "metadata": {
    "id": "EieGULckQAyr"
   },
   "source": [
    "Importa uma função específica de uma biblioteca"
   ]
  },
  {
   "cell_type": "code",
   "execution_count": 11,
   "metadata": {
    "id": "C5qJNZeiPgw5"
   },
   "outputs": [],
   "source": [
    "from random import choice"
   ]
  },
  {
   "cell_type": "markdown",
   "metadata": {
    "id": "Mut-wW0QR0AG"
   },
   "source": [
    "<font color=green>**Dica:**</font> Você pode notar ao longo de nossa prática a importância de recorrer a documentação para aprender como utilizar um método ou pacote na linguagem Python.\n",
    "\n",
    "O método `help()`, por exemplo, retorna uma descrição sobre uma variável, método ou classe.\n",
    "\n",
    "https://docs.python.org/pt-br/3/library/functions.html?#help\n",
    "\n",
    "help: retorna uma descrição sobre uma varialvel, método ou classe"
   ]
  },
  {
   "cell_type": "code",
   "execution_count": 12,
   "metadata": {
    "colab": {
     "base_uri": "https://localhost:8080/"
    },
    "id": "ohtqoK4eP85L",
    "outputId": "e7d2fdd5-9178-4900-f127-bf230291868a"
   },
   "outputs": [
    {
     "name": "stdout",
     "output_type": "stream",
     "text": [
      "Help on method choice in module random:\n",
      "\n",
      "choice(seq) method of random.Random instance\n",
      "    Choose a random element from a non-empty sequence.\n",
      "\n"
     ]
    }
   ],
   "source": [
    "help(choice)"
   ]
  },
  {
   "cell_type": "markdown",
   "metadata": {
    "id": "htSLSr1eST6X"
   },
   "source": [
    "Choice recebe uma sequencia de dados, que vai escolher aleatóriamente"
   ]
  },
  {
   "cell_type": "code",
   "execution_count": 13,
   "metadata": {
    "colab": {
     "base_uri": "https://localhost:8080/",
     "height": 36
    },
    "id": "PBr62R0dQQxv",
    "outputId": "66dbfa34-dbc6-4f7b-e16e-95b15eaad260"
   },
   "outputs": [
    {
     "data": {
      "text/plain": [
       "'John'"
      ]
     },
     "execution_count": 13,
     "metadata": {},
     "output_type": "execute_result"
    }
   ],
   "source": [
    "student = choice(students)\n",
    "student"
   ]
  },
  {
   "cell_type": "markdown",
   "metadata": {},
   "source": [
    "## <font color=green> 2. FUNÇÕES\n",
    "---\n"
   ]
  },
  {
   "cell_type": "markdown",
   "metadata": {},
   "source": [
    "Na linguagem Python, as **funções** são sequências de instruções que executam tarefas específicas, podendo ser reutilizadas em diferentes partes do código. Elas podem receber parâmetros de entrada (que podemos chamar de *inputs*) e também retornar resultados."
   ]
  },
  {
   "cell_type": "markdown",
   "metadata": {},
   "source": [
    "## 2.1 Built-in function\n",
    "\n",
    "O interpretador do Python já possui uma série de funções embutidas que podem ser invocadas a qualquer momento. Algumas que vamos utilizar ao longo desse curso são: type(), print(), list(), zip(), sum(), map() etc.\n",
    "\n",
    "***Documentação:***\n",
    "https://docs.python.org/pt-br/3/library/functions.html\n",
    "\n"
   ]
  },
  {
   "cell_type": "markdown",
   "metadata": {},
   "source": [
    "#### **Situação 1:**\n",
    "\n",
    "A escola em que estamos construindo o nosso case de dados compartilhou os dados das notas de um estudante para que pudéssemos calcular a média deste em até uma casa decimal.\n",
    "\n",
    "Os dados recebidos correspondem a um dicionário com as chaves indicando o trimestre em questão e os valores das notas de cada trimestre do estudante em uma dada matéria."
   ]
  },
  {
   "cell_type": "markdown",
   "metadata": {
    "id": "ShWFJnDtSyfK"
   },
   "source": [
    "Funções\n",
    "built function são funções ja integradas no python, que não necessita importar para usalar e são muito eficientes"
   ]
  },
  {
   "cell_type": "code",
   "execution_count": null,
   "metadata": {
    "colab": {
     "base_uri": "https://localhost:8080/"
    },
    "id": "jDHZurihQjXr",
    "outputId": "0de9a9a6-ae01-47f4-a7a3-4855db9a6e78"
   },
   "outputs": [
    {
     "data": {
      "text/plain": [
       "{'1st quarter': 8.5, '2nd quarter': 9.5, '3rd quarter': 7}"
      ]
     },
     "execution_count": 14,
     "metadata": {},
     "output_type": "execute_result"
    }
   ],
   "source": [
    "quarter_grades = {\"1st quarter\": 8.5, \"2nd quarter\": 9.5, \"3rd quarter\": 7}\n",
    "quarter_grades\n"
   ]
  },
  {
   "cell_type": "markdown",
   "metadata": {
    "id": "zjWIfA7dgov2"
   },
   "source": [
    "1º forma de se fazer uma soma dos valores um dicionrario ou lista."
   ]
  },
  {
   "cell_type": "code",
   "execution_count": 15,
   "metadata": {
    "colab": {
     "base_uri": "https://localhost:8080/"
    },
    "id": "X4P2M77fcxyt",
    "outputId": "577a7e2e-6ee5-409e-ce1f-9dbfd608fff8"
   },
   "outputs": [
    {
     "data": {
      "text/plain": [
       "25.0"
      ]
     },
     "execution_count": 15,
     "metadata": {},
     "output_type": "execute_result"
    }
   ],
   "source": [
    "total = 0\n",
    "for grade in quarter_grades.values():\n",
    "    total += grade\n",
    "\n",
    "total\n"
   ]
  },
  {
   "cell_type": "markdown",
   "metadata": {
    "id": "3R4TUeCMg8AM"
   },
   "source": [
    "usando a função sum(), essa soma pode se tornar menos complexa"
   ]
  },
  {
   "cell_type": "code",
   "execution_count": 16,
   "metadata": {
    "colab": {
     "base_uri": "https://localhost:8080/"
    },
    "id": "Ys_dqp8ndQP0",
    "outputId": "251f63f7-5bcc-459c-e0cb-25fc2aae87f7"
   },
   "outputs": [
    {
     "data": {
      "text/plain": [
       "25.0"
      ]
     },
     "execution_count": 16,
     "metadata": {},
     "output_type": "execute_result"
    }
   ],
   "source": [
    "total_sum = sum(quarter_grades.values())\n",
    "total_sum\n"
   ]
  },
  {
   "cell_type": "markdown",
   "metadata": {
    "id": "tyUw6cREhGNc"
   },
   "source": [
    "A função values() em dicionários retorna uma visualização dos valores armazenados no dicionário.\n",
    "\n",
    "Exemplo:\n",
    "d = {'a': 1, 'b': 2, 'c': 3}\n",
    "\n",
    "print(d.values())  # dict_values([1, 2, 3])"
   ]
  },
  {
   "cell_type": "code",
   "execution_count": 17,
   "metadata": {
    "colab": {
     "base_uri": "https://localhost:8080/"
    },
    "id": "JjO6j5CVdzAE",
    "outputId": "f7668593-b28b-4135-811b-b9ce78cab518"
   },
   "outputs": [
    {
     "data": {
      "text/plain": [
       "3"
      ]
     },
     "execution_count": 17,
     "metadata": {},
     "output_type": "execute_result"
    }
   ],
   "source": [
    "num_grades = len(quarter_grades)\n",
    "num_grades\n"
   ]
  },
  {
   "cell_type": "markdown",
   "metadata": {
    "id": "3q_BATEciSxT"
   },
   "source": [
    "A função len() retorna o número de itens em um objeto, como listas, strings, dicionários, etc."
   ]
  },
  {
   "cell_type": "code",
   "execution_count": 18,
   "metadata": {
    "colab": {
     "base_uri": "https://localhost:8080/"
    },
    "id": "nUvZSy-1egXO",
    "outputId": "36f8ac9e-e019-4ab3-eb77-3eca7e74a3fd"
   },
   "outputs": [
    {
     "data": {
      "text/plain": [
       "8.333333333333334"
      ]
     },
     "execution_count": 18,
     "metadata": {},
     "output_type": "execute_result"
    }
   ],
   "source": [
    "average = total_sum / num_grades\n",
    "average\n",
    "\n"
   ]
  },
  {
   "cell_type": "markdown",
   "metadata": {},
   "source": [
    "*Arredondar a média usando round():*\n",
    "\n",
    "https://docs.python.org/pt-br/3/library/functions.html#round"
   ]
  },
  {
   "cell_type": "code",
   "execution_count": null,
   "metadata": {
    "colab": {
     "base_uri": "https://localhost:8080/"
    },
    "id": "0GV4OBxAfCwj",
    "outputId": "41bcb0c5-be69-45dd-b14e-05c1df25fd34"
   },
   "outputs": [
    {
     "name": "stdout",
     "output_type": "stream",
     "text": [
      "Help on built-in function round in module builtins:\n",
      "\n",
      "round(number, ndigits=None)\n",
      "    Round a number to a given precision in decimal digits.\n",
      "    \n",
      "    The return value is an integer if ndigits is omitted or None.  Otherwise\n",
      "    the return value has the same type as the number.  ndigits may be negative.\n",
      "\n"
     ]
    }
   ],
   "source": [
    "help(round)"
   ]
  },
  {
   "cell_type": "code",
   "execution_count": 19,
   "metadata": {
    "colab": {
     "base_uri": "https://localhost:8080/"
    },
    "id": "U2MUyBhCfGMN",
    "outputId": "d1eafa77-aaa3-4f8d-da47-1b475ec96cc4"
   },
   "outputs": [
    {
     "data": {
      "text/plain": [
       "8.3"
      ]
     },
     "execution_count": 19,
     "metadata": {},
     "output_type": "execute_result"
    }
   ],
   "source": [
    "round(average, 1)\n"
   ]
  },
  {
   "cell_type": "markdown",
   "metadata": {},
   "source": [
    "## 2.2 Criando funções"
   ]
  },
  {
   "cell_type": "markdown",
   "metadata": {},
   "source": [
    "Depois de explorarmos a built-in functions e aprendermos como utilizar algumas delas, você pode se deparar com a necessidade de resolver um problema específico em que elas não serão o suficiente.\n",
    "\n",
    "Nesse ponto, precisaremos criar as nossas próprias funções, ainda mais se precisarmos utilizá-las em mais partes de nossos códigos."
   ]
  },
  {
   "cell_type": "markdown",
   "metadata": {},
   "source": [
    "### Funções sem parâmetros\n",
    "\n",
    "#### Formato padrão:\n",
    "\n",
    "```python\n",
    "def <nome>():\n",
    "  <instruções>\n",
    "```"
   ]
  },
  {
   "cell_type": "markdown",
   "metadata": {},
   "source": [
    "### Funções com parâmetros\n",
    "\n",
    "#### Formato padrão:\n",
    "\n",
    "```python\n",
    "def <nome>(<param_1>, <param_2>, ..., <param_n>):\n",
    "  <instruções>"
   ]
  },
  {
   "cell_type": "code",
   "execution_count": 20,
   "metadata": {
    "id": "uODwsCeNfjpY"
   },
   "outputs": [],
   "source": [
    "def average(grade_1, grade_2, grade_3):\n",
    "    calculation = (grade_1 + grade_2 + grade_3) / 3\n",
    "    print(calculation)\n",
    "\n"
   ]
  },
  {
   "cell_type": "code",
   "execution_count": 21,
   "metadata": {
    "colab": {
     "base_uri": "https://localhost:8080/"
    },
    "id": "aKfKNuCyjnT5",
    "outputId": "5cbc6f67-6a31-47d3-fb20-8e3098042558"
   },
   "outputs": [
    {
     "name": "stdout",
     "output_type": "stream",
     "text": [
      "6.0\n"
     ]
    }
   ],
   "source": [
    "average(3, 6, 9)\n"
   ]
  },
  {
   "cell_type": "code",
   "execution_count": 22,
   "metadata": {
    "colab": {
     "base_uri": "https://localhost:8080/"
    },
    "id": "r7BZDcaxjwkO",
    "outputId": "c295a65f-8a49-4a23-939e-4fb80abe5e25"
   },
   "outputs": [
    {
     "name": "stdout",
     "output_type": "stream",
     "text": [
      "7.0\n"
     ]
    }
   ],
   "source": [
    "grade1 = 7\n",
    "grade2 = 8\n",
    "grade3 = 6\n",
    "\n",
    "average(grade1, grade2, grade3)\n"
   ]
  },
  {
   "cell_type": "markdown",
   "metadata": {},
   "source": [
    "#### **Situação 2:**\n",
    "\n",
    "Recebemos uma demanda de calcular a média de um estudante a partir de uma lista, sendo possível alterar a quantidade de notas, sem impedir que o cálculo seja refeito.\n",
    "\n",
    "Os dados recebidos, desta vez, correspondem a uma lista contendo apenas as notas de um estudante em uma dada matéria.\n",
    "\n",
    "**Vamos resolver esse desafio?**\n",
    "\n",
    "Para facilitar o nosso entendimento do processo vamos aplicar às notas de apenas um estudante, mas você pode testar outros casos para treinar."
   ]
  },
  {
   "cell_type": "code",
   "execution_count": 23,
   "metadata": {
    "colab": {
     "base_uri": "https://localhost:8080/"
    },
    "id": "ERSgJ41tj962",
    "outputId": "eab64ccd-3fa6-4b46-d3b2-78743b5f4914"
   },
   "outputs": [
    {
     "data": {
      "text/plain": [
       "6.8"
      ]
     },
     "execution_count": 23,
     "metadata": {},
     "output_type": "execute_result"
    }
   ],
   "source": [
    "student_grades = [8, 9.6, 3.9, 7, 10, 2.2]\n",
    "\n",
    "def average_grades(grades_list):\n",
    "    average_grade = sum(grades_list) / len(grades_list)\n",
    "    return average_grade\n",
    "\n",
    "result = round(average_grades(student_grades), 1)\n",
    "result\n",
    "\n"
   ]
  },
  {
   "cell_type": "markdown",
   "metadata": {},
   "source": [
    "<font color=red>**Atenção!**</font>\n",
    "Quando utilizamos funções precisamos prestar atenção a uma propriedade chamada **escopo de uma função**\n",
    "\n",
    "Ela determina onde uma variável pode ser utilizada dentro do código. Por exemplo, uma variável criada dentro de uma função existirá apenas dentro da função. Ou seja, encerrando a execução da função, a variável não estará disponível para o usuário no restante do código."
   ]
  },
  {
   "cell_type": "code",
   "execution_count": null,
   "metadata": {
    "id": "nou_-rH9lb-u"
   },
   "outputs": [],
   "source": [
    "# average_grade"
   ]
  },
  {
   "cell_type": "markdown",
   "metadata": {},
   "source": [
    "## 2.3 Funções que retornam valores\n",
    "\n",
    "#### Formato padrão:\n",
    "\n",
    "```python\n",
    "def <nome>(<param_1>, <param_2>, ..., <param_n>):\n",
    "  <instruções>\n",
    "  return resultado\n",
    "```"
   ]
  },
  {
   "cell_type": "markdown",
   "metadata": {},
   "source": [
    "Retomando a atividade anterior, podemos retornar e salvar o valor da média da seguinte forma:"
   ]
  },
  {
   "cell_type": "code",
   "execution_count": null,
   "metadata": {
    "id": "jqGdpVrymVkY"
   },
   "outputs": [],
   "source": [
    "notas = [8.5, 9.0, 6.0, 10.0]\n",
    "\n",
    "def media(lista):\n",
    "  calculo = sum(lista) / len(lista)\n",
    "  return calculo\n",
    "\n",
    "resultado = media(notas)"
   ]
  },
  {
   "cell_type": "code",
   "execution_count": null,
   "metadata": {},
   "outputs": [],
   "source": [
    "resultado"
   ]
  },
  {
   "cell_type": "markdown",
   "metadata": {},
   "source": [
    "#### **Situação 3:**\n",
    "\n",
    "Recebemos uma nova demanda, desta vez, de calcular a média de um estudante a partir de uma lista e retornar tanto a média quanto a situação do estudante (\"Aprovado(a)\" se a nota for maior ou igual a 6.0, caso contrário, será \"Reprovado(a)\").\n",
    "\n",
    "Além disso, precisamos exibir um pequeno texto em que indicamos a média do(a) estudante e qual a situação. Os dados recebidos correspondem a uma lista contendo apenas as notas de um estudante em uma dada matéria.\n",
    "\n",
    "**Vamos resolver esse desafio?**\n",
    "\n",
    "Para facilitar o nosso entendimento do processo vamos aplicar as notas de apenas um estudante, mas você pode testar outros casos para treinar."
   ]
  },
  {
   "cell_type": "code",
   "execution_count": null,
   "metadata": {},
   "outputs": [],
   "source": [
    "notas = [6.0, 7.0, 9.0, 5.0]\n",
    "\n",
    "def boletim(lista):\n",
    "  media = sum(lista) / len(lista)\n",
    "\n",
    "  if media >= 6:\n",
    "    situacao = \"Aprovado(a)\"\n",
    "  else:\n",
    "    situacao = \"Reprovado(a)\"\n",
    "\n",
    "  return (media, situacao)"
   ]
  },
  {
   "cell_type": "code",
   "execution_count": null,
   "metadata": {},
   "outputs": [],
   "source": [
    "boletim(notas)"
   ]
  },
  {
   "cell_type": "code",
   "execution_count": null,
   "metadata": {},
   "outputs": [],
   "source": [
    "media, situacao = boletim(notas)\n",
    "\n",
    "print(f'O(a) estudante atingiu uma média de {media} e foi {situacao}.')"
   ]
  },
  {
   "cell_type": "markdown",
   "metadata": {},
   "source": [
    "## 2.4 Funções lambda\n",
    "\n",
    "Também chamadas de funções anônimas, são funções que não precisam ser definidas, ou seja não possuem um nome, e descrevem em uma única linha os comandos que desejamos aplicar.\n",
    "\n",
    "https://docs.python.org/pt-br/3/reference/expressions.html?#lambda\n",
    "\n",
    "#### Formato padrão:\n",
    "\n",
    "```python\n",
    "lambda <variavel>: <expressao>\n",
    "```"
   ]
  },
  {
   "cell_type": "markdown",
   "metadata": {},
   "source": [
    "#### **Situação 4:**\n",
    "\n",
    "Nesta nova demanda, precisamos criar uma calculadora simples da média ponderada de notas de uma dada matéria. Vamos requisitar ao usuário a entrada das 3 notas (N1, N2, N3) do estudante e devolver a média ponderada deste estudante. Os pesos das notas são de, respectivamente 3, 2, 5.\n",
    "\n",
    "Precisamos exibir um pequeno texto em que indicamos a média do(a) estudante.\n",
    "\n",
    "**Vamos resolver esse desafio?**"
   ]
  },
  {
   "cell_type": "code",
   "execution_count": null,
   "metadata": {},
   "outputs": [],
   "source": [
    "# Comparando uma função de qualitativo no formato de função para função anônima\n",
    "nota = float(input(\"Digite a nota do(a) estudante: \"))\n",
    "\n",
    "def qualitativo(x):\n",
    "  return x + 0.5\n",
    "\n",
    "qualitativo(nota)"
   ]
  },
  {
   "cell_type": "code",
   "execution_count": null,
   "metadata": {},
   "outputs": [],
   "source": [
    "# Testando a mesma função para uma função lambda\n",
    "nota = float(input(\"Digite a nota do(a) estudante: \"))\n",
    "\n",
    "qualitativo = lambda x: x + 0.5\n",
    "\n",
    "qualitativo(nota)"
   ]
  },
  {
   "cell_type": "code",
   "execution_count": null,
   "metadata": {},
   "outputs": [],
   "source": [
    "# Recebendo as notas e calculando a média ponderável\n",
    "N1 = float(input(\"Digite a 1ª nota do(a) estudante: \"))\n",
    "N2 = float(input(\"Digite a 2ª nota do(a) estudante: \"))\n",
    "N3 = float(input(\"Digite a 3ª nota do(a) estudante: \"))\n",
    "\n",
    "media_ponderavel = lambda x, y, z: (x * 3 + y * 2 + z * 5)/10\n",
    "media_estudante = media_ponderavel(N1, N2, N3)\n",
    "\n",
    "# Exibindo a média\n",
    "print(f'O(a) estudante atingiu uma média de {media_estudante}')"
   ]
  },
  {
   "cell_type": "markdown",
   "metadata": {},
   "source": [
    "### Mapeando valores\n",
    "\n",
    "#### Formato padrão:\n",
    "\n",
    "```python\n",
    "map(<lambda function>, <iterador>)\n",
    "```"
   ]
  },
  {
   "cell_type": "markdown",
   "metadata": {},
   "source": [
    "#### **Situação 5:**\n",
    "\n",
    "Recebemos mais uma demanda, desta vez, para criar uma pequena função que pudesse adicionar qualitativo (pontuação extra) às notas do trimestre dos estudantes da turma que ganhou a gincana de programação promovida pela escola. Cada estudante receberá o qualitativo de 0.5 acrescido à média.\n",
    "\n",
    "Os dados recebidos correspondem a uma lista contendo as notas de alguns estudantes e uma variável com o qualitativo recebido.\n",
    "\n",
    "**Vamos resolver esse desafio?**\n",
    "\n",
    "Para facilitar o nosso entendimento do processo vamos aplicar o qualitativo às notas de 5 estudantes, mas você pode testar outros casos para treinar."
   ]
  },
  {
   "cell_type": "code",
   "execution_count": null,
   "metadata": {},
   "outputs": [],
   "source": [
    "# Notas do(a) estudante\n",
    "notas = [6.0, 7.0, 9.0, 5.5, 8.0]\n",
    "qualitativo = 0.5"
   ]
  },
  {
   "cell_type": "code",
   "execution_count": null,
   "metadata": {},
   "outputs": [],
   "source": [
    "# Não conseguimos aplicar o lambda em listas direto, é necessário\n",
    "# utilizarmos junto a ela a função map\n",
    "notas_atualizadas = map(lambda x: x + qualitativo, notas)\n",
    "notas_atualizadas"
   ]
  },
  {
   "cell_type": "code",
   "execution_count": null,
   "metadata": {},
   "outputs": [],
   "source": [
    "notas_atualizadas = list(notas_atualizadas)\n",
    "notas_atualizadas"
   ]
  },
  {
   "cell_type": "code",
   "execution_count": null,
   "metadata": {},
   "outputs": [],
   "source": [
    "notas"
   ]
  },
  {
   "cell_type": "markdown",
   "metadata": {},
   "source": [
    "## <font color=green> 3. ESTRUTURA DE DADOS COMPOSTAS\n",
    "---"
   ]
  },
  {
   "cell_type": "markdown",
   "metadata": {},
   "source": [
    "## 3.1 Estruturas aninhadas\n",
    "\n",
    "Aprendemos anteriormente a manipular listas, tuplas e dicionários para trabalhar com uma sequência ou coleção de valores sejam numéricos, categóricos, etc. Nessa aula, vamos aprofundar em outra situação comum para a pessoa cientista de dados que é trabalhar com esses tipos de estruturas aninhadas, ou seja, quando possuímos por exemplo listas dentro de uma lista."
   ]
  },
  {
   "cell_type": "markdown",
   "metadata": {},
   "source": [
    "### Lista de listas\n",
    "\n",
    "#### Formato padrão:\n",
    "\n",
    "```python\n",
    "[[a1, a2,...,an], [b1, b2,...,bn], ..., [n1, n2,...,nn]]\n",
    "```"
   ]
  },
  {
   "cell_type": "markdown",
   "metadata": {},
   "source": [
    "#### **Situação 6:**\n",
    "\n",
    "Recebemos a demanda de transformar uma lista com o nome e as notas dos três trimestres de estudantes em uma lista simples com os nomes separados das notas e uma lista de listas com as três notas de cada estudante separadas umas das outras. Os dados recebidos correspondem a uma lista com os nomes e as respectivas notas de cada estudante.\n",
    "\n",
    "**Vamos resolver esse desafio?**\n",
    "\n",
    "Para facilitar o nosso entendimento do processo vamos trabalhar com uma turma fictícia de 5 estudantes.\n"
   ]
  },
  {
   "cell_type": "code",
   "execution_count": null,
   "metadata": {},
   "outputs": [],
   "source": [
    "notas_turma = ['João', 8.0, 9.0, 10.0, 'Maria', 9.0, 7.0, 6.0, 'José', 3.4, 7.0, 7.0, 'Cláudia', 5.5, 6.6, 8.0, 'Ana', 6.0, 10.0, 9.5]\n",
    "\n",
    "nomes = []\n",
    "notas_juntas = []\n",
    "\n",
    "for i in range(len(notas_turma)):\n",
    "  if i % 4 ==0:\n",
    "    nomes.append(notas_turma[i])\n",
    "  else:\n",
    "    notas_juntas.append(notas_turma[i])\n",
    "\n",
    "nomes"
   ]
  },
  {
   "cell_type": "code",
   "execution_count": null,
   "metadata": {},
   "outputs": [],
   "source": [
    "notas_juntas"
   ]
  },
  {
   "cell_type": "code",
   "execution_count": null,
   "metadata": {},
   "outputs": [],
   "source": [
    "notas = []\n",
    "\n",
    "for i in range(0, len(notas_juntas), 3):\n",
    "  notas.append([notas_juntas[i], notas_juntas[i+1], notas_juntas[i+2]])\n",
    "notas"
   ]
  },
  {
   "cell_type": "code",
   "execution_count": null,
   "metadata": {},
   "outputs": [],
   "source": [
    "notas[0]"
   ]
  },
  {
   "cell_type": "code",
   "execution_count": null,
   "metadata": {},
   "outputs": [],
   "source": [
    "notas[0][2]"
   ]
  },
  {
   "cell_type": "markdown",
   "metadata": {},
   "source": [
    "### Lista de tuplas\n",
    "\n",
    "#### Formato padrão:\n",
    "\n",
    "```python\n",
    "[(a1, a2,...,an), (b1, b2,...,bn), ..., (n1, n2,...,nn)]\n",
    "```"
   ]
  },
  {
   "cell_type": "markdown",
   "metadata": {},
   "source": [
    "#### **Situação 7:**\n",
    "\n",
    "Nesta nova demanda, precisamos gerar uma lista de tuplas com os nomes dos estudantes e o código ID de cada um para a plataforma de análise dos dados. A criação do código consiste em concatenar a primeira letra do nome do estudante a um número aleatório de 0 a 999. Os dados recebidos correspondem a uma lista dos nomes de cada estudante.\n",
    "\n",
    "**Vamos resolver esse desafio?**\n",
    "\n",
    "Para facilitar o nosso entendimento do processo vamos trabalhar com uma turma fictícia de 5 estudantes.\n"
   ]
  },
  {
   "cell_type": "code",
   "execution_count": null,
   "metadata": {},
   "outputs": [],
   "source": [
    "estudantes = [\"João\", \"Maria\", \"José\", \"Cláudia\", \"Ana\"]\n",
    "estudantes"
   ]
  },
  {
   "cell_type": "code",
   "execution_count": null,
   "metadata": {},
   "outputs": [],
   "source": [
    "from random import randint\n",
    "\n",
    "def gera_codigo():\n",
    "  return str(randint(0,999))\n",
    "\n",
    "\n",
    "codigo_estudantes = []\n",
    "\n",
    "for i in range(len(estudantes)):\n",
    "  codigo_estudantes.append((estudantes[i], estudantes[i][0] + gera_codigo()))\n",
    "\n",
    "codigo_estudantes"
   ]
  },
  {
   "cell_type": "markdown",
   "metadata": {},
   "source": [
    "## 3.2 List comprehension\n",
    "\n",
    "É uma forma simples e concisa de criar uma lista. Podemos aplicar condicionais e laços para criar diversos tipos de listas a partir de padrões que desejamos para a nossa estrutura de dados.\n",
    "\n",
    "https://docs.python.org/pt-br/3/tutorial/datastructures.html?#list-comprehensions\n",
    "\n",
    "#### Formato padrão:\n",
    "\n",
    "```python\n",
    "[expressão for item in lista]\n",
    "```"
   ]
  },
  {
   "cell_type": "markdown",
   "metadata": {},
   "source": [
    "#### **Situação 8:**\n",
    "\n",
    "Recebemos a demanda de criar uma lista com as médias dos estudantes da lista de listas que criamos na Situação 6. Lembrando que cada lista da lista de listas possui as três notas de cada estudante.\n",
    "\n",
    "**Vamos resolver esse desafio?**\n",
    "\n",
    "**Dica:** Utilize o formato:\n",
    "```python\n",
    "[exressão for item in lista]\n",
    "```"
   ]
  },
  {
   "cell_type": "code",
   "execution_count": null,
   "metadata": {},
   "outputs": [],
   "source": [
    "notas = [[8.0, 9.0, 10.0], [9.0, 7.0, 6.0], [3.4, 7.0, 7.0], [5.5, 6.6, 8.0], [6.0, 10.0, 9.5]]\n",
    "\n",
    "def media(lista: list=[0]) -> float:\n",
    "  ''' Função para calcular a média de notas passadas por uma lista\n",
    "\n",
    "  lista: list, default [0]\n",
    "    Lista com as notas para calcular a média\n",
    "  return = calculo: float\n",
    "    Média calculada\n",
    "  '''\n",
    "\n",
    "  calculo = sum(lista) / len(lista)\n",
    "\n",
    "  return calculo\n",
    "\n",
    "medias = [round(media(nota),1) for nota in notas]\n",
    "medias"
   ]
  },
  {
   "cell_type": "markdown",
   "metadata": {},
   "source": [
    "#### **Situação 9:**\n",
    "\n",
    "Agora, precisamos utilizar as médias calculadas no exemplo anterior, pareando com o nome dos estudantes. Isto será necessário para gerar uma lista que selecione aqueles estudantes que possuam uma média final maior ou igual a 8 para concorrer a uma bolsa para o próximo ano letivo. Os dados recebidos correspondem a uma lista de tuplas com os nomes e códigos dos estudantes e a lista de médias calculadas logo acima.\n",
    "\n",
    "**Vamos resolver esse desafio?**\n",
    "\n",
    "Para facilitar o nosso entendimento do processo vamos trabalhar com uma turma fictícia de 5 estudantes.\n",
    "\n",
    "**Dica:** Utilize o formato:\n",
    "```python\n",
    "[expr for item in lista if cond]\n",
    "```\n"
   ]
  },
  {
   "cell_type": "code",
   "execution_count": null,
   "metadata": {},
   "outputs": [],
   "source": [
    "nomes = [('João', 'J720'), ('Maria', 'M205'), ('José', 'J371'), ('Cláudia', 'C546'), ('Ana', 'A347')]\n",
    "medias = [9.0, 7.3, 5.8, 6.7, 8.5]\n",
    "\n",
    "# Gerando a lista de nomes (extraindo da tupla)\n",
    "nomes = [nome[0] for nome in nomes]\n",
    "nomes"
   ]
  },
  {
   "cell_type": "markdown",
   "metadata": {},
   "source": [
    "<font color=green>**Dica:**</font> Para conseguirmos parear as médias e nomes facilmente, podemos recorrer a mais uma built-in function: `zip()`\n",
    "\n",
    "Ela recebe um ou mais iteráveis (lista, string, dict, etc.) e retorna-os como um iterador de tuplas onde cada elemento dos iteráveis são pareados."
   ]
  },
  {
   "cell_type": "code",
   "execution_count": null,
   "metadata": {},
   "outputs": [],
   "source": [
    "estudantes = list(zip(nomes, medias))\n",
    "estudantes"
   ]
  },
  {
   "cell_type": "code",
   "execution_count": null,
   "metadata": {},
   "outputs": [],
   "source": [
    "# Gerando a lista de pessoas candidatas a bolsa\n",
    "candidatos = [estudante[0] for estudante in estudantes if estudante[1] >= 8.0]\n",
    "candidatos"
   ]
  },
  {
   "cell_type": "markdown",
   "metadata": {},
   "source": [
    "#### **Situação 10:**\n",
    "\n",
    "Recebemos duas demandas a respeito desse projeto com as notas dos estudantes:\n",
    "- Criar uma lista da situação dos estudantes em que caso se sua média seja maior ou igual a 6 receberá o valor \"Aprovado\" e caso contrário receberá o valor \"Reprovado\".\n",
    "- Gerar uma lista de listas com:\n",
    "  - Lista de tuplas com o nome dos estudantes e seus códigos\n",
    "  - Lista de listas com as notas de cada estudante\n",
    "  - Lista com as médias de cada estudante\n",
    "  - Lista da situação dos estudantes de acordo com as médias\n",
    "\n",
    "Os dados que utilizaremos são os mesmos que geramos nas situações anteriores (`nomes`, `notas`, `medias`).\n",
    "\n",
    "**Vamos resolver esse desafio?**\n",
    "\n",
    "Para seguirmos o processo, vou deixar logo abaixo as estruturas de dados que já produzimos.\n",
    "\n",
    "**Dica:** Para a lista das situações utilize o formato:\n",
    "```python\n",
    "[resultado_if if cond else resultado_else for item in lista]\n",
    "```"
   ]
  },
  {
   "cell_type": "code",
   "execution_count": null,
   "metadata": {},
   "outputs": [],
   "source": [
    "nomes = [('João', 'J720'), ('Maria', 'M205'), ('José', 'J371'), ('Cláudia', 'C546'), ('Ana', 'A347')]\n",
    "notas = [[8.0, 9.0, 10.0], [9.0, 7.0, 6.0], [3.4, 7.0, 7.0], [5.5, 6.6, 8.0], [6.0, 10.0, 9.5]]\n",
    "medias = [9.0, 7.3, 5.8, 6.7, 8.5]\n",
    "\n",
    "situacao = [\"Aprovado(a)\" if media >= 6 else \"Reprovado(a)\" for media in medias]\n",
    "situacao"
   ]
  },
  {
   "cell_type": "markdown",
   "metadata": {},
   "source": [
    "**Dica:** Para gerar a lista de listas do enunciado podemos utilizar o formato a seguir\n",
    "```python\n",
    "[expr for item in lista de listas]\n",
    "```"
   ]
  },
  {
   "cell_type": "code",
   "execution_count": null,
   "metadata": {},
   "outputs": [],
   "source": [
    "cadastro = [x for x in [nomes, notas, medias, situacao]]\n",
    "cadastro"
   ]
  },
  {
   "cell_type": "markdown",
   "metadata": {},
   "source": [
    "<font color=green>**Dica:**</font> Podemos recorrer a forma mais simples de geração de listas de lista com o uso direto dos colchetes sem necessitar de utilizar as expressões e o laço for na  abrangência de listas"
   ]
  },
  {
   "cell_type": "code",
   "execution_count": null,
   "metadata": {},
   "outputs": [],
   "source": [
    "lista_completa = [nomes, notas, medias, situacao]\n",
    "lista_completa"
   ]
  },
  {
   "cell_type": "markdown",
   "metadata": {},
   "source": [
    "## 3.3 Dict comprehension\n",
    "\n",
    "É uma forma simples e concisa de criar ou modificar um dicionário. Podemos aplicar condicionais e laços para criar diversos tipos de dicionários a partir de padrões que desejamos para a nossa estrutura de dados e com o suporte de iteráveis como listas ou sets.\n",
    "\n",
    "https://peps.python.org/pep-0274/\n",
    "\n",
    "#### Formato padrão:\n",
    "\n",
    "```python\n",
    "{chave: valor for item in lista}\n",
    "```"
   ]
  },
  {
   "cell_type": "markdown",
   "metadata": {},
   "source": [
    "#### **Situação 11:**\n",
    "\n",
    "Agora, a nossa demanda consiste em gerar um dicionário a partir da lista de listas que criamos na Situação 10 para passar para a pessoa responsável por construir as tabelas para a análise dos dados.\n",
    "- As chaves do nosso dicionário serão as colunas identificando o tipo de dado\n",
    "- Os valores serão as listas com os dados correspondentes àquela chave.\n",
    "\n",
    "**Vamos resolver esse desafio?**\n",
    "\n",
    "Para facilitar o nosso entendimento do processo vamos trabalhar com uma turma fictícia de 5 estudantes.\n",
    "\n",
    "**Dica:** Utilize o formato\n",
    "\n",
    "```python\n",
    "{chave: valor for item in lista}\n",
    "```"
   ]
  },
  {
   "cell_type": "code",
   "execution_count": null,
   "metadata": {},
   "outputs": [],
   "source": [
    "lista_completa = [[('João', 'J720'), ('Maria', 'M205'), ('José', 'J371'), ('Cláudia', 'C546'), ('Ana', 'A347')],\n",
    "                  [[8.0, 9.0, 10.0], [9.0, 7.0, 6.0], [3.4, 7.0, 7.0], [5.5, 6.6, 8.0], [6.0, 10.0, 9.5]],\n",
    "                  [9.0, 7.3, 5.8, 6.7, 8.5],\n",
    "                  ['Aprovado', 'Aprovado', 'Reprovado', 'Aprovado', 'Aprovado']]\n",
    "\n",
    "# Colunas com os tipos dos dados (exceto nome)\n",
    "coluna = [\"Notas\", \"Média Final\", \"Situação\"]\n",
    "\n",
    "cadastro = {coluna[i]: lista_completa[i+1] for i in range(len(coluna))}\n",
    "cadastro"
   ]
  },
  {
   "cell_type": "code",
   "execution_count": null,
   "metadata": {},
   "outputs": [],
   "source": [
    "# Vamos por fim adicionar o nome dos estudantes, extraindo apenas seus nomes da lista de tuplas\n",
    "cadastro[\"Estudante\"] = [lista_completa[0][i][0] for i in range(len(lista_completa[0]))]\n",
    "cadastro"
   ]
  },
  {
   "cell_type": "markdown",
   "metadata": {},
   "source": [
    "## <font color=green> 4. LIDANDO COM EXCEÇÕES\n",
    "---"
   ]
  },
  {
   "cell_type": "markdown",
   "metadata": {},
   "source": [
    "Podemos notar em nosso caminho até aqui a existência de alguns erros e exceções na execução de algum comando. Como uma pessoa cientista de dados ou programador, você precisará estar atento a essas situações para evitar bugs ou problemas em seus códigos e análises que possam afetar a experiência tanto do usuário quanto a eficiência da sua análise.\n",
    "\n",
    "Existem basicamente duas formas distintas de erros: os **erros de sintaxe** e as **exceções**.\n",
    "\n",
    "Exceções são erros detectados durante a execução e que quebram o fluxo do programa encerrando-o caso não sejam tratadas.  \n",
    "\n",
    "Vamos aprender a identificar e tratar algumas das exceções aqui, mas é sempre importante mergulhar na documentação para pesquisar e verificar quais se enquadram nos seus projetos.\n",
    "\n",
    "**Documentação sobre erros e exceções:** https://docs.python.org/3/tutorial/errors.html"
   ]
  },
  {
   "cell_type": "markdown",
   "metadata": {},
   "source": [
    "## 4.1 Tratando Exceções\n",
    "\n",
    "O tratamento das exceções contribui estabelecendo um fluxo alternativo para a execução do código evitando a interrupção dos processos inesperadamente.\n",
    "\n",
    "Existe uma série de exceções e a partir do comportamento que queremos e dos erros que queremos tratar é possível construir um caminho para o usuário ou fornecer mais detalhes sobre aquela exceção.\n",
    "\n",
    "- Hierarquia das Exceções (https://docs.python.org/3/library/exceptions.html#exception-hierarchy)"
   ]
  },
  {
   "cell_type": "markdown",
   "metadata": {},
   "source": [
    "### Try ... Except\n",
    "\n",
    "```python\n",
    "try:\n",
    "  # código a ser executado. Caso uma exceção seja lançada, pare imediatamente\n",
    "except <nome_da_excecao as e>:\n",
    "  # Se uma exceção for lançada no try, rode esse código, senão pule esta etapa\n",
    "```"
   ]
  },
  {
   "cell_type": "markdown",
   "metadata": {},
   "source": [
    "#### **Situação 12:**\n",
    "\n",
    "Você criou um código que lê um dicionário com as notas dos estudantes e quis retornar a lista de notas de um estudante.\n",
    "\n",
    "Caso o(a) estudante não esteja matriculado(a) na turma devemos tratar a exceção para aparecer a mensagem \"Estudante não matriculado(a) na turma\".\n",
    "\n",
    "Vamos trabalhar nesse exemplo com a exceção **Key Error** que interromperá o processo desse pedaço do código.\n",
    "\n",
    "**Vamos testar esse primeiro tratamento?**"
   ]
  },
  {
   "cell_type": "code",
   "execution_count": 2,
   "metadata": {},
   "outputs": [
    {
     "name": "stdout",
     "output_type": "stream",
     "text": [
      "[9.0, 7.0, 6.0]\n"
     ]
    }
   ],
   "source": [
    "notas = {'João': [8.0, 9.0, 10.0], 'Maria': [9.0, 7.0, 6.0], 'José': [3.4, 7.0, 8.0], 'Cláudia': [5.5, 6.6, 8.0],\n",
    " 'Ana': [6.0, 10.0, 9.5], 'Joaquim': [5.5, 7.5, 9.0], 'Júlia': [6.0, 8.0, 7.0], 'Pedro': [3.0, 4.0, 6.0]}\n",
    "\n",
    "try:\n",
    "    nome = input(\"Digite o nome do(a) estudante: \")\n",
    "    resultado = notas[nome]\n",
    "except Exception as e:\n",
    "    print(type(e), f\"Erro:{e}\")\n",
    "else:\n",
    "    print(resultado)\n"
   ]
  },
  {
   "cell_type": "code",
   "execution_count": null,
   "metadata": {},
   "outputs": [],
   "source": [
    "try:\n",
    "    nome = input(\"Digite o nome do(a) estudante: \")\n",
    "    resultado = notas[nome]\n",
    "except KeyError:\n",
    "    print(\"Estudante não matriculado(a) na turma\")\n",
    "else:\n",
    "    print(resultado)"
   ]
  },
  {
   "cell_type": "markdown",
   "metadata": {},
   "source": [
    "\n",
    "### Adicionando o Else\n",
    "\n",
    "```python\n",
    "try:\n",
    "  # código a ser executado. Caso uma exceção seja lançada, pare imediatamente\n",
    "except:\n",
    "  # Se uma exceção for lançada no try, rode esse código, senão pule esta etapa\n",
    "else:\n",
    "  # Se não houver uma exeção lançada pelo try, rode essa parte\n",
    "```"
   ]
  },
  {
   "cell_type": "markdown",
   "metadata": {},
   "source": [
    "#### **Situação 13:**\n",
    "\n",
    "Você criou um código que lê um dicionário com as notas dos estudantes e quis retornar a lista de notas de um estudante.\n",
    "\n",
    "Caso o(a) estudante não esteja matriculado(a) na classe devemos tratar a exceção para aparecer a mensagem \"Estudante não matriculado(a) na turma\" e se a exceção não for lançada devemos exibir a lista com as notas do(a) estudante.\n",
    "\n",
    "Vamos trabalhar nesse exemplo com a exceção **Key Error** que interromperá o processo desse pedaço do código.\n",
    "\n",
    "**Vamos testar esse tratamento?**"
   ]
  },
  {
   "cell_type": "code",
   "execution_count": null,
   "metadata": {},
   "outputs": [],
   "source": [
    "notas = {'João': [8.0, 9.0, 10.0], 'Maria': [9.0, 7.0, 6.0], 'José': [3.4, 7.0, 8.0], 'Cláudia': [5.5, 6.6, 8.0],\n",
    " 'Ana': [6.0, 10.0, 9.5], 'Joaquim': [5.5, 7.5, 9.0], 'Júlia': [6.0, 8.0, 7.0], 'Pedro': [3.0, 4.0, 6.0]}\n",
    "\n",
    "try:\n",
    "    nome = input(\"Digite o nome do(a) estudante: \")\n",
    "    resultado = notas[nome]\n",
    "except KeyError:\n",
    "    print(\"Estudante não matriculado(a) na turma\")\n",
    "else:\n",
    "  print(resultado)"
   ]
  },
  {
   "cell_type": "markdown",
   "metadata": {},
   "source": [
    "### Adicionando o finally\n",
    "\n",
    "```python\n",
    "try:\n",
    "  # código a ser executado. Caso uma exceção seja lançada, pare imediatamente\n",
    "except:\n",
    "  # Se uma exceção for lançada no try, rode esse código, senão pule esta etapa\n",
    "else:\n",
    "  # Se não houver uma exeção lançada pelo try, rode essa parte\n",
    "finally:\n",
    "  # Rode essa parte (com ou sem exceção)\n",
    "```"
   ]
  },
  {
   "cell_type": "markdown",
   "metadata": {},
   "source": [
    "#### **Situação 14:**\n",
    "\n",
    "Você criou um código que lê um dicionário com as notas dos estudantes e quis retornar a lista de notas de um estudante.\n",
    "\n",
    "Caso o(a) estudante não esteja matriculado(a) na classe devemos tratar a exceção para aparecer a mensagem \"Estudante não matriculado(a) na turma\" e se a exceção não for lançada devemos exibir a lista com as notas do(a) estudante. Um texto avisando que \"A consulta foi encerrada!\" deve ser exibido com ou sem a exceção ser lançada.\n",
    "\n",
    "Vamos trabalhar nesse exemplo com a exceção **Key Error** que interromperá o processo desse pedaço do código.\n",
    "\n",
    "**Vamos testar esse tratamento?**"
   ]
  },
  {
   "cell_type": "code",
   "execution_count": null,
   "metadata": {},
   "outputs": [],
   "source": [
    "notas = {'João': [8.0, 9.0, 10.0], 'Maria': [9.0, 7.0, 6.0], 'José': [3.4, 7.0, 8.0], 'Cláudia': [5.5, 6.6, 8.0],\n",
    " 'Ana': [6.0, 10.0, 9.5], 'Joaquim': [5.5, 7.5, 9.0], 'Júlia': [6.0, 8.0, 7.0], 'Pedro': [3.0, 4.0, 6.0]}\n",
    "\n",
    "try:\n",
    "    nome = input(\"Digite o nome do(a) estudante: \")\n",
    "    resultado = notas[nome]\n",
    "except KeyError:\n",
    "    print(\"Estudante não matriculado(a) na turma\")\n",
    "else:\n",
    "  print(resultado)\n",
    "finally:\n",
    "  print(\"A consulta foi encerrada!\")"
   ]
  },
  {
   "cell_type": "markdown",
   "metadata": {},
   "source": [
    "## 4.2 Raise\n",
    "\n",
    "Uma outra forma de trabalhar com as exceções em seu código, é criar as suas próprias exceções para determinados comportamentos que deseja em seu código.\n",
    "\n",
    "Para isso, utilizamos a palavra-chave `raise` junto ao tipo de exceção que deseja lançar e uma mensagem a ser exibida.   "
   ]
  },
  {
   "cell_type": "markdown",
   "metadata": {},
   "source": [
    "#### **Situação 15:**\n",
    "\n",
    "Você criou uma função para calcular a média de um estudante em uma dada matéria passando em uma lista as notas deste estudante.\n",
    "\n",
    "Você pretende tratar 2 situações:\n",
    "- Se a lista possuir um valor não numérico o cálculo de média não será executado e uma mensagem de \"Não foi possível calcular a média do(a) estudante. Só são aceitos valores numéricos!\" será exibida.\n",
    "- Caso a lista tenha mais de 4 notas, será lançada uma exceção do tipo **ValueError** informando que \"A lista não pode possuir mais de 4 notas.\"\n",
    "\n",
    "Um texto avisando que \"A consulta foi encerrada!\" deve ser exibido com ou sem a exceção ser lançada.\n",
    "\n",
    "**Vamos resolver esse desafio?**"
   ]
  },
  {
   "cell_type": "code",
   "execution_count": null,
   "metadata": {},
   "outputs": [],
   "source": [
    "def media(lista: list=[0]) -> float:\n",
    "  ''' Função para calcular a média de notas passadas por uma lista\n",
    "\n",
    "  lista: list, default [0]\n",
    "    Lista com as notas para calcular a média\n",
    "  return = calculo: float\n",
    "    Média calculada\n",
    "  '''\n",
    "\n",
    "  calculo = sum(lista) / len(lista)\n",
    "\n",
    "  if len(lista) > 4:\n",
    "    raise ValueError(\"A lista não pode possuir mais de 4 notas.\")\n",
    "\n",
    "  return calculo\n",
    "\n",
    "notas = [6,5,4,9,10]\n",
    "resultado = media(notas)\n",
    "resultado\n"
   ]
  },
  {
   "cell_type": "code",
   "execution_count": null,
   "metadata": {},
   "outputs": [],
   "source": [
    "notas = [6, 5, 4, 9, \"8\"]\n",
    "resultado = media(notas)\n",
    "resultado"
   ]
  },
  {
   "cell_type": "code",
   "execution_count": null,
   "metadata": {},
   "outputs": [],
   "source": [
    "try:\n",
    "  notas = [6, 5, 4, 9, \"8\"]\n",
    "  resultado = media(notas)\n",
    "except TypeError:\n",
    "  print(\"não foi possível calcular a média\")\n",
    "except ValueError as e:\n",
    "  print(e)\n",
    "else:\n",
    "  print(resultado)\n",
    "finally:\n",
    "  print(\"Encerrou a consulta\")"
   ]
  }
 ],
 "metadata": {
  "colab": {
   "provenance": []
  },
  "kernelspec": {
   "display_name": "Python 3",
   "name": "python3"
  },
  "language_info": {
   "codemirror_mode": {
    "name": "ipython",
    "version": 3
   },
   "file_extension": ".py",
   "mimetype": "text/x-python",
   "name": "python",
   "nbconvert_exporter": "python",
   "pygments_lexer": "ipython3",
   "version": "3.11.9"
  }
 },
 "nbformat": 4,
 "nbformat_minor": 0
}
