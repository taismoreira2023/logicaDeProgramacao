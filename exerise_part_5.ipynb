{
 "cells": [
  {
   "cell_type": "markdown",
   "metadata": {},
   "source": [
    "1. Faça um programa que solicite à pessoa usuária digitar dois números float e calcular a divisão entre esses números. O código deve conter um tratamento de erro, indicando o tipo de erro que foi gerado caso a divisão não seja possível de realizar.\n",
    "\n",
    "Teste o programa com o segundo valor numérico do input igual a 0. Também teste utilizando caracteres textuais no input para checar os tipos de erro que ocorrem."
   ]
  },
  {
   "cell_type": "code",
   "execution_count": null,
   "metadata": {},
   "outputs": [],
   "source": [
    "try:\n",
    "  num1, num2 = [float(x) for x in input(\"informe dois números, separados por espaço: \").split(\" \")]\n",
    "  division = num1 / num2\n",
    "  print(f\"{num1} / {num2} é igual a {round(division,2)}\")\n",
    "except ValueError:\n",
    "  print(\"É esperado somente dois valores numéricos\")\n",
    "except ZeroDivisionError:\n",
    "  print(\"Não é possível dividir um número por zero\")"
   ]
  },
  {
   "cell_type": "markdown",
   "metadata": {},
   "source": [
    "2. Faça um programa que solicite à pessoa usuária digitar um texto que será uma chave a ser pesquisada no seguinte dicionário:\n",
    "\n",
    "```\n",
    "idades = {'Júlia': 16, 'Carol': 23, 'Alberto': 19, 'Roberta': 17}\n",
    "```\n",
    "\n",
    "armazenando o resultado do valor em uma variável. O código deve conter um tratamento de erro KeyError, imprimindo a informação 'Nome não encontrado', caso ocorra o erro; e imprimir o valor caso não ocorra nenhum.\n",
    "\n",
    "Teste o programa com um nome presente em uma das chaves do dicionário e com um que não esteja no dicionário para verificar a mensagem de erro"
   ]
  },
  {
   "cell_type": "code",
   "execution_count": null,
   "metadata": {},
   "outputs": [],
   "source": [
    "try:\n",
    "  ages = {'Júlia': 16, 'Carol': 23, 'Alberto': 19, 'Roberta': 17}\n",
    "except KeyError:\n",
    "  print(\"Nome não encontrado\")\n",
    "else:\n",
    "  print(\"idade: \", ages[input(\"informe quem deseja procurar: \")])"
   ]
  },
  {
   "cell_type": "markdown",
   "metadata": {},
   "source": [
    "3. Crie uma função que recebe uma lista como parâmetro e converta todos os valores da lista para float. A função deve conter um tratamento de erro indicando o tipo de erro gerado e retornar a lista caso não tenha ocorrido nenhum erro. Por fim, deve ter a cláusula finally para imprimir o texto: 'Fim da execução da função'."
   ]
  },
  {
   "cell_type": "code",
   "execution_count": null,
   "metadata": {},
   "outputs": [],
   "source": [
    "def float_converter (lst: list[0]) -> list:\n",
    "    try:\n",
    "      convertor = [float(x) for x in lst]\n",
    "    except ValueError:\n",
    "      print(f\"Error: Informe somente números, para a conversão\")\n",
    "    else:\n",
    "      print(convertor)\n",
    "    finally:\n",
    "      print(\"Fim da execução da função\")\n",
    "\n",
    "\n",
    "lst = [12,45,2.0,7.8]\n",
    "float_converter(lst)\n"
   ]
  },
  {
   "cell_type": "markdown",
   "metadata": {},
   "source": [
    "4. Crie uma função que recebe duas listas como parâmetros e agrupe os elementos um a um das listas, formando uma lista de tuplas de 3 elementos, no qual o primeiro e segundo elemento da tupla são os valores na posição i das listas e o terceiro elemento é a soma dos valores na posição i das listas.\n",
    "\n",
    "A função deve conter um tratamento de erro indicando o tipo de erro gerado e retornar como resultado a lista de tuplas. Caso as listas enviadas como parâmetro tenham tamanhos diferentes, a função deve retornar um IndexError com a frase: 'A quantidade de elementos em cada lista é diferente.' Dados para testar a função:\n",
    "\n",
    "Valores sem erro:\n",
    "```\n",
    "lista1 = [4,6,7,9,10]\n",
    "lista2 = [-4,6,8,7,9]\n",
    "```\n",
    "Listas com tamanhos diferentes:\n",
    "```\n",
    "lista1 = [4,6,7,9,10,4]\n",
    "lista2 = [-4,6,8,7,9]\n",
    "```\n",
    "Listas com valores incoerentes:\n",
    "```\n",
    "lista1 = [4,6,7,9,'A']\n",
    "lista2 = [-4,'E',8,7,9]\n",
    "```"
   ]
  },
  {
   "cell_type": "code",
   "execution_count": null,
   "metadata": {},
   "outputs": [],
   "source": [
    "import math as m\n",
    "def soma(lista1, lista2) -> list:\n",
    "  try:\n",
    "    final = m.ceil((len(lista1) + len(lista2))/ 2)\n",
    "    result = [(lista1[i] , lista2[i], lista1[i] + lista2[i]) if type(lista1[i]) == int and type(lista2[i]) == int else\n",
    "     (lista1[i],lista2[i],\"Não é número\") for i in range(final)]\n",
    "  except IndexError:\n",
    "    print(f\"A quantidade de elementos em cada lista é diferente\")\n",
    "  else:\n",
    "    return result\n",
    "\n",
    "lista1 = [4,6,7,9,'A']\n",
    "lista2 = [-4,10,8,7,9]\n",
    "\n",
    "soma(lista1, lista2)\n",
    "# Demorei mais consegui:)"
   ]
  },
  {
   "cell_type": "markdown",
   "metadata": {},
   "source": [
    "5. Como desafio, você recebeu a tarefa de desenvolver um código que contabiliza as pontuações de estudantes de uma instituição de ensino de acordo com suas respostas num teste. Este código deve ser testado para um exemplo de 3 estudantes com uma lista de listas em que cada lista possui as respostas de 5 questões objetivas de cada estudante. Cada questão vale um ponto e as alternativas possíveis são A, B, C ou D.\n",
    "Caso alguma alternativa em um dos testes não esteja entre as alternativas possíveis, você deve lançar um ValueError com a mensagem \"A alternativa [alternativa] não é uma opção de alternativa válida\". O cálculo das 3 notas só será realizado mediante as entradas com as alternativas A, B, C ou D em todos os testes. Se não for lançada a exceção, será exibida uma lista com as notas em cada teste.\n",
    "\n",
    "Os dados para o teste do código são:\n",
    "\n",
    "Gabarito da prova:\n",
    "```\n",
    "gabarito = ['D', 'A', 'B', 'C', 'A']\n",
    "```\n",
    "Abaixo temos 2 listas de listas que você pode usar como teste\n",
    "\n",
    "Notas sem exceção:\n",
    "```\n",
    "testes_sem_ex = [['D', 'A', 'B', 'C', 'A'], ['C', 'A', 'A', 'C', 'A'], ['D', 'B', 'A', 'C', 'A']]\n",
    "```\n",
    "Notas com exceção:\n",
    "```\n",
    "testes_com_ex = [['D', 'A', 'B', 'C', 'A'], ['C', 'A', 'A', 'E', 'A'], ['D', 'B', 'A', 'C', 'A']]\n",
    "```\n",
    "Dica: Para verificar se uma entrada da lista não está entre as alternativas possíveis, use a estrutura lista[i] not in ['A','B','C','D'].\n",
    "\n",
    "Por exemplo, 1 not in [2,3,4]... Saída: True."
   ]
  },
  {
   "cell_type": "code",
   "execution_count": null,
   "metadata": {},
   "outputs": [],
   "source": [
    "answer_key = ['D', 'A', 'B', 'C', 'A']\n",
    "tests_without_ex = [['D', 'A', 'B', 'C', 'A'], ['C', 'A', 'A', 'C', 'A'], ['D', 'B', 'A', 'C', 'A']]\n",
    "tests_with_ex = [['D', 'A', 'B', 'C', 'A'], ['C', 'A', 'A', 'E', 'A'], ['D', 'B', 'A', 'C', 'A']]\n",
    "\n",
    "def grade(test_list):\n",
    "    result = []\n",
    "    for i in range(len(test_list)):\n",
    "        score = 0\n",
    "        for j in range(len(test_list[i])):\n",
    "            try:\n",
    "                if test_list[i][j] == answer_key[j]:\n",
    "                    score += 1\n",
    "                elif test_list[i][j] not in list(set(answer_key)):\n",
    "                    raise ValueError(f\"A alternativa {test_list[i][j]} não é uma opção de alternativa válida\")\n",
    "            except Exception as e:\n",
    "                print(f\"Error: {e}\")\n",
    "\n",
    "        result.append(score)\n",
    "    return result\n",
    "\n",
    "grade(tests_with_ex)\n",
    "# Difícil viu:/"
   ]
  },
  {
   "cell_type": "markdown",
   "metadata": {},
   "source": [
    "6. Você está trabalhando com processamento de linguagem natural (NLP) e, dessa vez, sua líder requisitou que você criasse um trecho de código que recebe uma lista com as palavras separadas de uma frase gerada pelo ChatGPT.\n",
    "\n",
    "Você precisa criar uma função que avalia cada palavra desse texto e verificar se o tratamento para retirar os símbolos de pontuação (',' '.', '!' e '?') foi realizado. Caso contrário, será lançada uma exceção do tipo ValueError apontando o 1º caso em que foi detectado o uso de uma pontuação por meio da frase \"O texto apresenta pontuações na palavra \"[palavra]\".\". Essa demanda é voltada para a análise do padrão de frases geradas pela inteligência artificial.\n",
    "\n",
    "Dica: Para verificar se uma ou mais das pontuações estão presentes em cada palavra, utilize a palavra chave or na condição if.\n",
    "\n",
    "Por exemplo, 'a' in 'alura' or 'b' in 'alura'… Saída: True\n",
    "\n",
    "Os dados para o teste do código são:\n",
    "\n",
    "Lista tratada:\n",
    "```\n",
    "lista_tratada = ['Python', 'é', 'uma', 'linguagem', 'de', 'programação', 'poderosa', 'versátil',\n",
    "                  'e', 'fácil', 'de', 'aprender', 'utilizada', 'em', 'diversos', 'campos', 'desde',\n",
    "                  'análise', 'de', 'dados', 'até', 'inteligência', 'artificial']\n",
    "```\n",
    "Lista não tratada:\n",
    "```\n",
    "lista_nao_tratada = ['Python', 'é', 'uma', 'linguagem', 'de', 'programação', 'poderosa,', 'versátil',\n",
    "                  'e', 'fácil,', 'de', 'aprender', 'utilizada', 'em', 'diversos', 'campos,', 'desde',\n",
    "                  'análise', 'de', 'dados', 'até', 'inteligência', 'artificial!']\n",
    "```"
   ]
  },
  {
   "cell_type": "code",
   "execution_count": null,
   "metadata": {},
   "outputs": [],
   "source": [
    "untreated_list = ['Python', 'é', 'uma', 'linguagem', 'de', 'programação', 'poderosa,', 'versátil',\n",
    "                  'e', 'fácil,', 'de', 'aprender', 'utilizada', 'em', 'diversos', 'campos,', 'desde',\n",
    "                  'análise', 'de', 'dados', 'até', 'inteligência', 'artificial!']\n",
    "\n",
    "\n",
    "treated = []\n",
    "\n",
    "for i in range(len(untreated_list)):\n",
    "  try:\n",
    "      if '!' in untreated_list[i] or ',' in untreated_list[i] or '.' in untreated_list[i] or '?' in untreated_list[i]:\n",
    "        raise ValueError(f\"Error {i}: o texto apresenta pontuações na palavra '{untreated_list[i]}' \")\n",
    "      else:\n",
    "        treated.append(untreated_list[i])\n",
    "  except Exception as e:\n",
    "    print(e)\n",
    "\n",
    "print(treated)\n"
   ]
  },
  {
   "cell_type": "markdown",
   "metadata": {},
   "source": [
    "7. Você foi contratado(a) como uma pessoa cientista de dados para auxiliar um laboratório que faz experimentos sobre o comportamento de uma cultura de fungos. O laboratório precisa avaliar constantemente a razão (divisão) entre os dados de pressão e temperatura do ambiente controlado recolhidos durante a experimentação para definir a melhor condição para os testes.\n",
    "\n",
    "Para cumprir com a demanda, você precisa criar uma função divide_colunas que recebe os dados das colunas de pressão e temperatura (que vem no formato de listas) e gerar uma nova coluna com o resultado da divisão. Os parâmetros da função são as duas listas e você deve tratar dentro dela ao menos 2 tipos de exceções:\n",
    "\n",
    "Verificar se as listas têm o mesmo tamanho (ValueError)\n",
    "Verificar se existe alguma divisão por zero (ZeroDivisionError)\n",
    "Para testar a função, vamos realizar a divisão entre duas listas de dados coletados no experimento, com os valores de pressão e temperatura do ambiente controlado.\n",
    "\n",
    "Como teste, use os seguintes dados:\n",
    "\n",
    "Dados sem exceção:\n",
    "```\n",
    "pressoes = [100, 120, 140, 160, 180]\n",
    "temperaturas = [20, 25, 30, 35, 40]\n",
    "```\n",
    "Dados com exceção:\n",
    "\n",
    "1) Exceção de ZeroDivisionError\n",
    "```\n",
    "pressoes = [60, 120, 140, 160, 180]\n",
    "temperaturas = [0, 25, 30, 35, 40]\n",
    "```\n",
    "2) Exceção de ValueError\n",
    "```\n",
    "pressoes = [100, 120, 140, 160]\n",
    "temperaturas = [20, 25, 30, 35, 40]\n",
    "```\n",
    "Dica: Você pode usar zip() para parear os dados da lista_1 com a lista_2. Crie uma estrutura try-except que caso uma das exceções sejam lançadas, podemos ver o tipo de erro na saída"
   ]
  },
  {
   "cell_type": "code",
   "execution_count": null,
   "metadata": {},
   "outputs": [],
   "source": [
    "pressures = [100, 120, 140, 160]\n",
    "temperatures = [20, 25, 30, 0]\n",
    "\n",
    "def divide_columns(temp, pressure) -> list:\n",
    "  try:\n",
    "    if len(temp) != len(pressure):\n",
    "      raise ValueError(f\"É esperado somente listas do mesmo tamanho\")\n",
    "\n",
    "    div = list(zip(temp, pressure))\n",
    "    result = [round(div[i][0] / div[i][1], 2) for i in range(len(div))]\n",
    "  except ZeroDivisionError:\n",
    "    print(\"Não é possível dividir um número por zero\")\n",
    "  except Exception as e:\n",
    "    print(f\"{e}\")\n",
    "  else:\n",
    "    return result\n",
    "\n",
    "divide_columns(pressures, temperatures)\n"
   ]
  }
 ],
 "metadata": {
  "language_info": {
   "name": "python"
  }
 },
 "nbformat": 4,
 "nbformat_minor": 2
}
