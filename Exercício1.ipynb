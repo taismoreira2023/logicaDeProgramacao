{
 "cells": [
  {
   "cell_type": "markdown",
   "metadata": {},
   "source": [
    "1) Faça um programa que tenha a seguinte lista contendo os valores de gastos de uma empresa de papel [2172.54, 3701.35, 3518.09, 3456.61, 3249.38, 2840.82, 3891.45, 3075.26, 2317.64, 3219.08]. Com esses valores, faça um programa que calcule a média de gastos. Dica: use as funções built-in sum() e len()"
   ]
  },
  {
   "cell_type": "code",
   "execution_count": 3,
   "metadata": {},
   "outputs": [
    {
     "data": {
      "text/plain": [
       "3144.222"
      ]
     },
     "execution_count": 3,
     "metadata": {},
     "output_type": "execute_result"
    }
   ],
   "source": [
    "gastos = [2172.54, 3701.35, 3518.09, 3456.61, 3249.38, 2840.82, 3891.45, 3075.26, 2317.64, 3219.08]\n",
    "\n",
    "media = sum(gastos) / len(gastos)\n",
    "\n",
    "media"
   ]
  },
  {
   "cell_type": "markdown",
   "metadata": {},
   "source": [
    "2) Com os mesmos dados da questão anterior, defina quantas compras foram realizadas acima de 3000 reais e calcule a porcentagem quanto ao total de compras."
   ]
  },
  {
   "cell_type": "code",
   "execution_count": 19,
   "metadata": {},
   "outputs": [
    {
     "name": "stdout",
     "output_type": "stream",
     "text": [
      "Porcentagem:  76.68 %\n"
     ]
    }
   ],
   "source": [
    "acimaTresMil = 0\n",
    "for i in range(len(gastos)):\n",
    "    if (gastos[i] > 3000):\n",
    "        acimaTresMil += gastos[i] \n",
    "        \n",
    "parte = acimaTresMil\n",
    "porcentagem = (parte / sum(gastos)) * 100\n",
    "\n",
    "print(f\"Porcentagem: {porcentagem: .2f} %\")\n"
   ]
  },
  {
   "cell_type": "markdown",
   "metadata": {},
   "source": [
    "3) Faça um código que colete em uma lista 5 números inteiros quaisquer e imprima a lista. Exemplo: [1,4,7,2,4]."
   ]
  },
  {
   "cell_type": "code",
   "execution_count": null,
   "metadata": {},
   "outputs": [
    {
     "data": {
      "text/plain": [
       "[3, 35, 75, 32, 49]"
      ]
     },
     "execution_count": 24,
     "metadata": {},
     "output_type": "execute_result"
    }
   ],
   "source": [
    "import random\n",
    "\n",
    "listaNum = []\n",
    "\n",
    "for i in range(5):\n",
    "    aleatorio = random.randrange(0,100)\n",
    "    listaNum.append(aleatorio)\n",
    "\n",
    "listaNum"
   ]
  },
  {
   "cell_type": "markdown",
   "metadata": {},
   "source": [
    "4) Colete novamente 5 inteiros e imprima a lista em ordem inversa à enviada."
   ]
  },
  {
   "cell_type": "code",
   "execution_count": 34,
   "metadata": {},
   "outputs": [
    {
     "name": "stdout",
     "output_type": "stream",
     "text": [
      "83\n",
      "4\n",
      "42\n",
      "88\n",
      "[96, 88, 42, 4, 83]\n"
     ]
    }
   ],
   "source": [
    "listaInversa = []\n",
    "\n",
    "for i in range(5):\n",
    "    aleatorio = random.randrange(0,100)\n",
    "    listaInversa.append(aleatorio)\n",
    "\n",
    "for i in range(-1,-i-1,-1):\n",
    "    print(listaInversa[i])\n",
    "\n",
    "print(listaInversa)\n"
   ]
  },
  {
   "cell_type": "markdown",
   "metadata": {},
   "source": [
    "5) Faça um programa que, ao inserir um número qualquer, cria uma lista contendo todos os números primos entre 1 e o número digitado."
   ]
  },
  {
   "cell_type": "code",
   "execution_count": 15,
   "metadata": {},
   "outputs": [
    {
     "name": "stdout",
     "output_type": "stream",
     "text": [
      "O 2 É PRIMO! ○( ＾皿＾)っ Hehehe…\n"
     ]
    }
   ],
   "source": [
    "numero = 2\n",
    "quantPrimo = 0\n",
    "isPrimo = True\n",
    "for i in range(numero):\n",
    "    if((numero % (i+1) == 0)):\n",
    "       quantPrimo += 1\n",
    "       if(quantPrimo > 2 or numero == 1):\n",
    "           isPrimo = not isPrimo\n",
    "           break\n",
    "       \n",
    "if(isPrimo == True):\n",
    "    print(f\"O {numero} É PRIMO! ○( ＾皿＾)っ Hehehe…\") \n",
    "else:\n",
    "     print(f\"O {numero} NÃO É PRIMO! o(￣┰￣*)ゞ\") "
   ]
  },
  {
   "cell_type": "markdown",
   "metadata": {},
   "source": [
    "6) Escreva um programa que peça uma data informando o dia, mês e ano e determine se ela é válida para uma análise."
   ]
  },
  {
   "cell_type": "code",
   "execution_count": null,
   "metadata": {},
   "outputs": [],
   "source": [
    "data = '30 7 220'\n",
    "\n",
    "dia, mes, ano = data.split(\" \")\n",
    "\n",
    "\n",
    "\n",
    "valida = False\n",
    "\n",
    "if len(ano) != 4:\n",
    "    print(\"O ano tem que ter 4 caracteres:[\")\n",
    "\n",
    "else:\n",
    "\n",
    "  dia = int(dia)\n",
    "  mes = int(mes)\n",
    "  ano = int(ano)\n",
    "\n",
    "  print(dia, mes, ano)\n",
    "\n",
    "  # Mes com 31 dias:)\n",
    "  if mes  in [1, 3, 5, 7, 8, 10, 12]:\n",
    "    if 1 <= dia <= 31:\n",
    "       valida = True\n",
    "      # Mes com 30 dias\n",
    "  elif mes in [4, 6, 9, 11]:\n",
    "    if 1 <= dia <= 3:\n",
    "        valida = True\n",
    "    # Mes Bissexto\n",
    "  elif mes == 2:\n",
    "     if (ano % 4 == 0 and ano % 100 != 0) or (ano % 400 == 0):\n",
    "              if 1 <= dia <= 29:\n",
    "                  valida = True\n",
    "                  # Mes com 28 dias\n",
    "     else:\n",
    "              if 1 <= dia <= 28:\n",
    "                  valida = True\n",
    "\n",
    "if valida == True:\n",
    "  print(\"È valida :)\")\n",
    "else:\n",
    "    print(\"Não é valida :(\")"
   ]
  },
  {
   "cell_type": "markdown",
   "metadata": {},
   "source": [
    "7) Para um estudo envolvendo o nível de multiplicação de bactérias em uma colônia, foi coletado o número de bactérias por dia (em milhares) e pode ser observado a seguir: [1.2, 2.1, 3.3, 5.0, 7.8, 11.3, 16.6, 25.1, 37.8, 56.9]. Tendo esses valores, faça um código que gere uma lista contendo o percentual de crescimento de bactérias por dia, comparando o número de bactérias em cada dia com o número de bactérias do dia anterior. Dica: para calcular o percentual de crescimento usamos a seguinte equação: 100 * (amostra_atual - amostra_passada) / (amostra_passada)."
   ]
  },
  {
   "cell_type": "code",
   "execution_count": null,
   "metadata": {},
   "outputs": [],
   "source": [
    "numBacterias = [1.2, 2.1, 3.3, 5.0, 7.8, 11.3, 16.6, 25.1, 37.8, 56.9]\n",
    "\n",
    "crescimento_porcentagem = []\n",
    "\n",
    "for i in range(1,len(numBacterias)):\n",
    "  crescimento = 100 * (numBacterias[i] - numBacterias[i - 1]) / (numBacterias[i - 1])\n",
    "  crescimento_porcentagem.append(crescimento)\n",
    "  print(f\"Dia {i} para dia {i + 1}: {crescimento:.2f}%\")"
   ]
  },
  {
   "cell_type": "markdown",
   "metadata": {},
   "source": [
    "8) Para uma seleção de produtos alimentícios, precisamos separar o conjunto de IDs dados por números inteiros sabendo que os produtos com ID par são doces e os com ID ímpar são amargos. Monte um código que colete 10 IDs. Depois, calcule e mostre a quantidade de produtos doces e amargos."
   ]
  },
  {
   "cell_type": "code",
   "execution_count": null,
   "metadata": {},
   "outputs": [],
   "source": [
    "import random\n",
    "\n",
    "listIdsPares = []\n",
    "listIdsImpares= []\n",
    "\n",
    "for i in range(10):\n",
    "    aleatorio = random.randint(0,100)\n",
    "    if aleatorio % 2 == 0:\n",
    "      listIdsPares.append(aleatorio)\n",
    "    else:\n",
    "      listIdsImpares.append(aleatorio)\n",
    "\n",
    "\n",
    "print(f\"Doces: {len(listIdsPares)} {listIdsPares}\")\n",
    "print(f\"Amargos: {len(listIdsImpares)} {listIdsImpares}\")"
   ]
  },
  {
   "cell_type": "markdown",
   "metadata": {},
   "source": [
    "9) Desenvolva um programa que informa a nota de um(a) aluno(a) de acordo com suas respostas. Ele deve pedir a resposta desse(a) aluno(a) para cada questão e é preciso verificar se a resposta foi igual ao gabarito. Cada questão vale um ponto e existem as alternativas A, B, C ou D.\n",
    "\n",
    "Gabarito da prova:\n",
    "01 - D\n",
    "02 - A\n",
    "03 - C\n",
    "04 - B\n",
    "05 - A\n",
    "06 - D\n",
    "07 - C\n",
    "08 - C\n",
    "09 - A\n",
    "10 - B"
   ]
  },
  {
   "cell_type": "code",
   "execution_count": null,
   "metadata": {},
   "outputs": [],
   "source": [
    "print(\"PROVA DE MATEMÁTICA\")\n",
    "\n",
    "prova = [\n",
    "    {\"pergunta\": \"Quanto é 2 + 2:\" ,\"alternativa\": [\"a) 2\", \"b) 4\", \"c) 8\", \"d)16\"],\"resposta\": \"a\"},\n",
    "    {\"pergunta\": \"Quanto é 0 x 1000:\" ,\"alternativa\": [\"a) 10000\", \"b) 0\", \" c) 100\", \"d) 3\"],\"resposta\": \"b\"},\n",
    "    {\"pergunta\": \"Quanto é 2 + 1:\" ,\"alternativa\": [\"a) 6\", \"b) 3\", \"c)21\", \"d)nenhum\"],\"resposta\": \"b\"},\n",
    "]\n",
    "respostas = []\n",
    "for i in range(len(prova)):\n",
    " print(prova[i][\"pergunta\"]).lower\n",
    " for j in range(len(prova[i][alternative])):\n",
    "  print(prova[i] alternative[j])\n",
    " questao = input().lower()\n",
    " respostas.append(questao)\n",
    " print(respostas)\n",
    "\n",
    "for i in range(len(respostas)):\n",
    "  if respostas[i] == prova[i][\"resposta\"]:\n",
    "    print(\"Você acertou!\")\n",
    "  else:\n",
    "    print(\"Você errou!\")\n"
   ]
  },
  {
   "cell_type": "markdown",
   "metadata": {},
   "source": [
    "10) Um instituto de meteorologia deseja fazer um estudo de temperatura média de cada mês do ano. Para isso, você precisa fazer um código que colete e armazene essas temperaturas médias em uma lista. Depois, calcule a média anual das temperaturas e mostre todas as temperaturas acima da média anual e em que mês elas ocorreram, mostrando os meses por extenso (Janeiro, Fevereiro, etc.)."
   ]
  },
  {
   "cell_type": "code",
   "execution_count": null,
   "metadata": {},
   "outputs": [],
   "source": []
  },
  {
   "cell_type": "markdown",
   "metadata": {},
   "source": [
    "11) Uma empresa de e-commerce está interessada em analisar as vendas dos seus produtos. Os dados das vendas foram armazenados em um dicionário:\n",
    "\n",
    "{'Produto A': 300, 'Produto B': 80, 'Produto C': 60,\n",
    " 'Produto D': 200, 'Produto E': 250, 'Produto F': 30}\n",
    "\n",
    " Escreva um código que calcule o total de vendas e o produto mais vendido."
   ]
  },
  {
   "cell_type": "code",
   "execution_count": null,
   "metadata": {},
   "outputs": [],
   "source": []
  },
  {
   "cell_type": "markdown",
   "metadata": {},
   "source": [
    "12) Uma pesquisa de mercado foi feita para decidir qual design de marca infantil mais agrada as crianças. A pesquisa foi feita e o votos computados podem ser observados abaixo:\n",
    "\n",
    "'''\n",
    "Tabela de votos da marca\n",
    "Design 1 - 1334 votos\n",
    "Design 2 - 982 votos\n",
    "Design 3 - 1751 votos\n",
    "Design 4 - 210 votos\n",
    "Design 5 - 1811 votos\n",
    "'''\n",
    "\n",
    "Adapte os dados fornecidos para uma estrutura de dicionário. A partir dele, informe o design vencedor e a porcentagem de votos recebidos."
   ]
  },
  {
   "cell_type": "code",
   "execution_count": null,
   "metadata": {},
   "outputs": [],
   "source": []
  },
  {
   "cell_type": "markdown",
   "metadata": {},
   "source": [
    "13) As pessoas colaboradoras de um setor da empresa que você trabalha vão receber um abono correspondente a 10% do salário devido ao ótimo desempenho do time. O setor financeiro solicitou sua ajuda para a verificação das consequências financeiras que esse abono irá gerar nos recursos. Assim, foi encaminhada para você uma lista com os salários que receberão o abono: [1172, 1644, 2617, 5130, 5532, 6341, 6650, 7238, 7685, 7782, 7903]. O abono de cada colaborador(a) não pode ser inferior a 200. Em código, transforme cada um dos salários em chaves de um dicionário e o abono de cada salário no elemento. Depois, informe o total de gastos com o abono, quantos(as) colaboradores(as) receberam o abono mínimo e qual o maior valor de abono fornecido."
   ]
  },
  {
   "cell_type": "code",
   "execution_count": null,
   "metadata": {},
   "outputs": [],
   "source": []
  },
  {
   "cell_type": "markdown",
   "metadata": {},
   "source": [
    "14) Uma equipe de cientistas de dados está estudando a diversidade biológica em uma floresta. A equipe fez a coleta de informações sobre o número de espécies de plantas e animais em cada área dessa floresta e armazenou essas informações em um dicionário. Nele, a chave descreve a área dos dados e os valores nas listas correspondem às espécies de plantas e animais nas áreas, respectivamente.\n",
    "\n",
    "{'Área Norte': [2819, 7236],\n",
    " 'Área Leste': [1440, 9492],\n",
    " 'Área Sul': [5969, 7496],\n",
    " 'Área Oeste': [14446, 49688],\n",
    " 'Área Centro': [22558, 45148]}\n",
    "\n",
    "Escreva um código para calcular a média de espécies por área e identificar a área com a maior diversidade biológica. Dica: use as funções built-in sum() e len()."
   ]
  },
  {
   "cell_type": "code",
   "execution_count": null,
   "metadata": {},
   "outputs": [],
   "source": []
  },
  {
   "cell_type": "markdown",
   "metadata": {},
   "source": [
    "15) O setor de RH da sua empresa te pediu uma ajuda para analisar as idades de colaboradores(as) de 4 setores da empresa. Para isso, foram fornecidos os seguintes dados:\n",
    "\n",
    "{'Setor A': [22, 26, 30, 30, 35, 38, 40, 56, 57, 65],\n",
    " 'Setor B': [22, 24, 26, 33, 41, 49, 50, 54, 60, 64],\n",
    " 'Setor C': [23, 26, 26, 29, 34, 35, 36, 41, 52, 56],\n",
    " 'Setor D': [19, 20, 25, 27, 34, 39, 42, 44, 50, 65]}\n",
    "\n",
    "\n",
    " Sabendo que cada setor tem 10 colaboradores(as), construa um código que calcule a média de idade de cada setor, a idade média geral entre todos os setores e quantas pessoas estão acima da idade média geral."
   ]
  },
  {
   "cell_type": "code",
   "execution_count": null,
   "metadata": {},
   "outputs": [],
   "source": []
  }
 ],
 "metadata": {
  "kernelspec": {
   "display_name": "Python 3",
   "language": "python",
   "name": "python3"
  },
  "language_info": {
   "codemirror_mode": {
    "name": "ipython",
    "version": 3
   },
   "file_extension": ".py",
   "mimetype": "text/x-python",
   "name": "python",
   "nbconvert_exporter": "python",
   "pygments_lexer": "ipython3",
   "version": "3.12.2"
  }
 },
 "nbformat": 4,
 "nbformat_minor": 2
}
