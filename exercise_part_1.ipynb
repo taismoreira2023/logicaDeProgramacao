{
 "cells": [
  {
   "cell_type": "markdown",
   "metadata": {},
   "source": [
    "1) Faça um programa que tenha a seguinte lista contendo os valores de gastos de uma empresa de papel [2172.54, 3701.35, 3518.09, 3456.61, 3249.38, 2840.82, 3891.45, 3075.26, 2317.64, 3219.08]. Com esses valores, faça um programa que calcule a média de gastos. Dica: use as funções built-in sum() e len()"
   ]
  },
  {
   "cell_type": "code",
   "execution_count": null,
   "metadata": {},
   "outputs": [
    {
     "data": {
      "text/plain": [
       "3144.222"
      ]
     },
     "execution_count": 3,
     "metadata": {},
     "output_type": "execute_result"
    }
   ],
   "source": [
    "expenses = [2172.54, 3701.35, 3518.09, 3456.61, 3249.38, 2840.82, 3891.45, 3075.26, 2317.64, 3219.08]\n",
    "\n",
    "average = sum(expenses) / len(expenses)\n",
    "\n",
    "average"
   ]
  },
  {
   "cell_type": "markdown",
   "metadata": {},
   "source": [
    "2) Com os mesmos dados da questão anterior, defina quantas compras foram realizadas acima de 3000 reais e calcule a porcentagem quanto ao total de compras."
   ]
  },
  {
   "cell_type": "code",
   "execution_count": null,
   "metadata": {},
   "outputs": [
    {
     "name": "stdout",
     "output_type": "stream",
     "text": [
      "Porcentagem:  76.68 %\n"
     ]
    }
   ],
   "source": [
    "above_three_thousand = 0\n",
    "for i in range(len(expenses)):\n",
    "    if expenses[i] > 3000:\n",
    "        above_three_thousand += expenses[i]\n",
    "\n",
    "percentage = (above_three_thousand / sum(expenses)) * 100\n",
    "\n",
    "print(f\"Percentage: {percentage:.2f}%\")\n"
   ]
  },
  {
   "cell_type": "markdown",
   "metadata": {},
   "source": [
    "3) Faça um código que colete em uma lista 5 números inteiros quaisquer e imprima a lista. Exemplo: [1,4,7,2,4]."
   ]
  },
  {
   "cell_type": "code",
   "execution_count": null,
   "metadata": {},
   "outputs": [
    {
     "data": {
      "text/plain": [
       "[3, 35, 75, 32, 49]"
      ]
     },
     "execution_count": 24,
     "metadata": {},
     "output_type": "execute_result"
    }
   ],
   "source": [
    "import random\n",
    "\n",
    "number_list = []\n",
    "\n",
    "for i in range(5):\n",
    "    random_num = random.randint(0, 100)\n",
    "    number_list.append(random_num)\n",
    "\n",
    "print(number_list)"
   ]
  },
  {
   "cell_type": "markdown",
   "metadata": {},
   "source": [
    "4) Colete novamente 5 inteiros e imprima a lista em ordem inversa à enviada."
   ]
  },
  {
   "cell_type": "code",
   "execution_count": null,
   "metadata": {},
   "outputs": [
    {
     "name": "stdout",
     "output_type": "stream",
     "text": [
      "83\n",
      "4\n",
      "42\n",
      "88\n",
      "[96, 88, 42, 4, 83]\n"
     ]
    }
   ],
   "source": [
    "reversed_lis = []\n",
    "\n",
    "for i in range(5):\n",
    "    random_num = random.randrange(0,100)\n",
    "    reversed_lis.append(random_num)\n",
    "\n",
    "for i in range(-1,-i-1,-1):\n",
    "    print(reversed_lis[i])\n",
    "\n",
    "print(reversed_lis)\n"
   ]
  },
  {
   "cell_type": "markdown",
   "metadata": {},
   "source": [
    "5) Faça um programa que, ao inserir um número qualquer, cria uma lista contendo todos os números primos entre 1 e o número digitado."
   ]
  },
  {
   "cell_type": "code",
   "execution_count": null,
   "metadata": {},
   "outputs": [
    {
     "name": "stdout",
     "output_type": "stream",
     "text": [
      "O 2 É PRIMO! ○( ＾皿＾)っ Hehehe…\n"
     ]
    }
   ],
   "source": [
    "number = 2\n",
    "primeCount = 0\n",
    "isPrime = True\n",
    "\n",
    "for i in range(number):\n",
    "    if (number % (i + 1) == 0):\n",
    "        primeCount += 1\n",
    "        if (primeCount > 2 or number == 1):\n",
    "            isPrime = not isPrime\n",
    "            break\n",
    "\n",
    "if isPrime:\n",
    "    print(f\"The number {number} IS PRIME! ○( ＾皿＾)っ Hehehe…\")\n",
    "else:\n",
    "    print(f\"The number {number} IS NOT PRIME! o(￣┰￣*)ゞ\")"
   ]
  },
  {
   "cell_type": "markdown",
   "metadata": {},
   "source": [
    "6) Escreva um programa que peça uma data informando o dia, mês e ano e determine se ela é válida para uma análise."
   ]
  },
  {
   "cell_type": "code",
   "execution_count": null,
   "metadata": {},
   "outputs": [
    {
     "name": "stdout",
     "output_type": "stream",
     "text": [
      "Valid Date\n",
      "È valida :)\n"
     ]
    }
   ],
   "source": [
    "date = '30 7 2023'\n",
    "day, month, year = map(int, date.split())\n",
    "\n",
    "is_valid = False\n",
    "\n",
    "if month in [1, 3, 5, 7, 8, 10, 12] and 1 <= day <= 31:\n",
    "    is_valid = True\n",
    "elif month in [4, 6, 9, 11] and 1 <= day <= 30:\n",
    "    is_valid = True\n",
    "elif month == 2:\n",
    "    if (year % 4 == 0 and year % 100 != 0) or (year % 400 == 0):\n",
    "        if 1 <= day <= 29:\n",
    "            is_valid = True\n",
    "    elif 1 <= day <= 28:\n",
    "        is_valid = True\n",
    "\n",
    "print(\"Valid Date\" if is_valid else \"Invalid Date\")\n",
    "\n",
    "\n",
    "if is_valid == True:\n",
    "  print(\"Valid Date :)\")\n",
    "else:\n",
    "    print(\"Invalid Date :(\")"
   ]
  },
  {
   "cell_type": "markdown",
   "metadata": {},
   "source": [
    "7) Para um estudo envolvendo o nível de multiplicação de bactérias em uma colônia, foi coletado o número de bactérias por dia (em milhares) e pode ser observado a seguir: [1.2, 2.1, 3.3, 5.0, 7.8, 11.3, 16.6, 25.1, 37.8, 56.9]. Tendo esses valores, faça um código que gere uma lista contendo o percentual de crescimento de bactérias por dia, comparando o número de bactérias em cada dia com o número de bactérias do dia anterior. Dica: para calcular o percentual de crescimento usamos a seguinte equação: 100 * (amostra_atual - amostra_passada) / (amostra_passada)."
   ]
  },
  {
   "cell_type": "code",
   "execution_count": null,
   "metadata": {},
   "outputs": [],
   "source": [
    "bacteria_counts = [1.2, 2.1, 3.3, 5.0, 7.8, 11.3, 16.6, 25.1, 37.8, 56.9]\n",
    "\n",
    "growth_percentage = []\n",
    "\n",
    "for i in range(1, len(bacteria_counts)):\n",
    "    growth = 100 * (bacteria_counts[i] - bacteria_counts[i - 1]) / bacteria_counts[i - 1]\n",
    "    growth_percentage.append(growth)\n",
    "    print(f\"Day {i} to Day {i + 1}: {growth:.2f}%\")\n"
   ]
  },
  {
   "cell_type": "markdown",
   "metadata": {},
   "source": [
    "8) Para uma seleção de produtos alimentícios, precisamos separar o conjunto de IDs dados por números inteiros sabendo que os produtos com ID par são doces e os com ID ímpar são amargos. Monte um código que colete 10 IDs. Depois, calcule e mostre a quantidade de produtos doces e amargos."
   ]
  },
  {
   "cell_type": "code",
   "execution_count": null,
   "metadata": {},
   "outputs": [],
   "source": [
    "sweet_ids = []\n",
    "bitter_ids = []\n",
    "\n",
    "for i in range(10):\n",
    "    random_id = random.randint(0, 100)\n",
    "    if random_id % 2 == 0:\n",
    "        sweet_ids.append(random_id)\n",
    "    else:\n",
    "        bitter_ids.append(random_id)\n",
    "\n",
    "print(f\"Sweet: {len(sweet_ids)} {sweet_ids}\")\n",
    "print(f\"Bitter: {len(bitter_ids)} {bitter_ids}\")\n"
   ]
  },
  {
   "cell_type": "markdown",
   "metadata": {},
   "source": [
    "9) Desenvolva um programa que informa a nota de um(a) aluno(a) de acordo com suas respostas. Ele deve pedir a resposta desse(a) aluno(a) para cada questão e é preciso verificar se a resposta foi igual ao gabarito. Cada questão vale um ponto e existem as alternativas A, B, C ou D.\n",
    "\n",
    "Gabarito da prova:\n",
    "01 - D\n",
    "02 - A\n",
    "03 - C\n",
    "04 - B\n",
    "05 - A\n",
    "06 - D\n",
    "07 - C\n",
    "08 - C\n",
    "09 - A\n",
    "10 - B"
   ]
  },
  {
   "cell_type": "code",
   "execution_count": null,
   "metadata": {},
   "outputs": [
    {
     "name": "stdout",
     "output_type": "stream",
     "text": [
      "PROVA DE MATEMÁTICA\n",
      "Please answer the following questions (A, B, C, or D):\n"
     ]
    }
   ],
   "source": [
    "print(\"PROVA DE MATEMÁTICA\")\n",
    "\n",
    "print(\"MATH TEST\")\n",
    "\n",
    "test = [\n",
    "    {\"question\": \"What is 2 + 2?\", \"options\": [\"a) 2\", \"b) 4\", \"c) 8\", \"d) 16\"], \"answer\": \"b\"},\n",
    "    {\"question\": \"What is 0 x 1000?\", \"options\": [\"a) 10000\", \"b) 0\", \"c) 100\", \"d) 3\"], \"answer\": \"b\"},\n",
    "    {\"question\": \"What is 2 + 1?\", \"options\": [\"a) 6\", \"b) 3\", \"c) 21\", \"d) none\"], \"answer\": \"b\"}\n",
    "]\n",
    "\n",
    "responses = []\n",
    "for item in test:\n",
    "    print(item[\"question\"])\n",
    "    for option in item[\"options\"]:\n",
    "        print(option)\n",
    "    response = input(\"Your answer: \").lower()\n",
    "    responses.append(response)\n",
    "\n",
    "score = 0\n",
    "for i in range(len(responses)):\n",
    "    if responses[i] == test[i][\"answer\"]:\n",
    "        print(\"Correct!\")\n",
    "        score += 1\n",
    "    else:\n",
    "        print(\"Wrong!\")\n",
    "\n",
    "print(f\"Your score: {score}/{len(test)}\")\n"
   ]
  },
  {
   "cell_type": "markdown",
   "metadata": {},
   "source": [
    "10) Um instituto de meteorologia deseja fazer um estudo de temperatura média de cada mês do ano. Para isso, você precisa fazer um código que colete e armazene essas temperaturas médias em uma lista. Depois, calcule a média anual das temperaturas e mostre todas as temperaturas acima da média anual e em que mês elas ocorreram, mostrando os meses por extenso (Janeiro, Fevereiro, etc.)."
   ]
  },
  {
   "cell_type": "code",
   "execution_count": 3,
   "metadata": {},
   "outputs": [
    {
     "name": "stdout",
     "output_type": "stream",
     "text": [
      "Annual Average: 28.50\n",
      "January: 30\n",
      "February: 32\n",
      "March: 35\n",
      "October: 29\n",
      "November: 31\n",
      "December: 33\n"
     ]
    }
   ],
   "source": [
    "months = [\"January\", \"February\", \"March\", \"April\", \"May\", \"June\", \"July\", \"August\", \"September\", \"October\", \"November\", \"December\"]\n",
    "temperatures = [30, 32, 35, 28, 25, 22, 24, 26, 27, 29, 31, 33]\n",
    "\n",
    "annual_average = sum(temperatures) / len(temperatures)\n",
    "\n",
    "print(f\"Annual Average: {annual_average:.2f}\")\n",
    "for i, temp in enumerate(temperatures):\n",
    "    if temp > annual_average:\n",
    "        print(f\"{months[i]}: {temp}\")\n"
   ]
  },
  {
   "cell_type": "markdown",
   "metadata": {},
   "source": [
    "11) Uma empresa de e-commerce está interessada em analisar as vendas dos seus produtos. Os dados das vendas foram armazenados em um dicionário:\n",
    "\n",
    "{'Produto A': 300, 'Produto B': 80, 'Produto C': 60,\n",
    " 'Produto D': 200, 'Produto E': 250, 'Produto F': 30}\n",
    "\n",
    " Escreva um código que calcule o total de vendas e o produto mais vendido."
   ]
  },
  {
   "cell_type": "code",
   "execution_count": 5,
   "metadata": {},
   "outputs": [
    {
     "name": "stdout",
     "output_type": "stream",
     "text": [
      "Total Sales: 920\n",
      "Best-Selling Product: Product A with 300 units\n"
     ]
    }
   ],
   "source": [
    "sales = {'Product A': 300, 'Product B': 80, 'Product C': 60, 'Product D': 200, 'Product E': 250, 'Product F': 30}\n",
    "\n",
    "total_sales = sum(sales.values())\n",
    "best_seller = max(sales, key=sales.get)\n",
    "\n",
    "print(f\"Total Sales: {total_sales}\")\n",
    "print(f\"Best-Selling Product: {best_seller} with {sales[best_seller]} units\")\n"
   ]
  },
  {
   "cell_type": "markdown",
   "metadata": {},
   "source": [
    "12) Uma pesquisa de mercado foi feita para decidir qual design de marca infantil mais agrada as crianças. A pesquisa foi feita e o votos computados podem ser observados abaixo:\n",
    "\n",
    "'''\n",
    "Tabela de votos da marca\n",
    "Design 1 - 1334 votos\n",
    "Design 2 - 982 votos\n",
    "Design 3 - 1751 votos\n",
    "Design 4 - 210 votos\n",
    "Design 5 - 1811 votos\n",
    "'''\n",
    "\n",
    "Adapte os dados fornecidos para uma estrutura de dicionário. A partir dele, informe o design vencedor e a porcentagem de votos recebidos."
   ]
  },
  {
   "cell_type": "code",
   "execution_count": null,
   "metadata": {},
   "outputs": [],
   "source": []
  },
  {
   "cell_type": "markdown",
   "metadata": {},
   "source": [
    "13) As pessoas colaboradoras de um setor da empresa que você trabalha vão receber um abono correspondente a 10% do salário devido ao ótimo desempenho do time. O setor financeiro solicitou sua ajuda para a verificação das consequências financeiras que esse abono irá gerar nos recursos. Assim, foi encaminhada para você uma lista com os salários que receberão o abono: [1172, 1644, 2617, 5130, 5532, 6341, 6650, 7238, 7685, 7782, 7903]. O abono de cada colaborador(a) não pode ser inferior a 200. Em código, transforme cada um dos salários em chaves de um dicionário e o abono de cada salário no elemento. Depois, informe o total de gastos com o abono, quantos(as) colaboradores(as) receberam o abono mínimo e qual o maior valor de abono fornecido."
   ]
  },
  {
   "cell_type": "code",
   "execution_count": null,
   "metadata": {},
   "outputs": [],
   "source": []
  },
  {
   "cell_type": "markdown",
   "metadata": {},
   "source": [
    "14) Uma equipe de cientistas de dados está estudando a diversidade biológica em uma floresta. A equipe fez a coleta de informações sobre o número de espécies de plantas e animais em cada área dessa floresta e armazenou essas informações em um dicionário. Nele, a chave descreve a área dos dados e os valores nas listas correspondem às espécies de plantas e animais nas áreas, respectivamente.\n",
    "\n",
    "{'Área Norte': [2819, 7236],\n",
    " 'Área Leste': [1440, 9492],\n",
    " 'Área Sul': [5969, 7496],\n",
    " 'Área Oeste': [14446, 49688],\n",
    " 'Área Centro': [22558, 45148]}\n",
    "\n",
    "Escreva um código para calcular a média de espécies por área e identificar a área com a maior diversidade biológica. Dica: use as funções built-in sum() e len()."
   ]
  },
  {
   "cell_type": "code",
   "execution_count": null,
   "metadata": {},
   "outputs": [],
   "source": []
  },
  {
   "cell_type": "markdown",
   "metadata": {},
   "source": [
    "15) O setor de RH da sua empresa te pediu uma ajuda para analisar as idades de colaboradores(as) de 4 setores da empresa. Para isso, foram fornecidos os seguintes dados:\n",
    "\n",
    "{'Setor A': [22, 26, 30, 30, 35, 38, 40, 56, 57, 65],\n",
    " 'Setor B': [22, 24, 26, 33, 41, 49, 50, 54, 60, 64],\n",
    " 'Setor C': [23, 26, 26, 29, 34, 35, 36, 41, 52, 56],\n",
    " 'Setor D': [19, 20, 25, 27, 34, 39, 42, 44, 50, 65]}\n",
    "\n",
    "\n",
    " Sabendo que cada setor tem 10 colaboradores(as), construa um código que calcule a média de idade de cada setor, a idade média geral entre todos os setores e quantas pessoas estão acima da idade média geral."
   ]
  },
  {
   "cell_type": "code",
   "execution_count": null,
   "metadata": {},
   "outputs": [],
   "source": []
  }
 ],
 "metadata": {
  "kernelspec": {
   "display_name": "Python 3",
   "language": "python",
   "name": "python3"
  },
  "language_info": {
   "codemirror_mode": {
    "name": "ipython",
    "version": 3
   },
   "file_extension": ".py",
   "mimetype": "text/x-python",
   "name": "python",
   "nbconvert_exporter": "python",
   "pygments_lexer": "ipython3",
   "version": "3.12.2"
  }
 },
 "nbformat": 4,
 "nbformat_minor": 2
}
