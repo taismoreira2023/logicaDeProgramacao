{
  "nbformat": 4,
  "nbformat_minor": 0,
  "metadata": {
    "colab": {
      "provenance": []
    },
    "kernelspec": {
      "name": "python3",
      "display_name": "Python 3"
    },
    "language_info": {
      "name": "python"
    }
  },
  "cells": [
    {
      "cell_type": "markdown",
      "source": [
        "1. Escreva um código para instalar a versão 3.7.1 da biblioteca matplotlib.\n",
        "\n"
      ],
      "metadata": {
        "id": "uJG4nf-0Urkn"
      }
    },
    {
      "cell_type": "code",
      "execution_count": null,
      "metadata": {
        "colab": {
          "base_uri": "https://localhost:8080/"
        },
        "id": "rTlmG61NUlc-",
        "outputId": "ad287d34-84be-4563-a798-2d28fc2c1c8e"
      },
      "outputs": [
        {
          "output_type": "stream",
          "name": "stdout",
          "text": [
            "Requirement already satisfied: matplotlib==3.7.1 in /usr/local/lib/python3.10/dist-packages (3.7.1)\n",
            "Requirement already satisfied: contourpy>=1.0.1 in /usr/local/lib/python3.10/dist-packages (from matplotlib==3.7.1) (1.3.1)\n",
            "Requirement already satisfied: cycler>=0.10 in /usr/local/lib/python3.10/dist-packages (from matplotlib==3.7.1) (0.12.1)\n",
            "Requirement already satisfied: fonttools>=4.22.0 in /usr/local/lib/python3.10/dist-packages (from matplotlib==3.7.1) (4.55.1)\n",
            "Requirement already satisfied: kiwisolver>=1.0.1 in /usr/local/lib/python3.10/dist-packages (from matplotlib==3.7.1) (1.4.7)\n",
            "Requirement already satisfied: numpy>=1.20 in /usr/local/lib/python3.10/dist-packages (from matplotlib==3.7.1) (1.26.4)\n",
            "Requirement already satisfied: packaging>=20.0 in /usr/local/lib/python3.10/dist-packages (from matplotlib==3.7.1) (24.2)\n",
            "Requirement already satisfied: pillow>=6.2.0 in /usr/local/lib/python3.10/dist-packages (from matplotlib==3.7.1) (11.0.0)\n",
            "Requirement already satisfied: pyparsing>=2.3.1 in /usr/local/lib/python3.10/dist-packages (from matplotlib==3.7.1) (3.2.0)\n",
            "Requirement already satisfied: python-dateutil>=2.7 in /usr/local/lib/python3.10/dist-packages (from matplotlib==3.7.1) (2.8.2)\n",
            "Requirement already satisfied: six>=1.5 in /usr/local/lib/python3.10/dist-packages (from python-dateutil>=2.7->matplotlib==3.7.1) (1.16.0)\n"
          ]
        }
      ],
      "source": [
        "!pip install matplotlib==3.7.1"
      ]
    },
    {
      "cell_type": "markdown",
      "source": [
        "2. Escreva um código para importar a biblioteca numpy com o alias np.\n",
        "\n"
      ],
      "metadata": {
        "id": "OriyaIJYUvQD"
      }
    },
    {
      "cell_type": "code",
      "source": [
        "import numpy as np\n",
        "import matplotlib as mpt"
      ],
      "metadata": {
        "id": "_EsJ8-mdUwy6"
      },
      "execution_count": null,
      "outputs": []
    },
    {
      "cell_type": "markdown",
      "source": [
        "3. Crie um programa que leia a seguinte lista de números e escolha um número desta aleatoriamente."
      ],
      "metadata": {
        "id": "4my3rUxaUxq3"
      }
    },
    {
      "cell_type": "code",
      "source": [
        "from random import choice, randrange\n",
        "\n",
        "lista = [8, 12, 54, 23, 43, 1, 90, 87, 105, 77]\n",
        "\n",
        "number = choice(lista)\n",
        "number"
      ],
      "metadata": {
        "colab": {
          "base_uri": "https://localhost:8080/"
        },
        "id": "gWkZv4BtUy4p",
        "outputId": "d73f4785-7cbc-4f0c-fd84-d05ed0195aa9"
      },
      "execution_count": null,
      "outputs": [
        {
          "output_type": "execute_result",
          "data": {
            "text/plain": [
              "54"
            ]
          },
          "metadata": {},
          "execution_count": 3
        }
      ]
    },
    {
      "cell_type": "markdown",
      "source": [
        "Crie um programa que sorteia, aleatoriamente, um número inteiro positivo menor que 100.\n",
        "\n",
        "Dica: use a função randrange() da biblioteca random. Essa função recebe como parâmetro o valor limite para a escolha aleatória ou um intervalo se passado o limite mínimo e máximo. Por exemplo, randrange(5) gera valores inteiros menores que 5"
      ],
      "metadata": {
        "id": "Akvq6LtpU4b6"
      }
    },
    {
      "cell_type": "code",
      "source": [
        "help(randrange)\n"
      ],
      "metadata": {
        "colab": {
          "base_uri": "https://localhost:8080/"
        },
        "id": "VwFTantbU8dt",
        "outputId": "cf5ab840-c230-4c35-cd1b-8f45e899ce12"
      },
      "execution_count": null,
      "outputs": [
        {
          "output_type": "stream",
          "name": "stdout",
          "text": [
            "Help on method randrange in module random:\n",
            "\n",
            "randrange(start, stop=None, step=1) method of random.Random instance\n",
            "    Choose a random item from range(start, stop[, step]).\n",
            "    \n",
            "    This fixes the problem with randint() which includes the\n",
            "    endpoint; in Python this is usually not what you want.\n",
            "\n"
          ]
        }
      ]
    },
    {
      "cell_type": "code",
      "source": [
        "numberAleatorio = randrange(0,101)\n",
        "numberAleatorio"
      ],
      "metadata": {
        "id": "3fUTGYWMY7MZ",
        "outputId": "7ef0c5df-499f-4289-9058-1cbcfd849172",
        "colab": {
          "base_uri": "https://localhost:8080/"
        }
      },
      "execution_count": null,
      "outputs": [
        {
          "output_type": "execute_result",
          "data": {
            "text/plain": [
              "28"
            ]
          },
          "metadata": {},
          "execution_count": 5
        }
      ]
    },
    {
      "cell_type": "markdown",
      "source": [
        "Crie um programa que solicite à pessoa usuária digitar dois números inteiros e calcular a potência do 1º número elevado ao 2º.\n",
        "\n",
        "Dica: use a função pow() da biblioteca math"
      ],
      "metadata": {
        "id": "bnVGG99kVBav"
      }
    },
    {
      "cell_type": "code",
      "source": [
        "help(pow)"
      ],
      "metadata": {
        "id": "HfHkJf1uVEEo",
        "colab": {
          "base_uri": "https://localhost:8080/"
        },
        "outputId": "ff2447a6-2913-4201-9a43-315405494cc4"
      },
      "execution_count": null,
      "outputs": [
        {
          "output_type": "stream",
          "name": "stdout",
          "text": [
            "Help on built-in function pow in module builtins:\n",
            "\n",
            "pow(base, exp, mod=None)\n",
            "    Equivalent to base**exp with 2 arguments or base**exp % mod with 3 arguments\n",
            "    \n",
            "    Some types, such as ints, are able to use a more efficient algorithm when\n",
            "    invoked using the three argument form.\n",
            "\n"
          ]
        }
      ]
    },
    {
      "cell_type": "code",
      "source": [
        "scan = input(\"informe os numeros: \")\n",
        "firstNumber, secondNumber = scan.split(\" \")\n",
        "\n",
        "pow(int(firstNumber), int(secondNumber))\n"
      ],
      "metadata": {
        "colab": {
          "base_uri": "https://localhost:8080/"
        },
        "id": "Qt9EdVCK_cic",
        "outputId": "e4d07c06-429c-46ef-c371-251d866d6fd9"
      },
      "execution_count": null,
      "outputs": [
        {
          "name": "stdout",
          "output_type": "stream",
          "text": [
            "informe os numeros: 10 2\n"
          ]
        },
        {
          "output_type": "execute_result",
          "data": {
            "text/plain": [
              "100"
            ]
          },
          "metadata": {},
          "execution_count": 7
        }
      ]
    },
    {
      "cell_type": "markdown",
      "source": [
        "6. Um programa deve ser escrito para sortear uma pessoa seguidora de uma rede social para ganhar um prêmio. A lista de participantes é numerada e devemos escolher aleatoriamente um número de acordo com a quantidade de participantes. Peça à pessoa usuária para fornecer o número de participantes do sorteio e devolva para ela o número sorteado.\n",
        "\n"
      ],
      "metadata": {
        "id": "MCZZxVCaVJ6U"
      }
    },
    {
      "cell_type": "code",
      "source": [
        "\n",
        "qtn_participantes = int(input(\"informe o numero de participantes do sorteio: \"))\n",
        "\n",
        "sorteado = randrange(1, qtn_participantes)\n",
        "print(f\"A pessoa sorteada foi... a número {sorteado}\")\n"
      ],
      "metadata": {
        "id": "z59HB8xnVPfu",
        "colab": {
          "base_uri": "https://localhost:8080/"
        },
        "outputId": "8c42184e-6552-46a4-e3eb-9551639ce7ac"
      },
      "execution_count": null,
      "outputs": [
        {
          "output_type": "stream",
          "name": "stdout",
          "text": [
            "informe o numero de participantes do sorteio: 25\n",
            "A pessoa sorteada foi... a número 3\n"
          ]
        }
      ]
    },
    {
      "cell_type": "markdown",
      "source": [
        "7. Você recebeu uma demanda para gerar números de token para acessar o aplicativo de uma empresa. O token precisa ser par e variar de 1000 até 9998. Escreva um código que solicita à pessoa usuária o seu nome e exibe uma mensagem junto a esse token gerado aleatoriamente.\n",
        "\n",
        "\"Olá, [nome], o seu token de acesso é [token]! Seja bem-vindo(a)!\"\n",
        "\n"
      ],
      "metadata": {
        "id": "mtjLLGL-VP-e"
      }
    },
    {
      "cell_type": "code",
      "source": [
        "usuario = input(\"informe seu username: \")\n",
        "\n",
        "for i in range(20):\n",
        "  cal_token = 2 * randrange(500,4999)\n",
        "\n",
        "print(f\"Olá, {usuario}, o seu token de acesso é {cal_token}! Seja bem-vindo(a)!\")\n",
        "\n"
      ],
      "metadata": {
        "id": "0V8gGoHNVRis",
        "colab": {
          "base_uri": "https://localhost:8080/"
        },
        "outputId": "fc69d1fd-7c91-40c4-c519-df333895ec1d"
      },
      "execution_count": null,
      "outputs": [
        {
          "output_type": "stream",
          "name": "stdout",
          "text": [
            "informe seu username: Taís\n",
            "Olá, Taís, o seu token de acesso é 7236! Seja bem-vindo(a)!\n"
          ]
        }
      ]
    },
    {
      "cell_type": "markdown",
      "source": [
        "8. Para diversificar e atrair novos(as) clientes, uma lanchonete criou um item misterioso em seu cardápio chamado \"salada de frutas surpresa\". Neste item, são escolhidas aleatoriamente 3 frutas de uma lista de 12 para compor a salada de frutas da pessoa cliente. Crie o código que faça essa seleção aleatória de acordo com a lista abaixo:\n",
        "\n"
      ],
      "metadata": {
        "id": "Q-Cg8CAmVSSk"
      }
    },
    {
      "cell_type": "code",
      "source": [
        "frutas = [\"maçã\", \"banana\", \"uva\", \"pêra\",\n",
        "          \"manga\", \"coco\", \"melancia\", \"mamão\",\n",
        "          \"laranja\", \"abacaxi\", \"kiwi\", \"ameixa\"]\n",
        "frutasSorteadas = []\n",
        "for i in range(3):\n",
        "  frutasSorteadas.append(choice(frutas))\n",
        "\n",
        "print(f\"Mix de frutas {frutasSorteadas} saindo!\")"
      ],
      "metadata": {
        "id": "ep37ggOrVXP6",
        "colab": {
          "base_uri": "https://localhost:8080/"
        },
        "outputId": "dd87b618-b72c-4769-ad8b-7a23f87c6910"
      },
      "execution_count": null,
      "outputs": [
        {
          "output_type": "stream",
          "name": "stdout",
          "text": [
            "Mix de frutas ['kiwi', 'laranja', 'maçã'] saindo!\n"
          ]
        }
      ]
    },
    {
      "cell_type": "markdown",
      "source": [
        "Você recebeu um desafio de calcular a raiz quadrada de uma lista de números, identificando quais resultaram em um número inteiro. A lista é a seguinte:\n",
        "\n",
        "No final, informe quais números possuem raízes inteiras e seus respectivos valores.\n",
        "\n",
        "Dica: use a comparação entre a divisão inteira (//) da raiz por 1 com o valor da raiz para verificar se o número é inteiro. Por exemplo:\n",
        "\n",
        "Entrada:\n",
        "\n",
        "num = 1.5\n",
        "\n",
        "num_2 = 2\n",
        "\n",
        "print(f'{num} é inteiro? :', num // 1 == num)\n",
        "\n",
        "print(f'{num_2} é inteiro? :', num_2 // 1 == num_2)\n",
        "\n",
        "Saída:\n",
        "\n",
        "1.5 é inteiro? : False\n",
        "\n",
        "2 é inteiro? : True"
      ],
      "metadata": {
        "id": "PQYUDkOpVYQX"
      }
    },
    {
      "cell_type": "code",
      "source": [
        "numeros = [2, 8, 15, 23, 91, 112, 256]\n",
        "\n",
        "for i in range(len(numeros)):\n",
        "  raiz = round(np.sqrt(numeros[i]),1)\n",
        "  print(f'{raiz} é inteiro? :', raiz // 1 == raiz)\n"
      ],
      "metadata": {
        "id": "5Eo0jC3KVeNS",
        "colab": {
          "base_uri": "https://localhost:8080/"
        },
        "outputId": "8d3791a2-00dc-47f8-b81a-deed63286b00"
      },
      "execution_count": null,
      "outputs": [
        {
          "output_type": "stream",
          "name": "stdout",
          "text": [
            "1.4 é inteiro? : False\n",
            "2.8 é inteiro? : False\n",
            "3.9 é inteiro? : False\n",
            "4.8 é inteiro? : False\n",
            "9.5 é inteiro? : False\n",
            "10.6 é inteiro? : False\n",
            "16.0 é inteiro? : True\n"
          ]
        }
      ]
    },
    {
      "cell_type": "markdown",
      "source": [
        "10. Faça um programa para uma loja que vende grama para jardins. Essa loja trabalha com jardins circulares e o preço do metro quadrado da grama é de R$ 25,00. Peça à pessoa usuária o raio da área circular e devolva o valor em reais do quanto precisará pagar.\n",
        "\n",
        "Dica: use a variável pi e o método pow() da biblioteca math. O cálculo da área de um círculo é de: A = π*r^2 (lê-se pi vezes raio ao quadrado)."
      ],
      "metadata": {
        "id": "scDtNUVfV3fV"
      }
    },
    {
      "cell_type": "code",
      "source": [],
      "metadata": {
        "id": "aYkSheJOV5PB"
      },
      "execution_count": null,
      "outputs": []
    }
  ]
}