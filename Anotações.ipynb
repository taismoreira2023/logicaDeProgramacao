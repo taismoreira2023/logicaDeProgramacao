{
  "nbformat": 4,
  "nbformat_minor": 0,
  "metadata": {
    "colab": {
      "provenance": []
    },
    "kernelspec": {
      "name": "python3",
      "display_name": "Python 3"
    },
    "language_info": {
      "name": "python"
    }
  },
  "cells": [
    {
      "cell_type": "markdown",
      "source": [
        "Intalação das blibliotecas:\n",
        "\n",
        "*   Pip: gerenciador de bibliotecas e pacotes no python\n",
        "*   Matplotlib: biblioteca para visualização de dados\n",
        "\n"
      ],
      "metadata": {
        "id": "wQdIhNzOJrQx"
      }
    },
    {
      "cell_type": "code",
      "source": [
        "!pip install matplotlib"
      ],
      "metadata": {
        "colab": {
          "base_uri": "https://localhost:8080/"
        },
        "id": "iEbnDZbZJqhG",
        "outputId": "be4b1dc5-68a5-4b55-924f-ce3eaf21c698"
      },
      "execution_count": null,
      "outputs": [
        {
          "output_type": "stream",
          "name": "stdout",
          "text": [
            "Requirement already satisfied: matplotlib in /usr/local/lib/python3.10/dist-packages (3.8.0)\n",
            "Requirement already satisfied: contourpy>=1.0.1 in /usr/local/lib/python3.10/dist-packages (from matplotlib) (1.3.1)\n",
            "Requirement already satisfied: cycler>=0.10 in /usr/local/lib/python3.10/dist-packages (from matplotlib) (0.12.1)\n",
            "Requirement already satisfied: fonttools>=4.22.0 in /usr/local/lib/python3.10/dist-packages (from matplotlib) (4.55.1)\n",
            "Requirement already satisfied: kiwisolver>=1.0.1 in /usr/local/lib/python3.10/dist-packages (from matplotlib) (1.4.7)\n",
            "Requirement already satisfied: numpy<2,>=1.21 in /usr/local/lib/python3.10/dist-packages (from matplotlib) (1.26.4)\n",
            "Requirement already satisfied: packaging>=20.0 in /usr/local/lib/python3.10/dist-packages (from matplotlib) (24.2)\n",
            "Requirement already satisfied: pillow>=6.2.0 in /usr/local/lib/python3.10/dist-packages (from matplotlib) (11.0.0)\n",
            "Requirement already satisfied: pyparsing>=2.3.1 in /usr/local/lib/python3.10/dist-packages (from matplotlib) (3.2.0)\n",
            "Requirement already satisfied: python-dateutil>=2.7 in /usr/local/lib/python3.10/dist-packages (from matplotlib) (2.8.2)\n",
            "Requirement already satisfied: six>=1.5 in /usr/local/lib/python3.10/dist-packages (from python-dateutil>=2.7->matplotlib) (1.16.0)\n"
          ]
        }
      ]
    },
    {
      "cell_type": "markdown",
      "source": [
        "Porque usar uma versão específica de uma biblioteca?\n",
        "\n",
        "*   Usar versões específicas garante compatibilidade, estabilidade, acesso a recursos necessários e evita problemas com mudanças ou quebras em atualizações.\n",
        "\n",
        "ps: Se preciso reinicie a sessão\n",
        "\n"
      ],
      "metadata": {
        "id": "OP83hU1WKpqv"
      }
    },
    {
      "cell_type": "code",
      "execution_count": null,
      "metadata": {
        "colab": {
          "base_uri": "https://localhost:8080/"
        },
        "id": "s-1dA2ANJVNT",
        "outputId": "c993754b-9199-469f-9358-8d6f05bc46ff"
      },
      "outputs": [
        {
          "output_type": "stream",
          "name": "stdout",
          "text": [
            "Requirement already satisfied: matplotlib==3.6.2 in /usr/local/lib/python3.10/dist-packages (3.6.2)\n",
            "Requirement already satisfied: contourpy>=1.0.1 in /usr/local/lib/python3.10/dist-packages (from matplotlib==3.6.2) (1.3.1)\n",
            "Requirement already satisfied: cycler>=0.10 in /usr/local/lib/python3.10/dist-packages (from matplotlib==3.6.2) (0.12.1)\n",
            "Requirement already satisfied: fonttools>=4.22.0 in /usr/local/lib/python3.10/dist-packages (from matplotlib==3.6.2) (4.55.1)\n",
            "Requirement already satisfied: kiwisolver>=1.0.1 in /usr/local/lib/python3.10/dist-packages (from matplotlib==3.6.2) (1.4.7)\n",
            "Requirement already satisfied: numpy>=1.19 in /usr/local/lib/python3.10/dist-packages (from matplotlib==3.6.2) (1.26.4)\n",
            "Requirement already satisfied: packaging>=20.0 in /usr/local/lib/python3.10/dist-packages (from matplotlib==3.6.2) (24.2)\n",
            "Requirement already satisfied: pillow>=6.2.0 in /usr/local/lib/python3.10/dist-packages (from matplotlib==3.6.2) (11.0.0)\n",
            "Requirement already satisfied: pyparsing>=2.2.1 in /usr/local/lib/python3.10/dist-packages (from matplotlib==3.6.2) (3.2.0)\n",
            "Requirement already satisfied: python-dateutil>=2.7 in /usr/local/lib/python3.10/dist-packages (from matplotlib==3.6.2) (2.8.2)\n",
            "Requirement already satisfied: six>=1.5 in /usr/local/lib/python3.10/dist-packages (from python-dateutil>=2.7->matplotlib==3.6.2) (1.16.0)\n"
          ]
        }
      ],
      "source": [
        "!pip install matplotlib==3.6.2"
      ]
    },
    {
      "cell_type": "markdown",
      "source": [
        "Importar as Bibliotecas sem alias\n",
        "\n",
        "\n",
        "*   é como dar um apelido pra biblioteca\n",
        "\n"
      ],
      "metadata": {
        "id": "gIel-P6GLwoN"
      }
    },
    {
      "cell_type": "code",
      "source": [
        "import matplotlib"
      ],
      "metadata": {
        "id": "rbkB3UVWMBZL"
      },
      "execution_count": null,
      "outputs": []
    },
    {
      "cell_type": "markdown",
      "source": [
        "ver a versão da biblioteca"
      ],
      "metadata": {
        "id": "5vFhSU3tMRY_"
      }
    },
    {
      "cell_type": "code",
      "source": [
        "matplotlib.__version__"
      ],
      "metadata": {
        "colab": {
          "base_uri": "https://localhost:8080/",
          "height": 36
        },
        "id": "Hi8wyGD2MU3R",
        "outputId": "01d81b1b-363c-40d3-87a7-521280075b5e"
      },
      "execution_count": null,
      "outputs": [
        {
          "output_type": "execute_result",
          "data": {
            "text/plain": [
              "'3.6.2'"
            ],
            "application/vnd.google.colaboratory.intrinsic+json": {
              "type": "string"
            }
          },
          "metadata": {},
          "execution_count": 3
        }
      ]
    },
    {
      "cell_type": "markdown",
      "source": [
        "Importar as Bibliotecas com alias"
      ],
      "metadata": {
        "id": "G4c_2KKAMlL6"
      }
    },
    {
      "cell_type": "code",
      "source": [
        "import matplotlib.pyplot as plt"
      ],
      "metadata": {
        "id": "Xb0qWL2NMqV3"
      },
      "execution_count": null,
      "outputs": []
    },
    {
      "cell_type": "markdown",
      "source": [
        "**Pip** é a ferramenta usada para instalar pacotes Python.  \n",
        "**PyPI** (Python Package Index) é o repositório onde os pacotes estão hospedados.  \n",
        "\n",
        "Resumindo: **pip baixa pacotes do PyPI**.\n"
      ],
      "metadata": {
        "id": "oAiBg4xuM2Lb"
      }
    },
    {
      "cell_type": "code",
      "source": [
        "estudantes = [\"João\",\"Maria\",\"José\", \"Ana\"]\n",
        "notas = [10, 5.5, 7.2, 0.5]"
      ],
      "metadata": {
        "id": "vdP2rLTzMytX"
      },
      "execution_count": null,
      "outputs": []
    },
    {
      "cell_type": "code",
      "source": [
        "plt.bar(x = estudantes, height = notas)"
      ],
      "metadata": {
        "colab": {
          "base_uri": "https://localhost:8080/",
          "height": 447
        },
        "id": "BaEA6NDzPD2D",
        "outputId": "f01804e4-5513-47fa-8fa3-507b4c3fbc81"
      },
      "execution_count": null,
      "outputs": [
        {
          "output_type": "execute_result",
          "data": {
            "text/plain": [
              "<BarContainer object of 4 artists>"
            ]
          },
          "metadata": {},
          "execution_count": 6
        },
        {
          "output_type": "display_data",
          "data": {
            "text/plain": [
              "<Figure size 640x480 with 1 Axes>"
            ],
            "image/png": "[encoded data removed]"
          },
          "metadata": {}
        }
      ]
    },
    {
      "cell_type": "markdown",
      "source": [
        "Importa uma função específica de uma biblioteca"
      ],
      "metadata": {
        "id": "EieGULckQAyr"
      }
    },
    {
      "cell_type": "code",
      "source": [
        "from random import choice"
      ],
      "metadata": {
        "id": "C5qJNZeiPgw5"
      },
      "execution_count": null,
      "outputs": []
    },
    {
      "cell_type": "markdown",
      "source": [
        "help: retorna uma descrição sobre uma varialvel, método ou classe"
      ],
      "metadata": {
        "id": "Mut-wW0QR0AG"
      }
    },
    {
      "cell_type": "code",
      "source": [
        "help(choice)"
      ],
      "metadata": {
        "colab": {
          "base_uri": "https://localhost:8080/"
        },
        "id": "ohtqoK4eP85L",
        "outputId": "e7d2fdd5-9178-4900-f127-bf230291868a"
      },
      "execution_count": null,
      "outputs": [
        {
          "output_type": "stream",
          "name": "stdout",
          "text": [
            "Help on method choice in module random:\n",
            "\n",
            "choice(seq) method of random.Random instance\n",
            "    Choose a random element from a non-empty sequence.\n",
            "\n"
          ]
        }
      ]
    },
    {
      "cell_type": "markdown",
      "source": [
        "Choice recebe uma sequencia de dados, que vai escolher aleatóriamente"
      ],
      "metadata": {
        "id": "htSLSr1eST6X"
      }
    },
    {
      "cell_type": "code",
      "source": [
        "estudant = choice(estudantes)\n",
        "estudant"
      ],
      "metadata": {
        "colab": {
          "base_uri": "https://localhost:8080/",
          "height": 36
        },
        "id": "PBr62R0dQQxv",
        "outputId": "66dbfa34-dbc6-4f7b-e16e-95b15eaad260"
      },
      "execution_count": null,
      "outputs": [
        {
          "output_type": "execute_result",
          "data": {
            "text/plain": [
              "'Ana'"
            ],
            "application/vnd.google.colaboratory.intrinsic+json": {
              "type": "string"
            }
          },
          "metadata": {},
          "execution_count": 9
        }
      ]
    },
    {
      "cell_type": "markdown",
      "source": [
        "Funções\n",
        "built function são funções ja integradas no python, que não necessita importar para usalar e são muito eficientes"
      ],
      "metadata": {
        "id": "ShWFJnDtSyfK"
      }
    },
    {
      "cell_type": "code",
      "source": [
        "notas ={\"1º trimestre\": 8.5,\"2º trimestre\":9.5,\"3º trimestre\": 7}\n",
        "notas\n"
      ],
      "metadata": {
        "id": "jDHZurihQjXr",
        "colab": {
          "base_uri": "https://localhost:8080/"
        },
        "outputId": "0de9a9a6-ae01-47f4-a7a3-4855db9a6e78"
      },
      "execution_count": null,
      "outputs": [
        {
          "output_type": "execute_result",
          "data": {
            "text/plain": [
              "{'1º trimestre': 8.5, '2º trimestre': 9.5, '3º trimestre': 7}"
            ]
          },
          "metadata": {},
          "execution_count": 10
        }
      ]
    },
    {
      "cell_type": "markdown",
      "source": [
        "1º forma de se fazer uma soma dos valores um dicionrario ou lista."
      ],
      "metadata": {
        "id": "zjWIfA7dgov2"
      }
    },
    {
      "cell_type": "code",
      "source": [
        "soma = 0\n",
        "for nota in notas.values():\n",
        "  soma += nota\n",
        "\n",
        "soma"
      ],
      "metadata": {
        "colab": {
          "base_uri": "https://localhost:8080/"
        },
        "id": "X4P2M77fcxyt",
        "outputId": "577a7e2e-6ee5-409e-ce1f-9dbfd608fff8"
      },
      "execution_count": null,
      "outputs": [
        {
          "output_type": "execute_result",
          "data": {
            "text/plain": [
              "25.0"
            ]
          },
          "metadata": {},
          "execution_count": 11
        }
      ]
    },
    {
      "cell_type": "markdown",
      "source": [
        "usando a função sum(), essa soma pode se tornar menos complexa"
      ],
      "metadata": {
        "id": "3R4TUeCMg8AM"
      }
    },
    {
      "cell_type": "code",
      "source": [
        "somatorio = sum(notas.values())\n",
        "somatorio\n"
      ],
      "metadata": {
        "colab": {
          "base_uri": "https://localhost:8080/"
        },
        "id": "Ys_dqp8ndQP0",
        "outputId": "251f63f7-5bcc-459c-e0cb-25fc2aae87f7"
      },
      "execution_count": null,
      "outputs": [
        {
          "output_type": "execute_result",
          "data": {
            "text/plain": [
              "dict_values([8.5, 9.5, 7])"
            ]
          },
          "metadata": {},
          "execution_count": 21
        }
      ]
    },
    {
      "cell_type": "markdown",
      "source": [
        "A função values() em dicionários retorna uma visualização dos valores armazenados no dicionário.\n",
        "\n",
        "Exemplo:\n",
        "d = {'a': 1, 'b': 2, 'c': 3}\n",
        "\n",
        "print(d.values())  # dict_values([1, 2, 3])"
      ],
      "metadata": {
        "id": "tyUw6cREhGNc"
      }
    },
    {
      "cell_type": "code",
      "source": [
        "qtd_notas = len(notas)\n",
        "qtd_notas"
      ],
      "metadata": {
        "colab": {
          "base_uri": "https://localhost:8080/"
        },
        "id": "JjO6j5CVdzAE",
        "outputId": "f7668593-b28b-4135-811b-b9ce78cab518"
      },
      "execution_count": null,
      "outputs": [
        {
          "output_type": "execute_result",
          "data": {
            "text/plain": [
              "3"
            ]
          },
          "metadata": {},
          "execution_count": 15
        }
      ]
    },
    {
      "cell_type": "markdown",
      "source": [
        "A função len() retorna o número de itens em um objeto, como listas, strings, dicionários, etc."
      ],
      "metadata": {
        "id": "3q_BATEciSxT"
      }
    },
    {
      "cell_type": "code",
      "source": [
        "media = somatorio / qtd_notas\n",
        "media"
      ],
      "metadata": {
        "colab": {
          "base_uri": "https://localhost:8080/"
        },
        "id": "nUvZSy-1egXO",
        "outputId": "36f8ac9e-e019-4ab3-eb77-3eca7e74a3fd"
      },
      "execution_count": null,
      "outputs": [
        {
          "output_type": "execute_result",
          "data": {
            "text/plain": [
              "8.333333333333334"
            ]
          },
          "metadata": {},
          "execution_count": 16
        }
      ]
    },
    {
      "cell_type": "code",
      "source": [
        "help(round)"
      ],
      "metadata": {
        "colab": {
          "base_uri": "https://localhost:8080/"
        },
        "id": "0GV4OBxAfCwj",
        "outputId": "41bcb0c5-be69-45dd-b14e-05c1df25fd34"
      },
      "execution_count": null,
      "outputs": [
        {
          "output_type": "stream",
          "name": "stdout",
          "text": [
            "Help on built-in function round in module builtins:\n",
            "\n",
            "round(number, ndigits=None)\n",
            "    Round a number to a given precision in decimal digits.\n",
            "    \n",
            "    The return value is an integer if ndigits is omitted or None.  Otherwise\n",
            "    the return value has the same type as the number.  ndigits may be negative.\n",
            "\n"
          ]
        }
      ]
    },
    {
      "cell_type": "code",
      "source": [
        "round(media,1)"
      ],
      "metadata": {
        "colab": {
          "base_uri": "https://localhost:8080/"
        },
        "id": "U2MUyBhCfGMN",
        "outputId": "d1eafa77-aaa3-4f8d-da47-1b475ec96cc4"
      },
      "execution_count": null,
      "outputs": [
        {
          "output_type": "execute_result",
          "data": {
            "text/plain": [
              "8.3"
            ]
          },
          "metadata": {},
          "execution_count": 19
        }
      ]
    },
    {
      "cell_type": "markdown",
      "source": [
        "Criando suas proprias funcões\n",
        "\n",
        "\n",
        "```\n",
        "def <nome>(Parametro):\n",
        "  <instruções>\n",
        "```\n",
        "\n"
      ],
      "metadata": {
        "id": "8sxymdCbgLwM"
      }
    },
    {
      "cell_type": "code",
      "source": [
        "def media (nota_1,nota_2,nota_3):\n",
        "  calculo = (nota_1 + nota_2 + nota_3) / 3\n",
        "  print(calculo)\n"
      ],
      "metadata": {
        "id": "uODwsCeNfjpY"
      },
      "execution_count": null,
      "outputs": []
    },
    {
      "cell_type": "code",
      "source": [
        "media(3, 6, 9)\n"
      ],
      "metadata": {
        "colab": {
          "base_uri": "https://localhost:8080/"
        },
        "id": "aKfKNuCyjnT5",
        "outputId": "5cbc6f67-6a31-47d3-fb20-8e3098042558"
      },
      "execution_count": null,
      "outputs": [
        {
          "output_type": "stream",
          "name": "stdout",
          "text": [
            "6.0\n"
          ]
        }
      ]
    },
    {
      "cell_type": "code",
      "source": [
        "nota1 = 7\n",
        "nota2 = 8\n",
        "nota3 = 6\n",
        "\n",
        "media(nota1,nota2,nota3)"
      ],
      "metadata": {
        "colab": {
          "base_uri": "https://localhost:8080/"
        },
        "id": "r7BZDcaxjwkO",
        "outputId": "c295a65f-8a49-4a23-939e-4fb80abe5e25"
      },
      "execution_count": null,
      "outputs": [
        {
          "output_type": "stream",
          "name": "stdout",
          "text": [
            "7.0\n"
          ]
        }
      ]
    },
    {
      "cell_type": "code",
      "source": [
        "notas_alunos = [8, 9.6, 3.9, 7, 10, 2.2]\n",
        "def media_notas (lista_notas):\n",
        "  mediaNota = sum(lista_notas) / len(lista_notas)\n",
        "  return mediaNota\n",
        "\n",
        "resultado = round(media_notas(notas_alunos),1)\n",
        "resultado\n"
      ],
      "metadata": {
        "colab": {
          "base_uri": "https://localhost:8080/"
        },
        "id": "ERSgJ41tj962",
        "outputId": "eab64ccd-3fa6-4b46-d3b2-78743b5f4914"
      },
      "execution_count": null,
      "outputs": [
        {
          "output_type": "execute_result",
          "data": {
            "text/plain": [
              "6.8"
            ]
          },
          "metadata": {},
          "execution_count": 29
        }
      ]
    },
    {
      "cell_type": "code",
      "source": [],
      "metadata": {
        "id": "nou_-rH9lb-u"
      },
      "execution_count": null,
      "outputs": []
    },
    {
      "cell_type": "code",
      "source": [],
      "metadata": {
        "id": "jqGdpVrymVkY"
      },
      "execution_count": null,
      "outputs": []
    }
  ]
}